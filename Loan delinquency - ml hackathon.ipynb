{
 "cells": [
  {
   "cell_type": "code",
   "execution_count": 1,
   "metadata": {},
   "outputs": [],
   "source": [
    "import numpy as np\n",
    "import pandas as pd\n",
    "import seaborn as sns\n",
    "import matplotlib.pyplot as plt\n",
    "%matplotlib inline\n",
    "\n",
    "import warnings\n",
    "warnings.filterwarnings(\"ignore\")"
   ]
  },
  {
   "cell_type": "code",
   "execution_count": 2,
   "metadata": {},
   "outputs": [],
   "source": [
    "df=pd.read_csv('train.csv')"
   ]
  },
  {
   "cell_type": "code",
   "execution_count": 3,
   "metadata": {},
   "outputs": [
    {
     "data": {
      "text/html": [
       "<div>\n",
       "<style scoped>\n",
       "    .dataframe tbody tr th:only-of-type {\n",
       "        vertical-align: middle;\n",
       "    }\n",
       "\n",
       "    .dataframe tbody tr th {\n",
       "        vertical-align: top;\n",
       "    }\n",
       "\n",
       "    .dataframe thead th {\n",
       "        text-align: right;\n",
       "    }\n",
       "</style>\n",
       "<table border=\"1\" class=\"dataframe\">\n",
       "  <thead>\n",
       "    <tr style=\"text-align: right;\">\n",
       "      <th></th>\n",
       "      <th>loan_id</th>\n",
       "      <th>source</th>\n",
       "      <th>financial_institution</th>\n",
       "      <th>interest_rate</th>\n",
       "      <th>unpaid_principal_bal</th>\n",
       "      <th>loan_term</th>\n",
       "      <th>origination_date</th>\n",
       "      <th>first_payment_date</th>\n",
       "      <th>loan_to_value</th>\n",
       "      <th>number_of_borrowers</th>\n",
       "      <th>...</th>\n",
       "      <th>m4</th>\n",
       "      <th>m5</th>\n",
       "      <th>m6</th>\n",
       "      <th>m7</th>\n",
       "      <th>m8</th>\n",
       "      <th>m9</th>\n",
       "      <th>m10</th>\n",
       "      <th>m11</th>\n",
       "      <th>m12</th>\n",
       "      <th>m13</th>\n",
       "    </tr>\n",
       "  </thead>\n",
       "  <tbody>\n",
       "    <tr>\n",
       "      <th>0</th>\n",
       "      <td>268055008619</td>\n",
       "      <td>Z</td>\n",
       "      <td>Turner, Baldwin and Rhodes</td>\n",
       "      <td>4.250</td>\n",
       "      <td>214000</td>\n",
       "      <td>360</td>\n",
       "      <td>2012-03-01</td>\n",
       "      <td>05/2012</td>\n",
       "      <td>95</td>\n",
       "      <td>1.0</td>\n",
       "      <td>...</td>\n",
       "      <td>0</td>\n",
       "      <td>0</td>\n",
       "      <td>0</td>\n",
       "      <td>1</td>\n",
       "      <td>0</td>\n",
       "      <td>0</td>\n",
       "      <td>0</td>\n",
       "      <td>0</td>\n",
       "      <td>0</td>\n",
       "      <td>1</td>\n",
       "    </tr>\n",
       "    <tr>\n",
       "      <th>1</th>\n",
       "      <td>672831657627</td>\n",
       "      <td>Y</td>\n",
       "      <td>Swanson, Newton and Miller</td>\n",
       "      <td>4.875</td>\n",
       "      <td>144000</td>\n",
       "      <td>360</td>\n",
       "      <td>2012-01-01</td>\n",
       "      <td>03/2012</td>\n",
       "      <td>72</td>\n",
       "      <td>1.0</td>\n",
       "      <td>...</td>\n",
       "      <td>0</td>\n",
       "      <td>0</td>\n",
       "      <td>0</td>\n",
       "      <td>0</td>\n",
       "      <td>0</td>\n",
       "      <td>0</td>\n",
       "      <td>0</td>\n",
       "      <td>1</td>\n",
       "      <td>0</td>\n",
       "      <td>1</td>\n",
       "    </tr>\n",
       "    <tr>\n",
       "      <th>2</th>\n",
       "      <td>742515242108</td>\n",
       "      <td>Z</td>\n",
       "      <td>Thornton-Davis</td>\n",
       "      <td>3.250</td>\n",
       "      <td>366000</td>\n",
       "      <td>180</td>\n",
       "      <td>2012-01-01</td>\n",
       "      <td>03/2012</td>\n",
       "      <td>49</td>\n",
       "      <td>1.0</td>\n",
       "      <td>...</td>\n",
       "      <td>0</td>\n",
       "      <td>0</td>\n",
       "      <td>0</td>\n",
       "      <td>0</td>\n",
       "      <td>0</td>\n",
       "      <td>0</td>\n",
       "      <td>0</td>\n",
       "      <td>0</td>\n",
       "      <td>0</td>\n",
       "      <td>1</td>\n",
       "    </tr>\n",
       "    <tr>\n",
       "      <th>3</th>\n",
       "      <td>601385667462</td>\n",
       "      <td>X</td>\n",
       "      <td>OTHER</td>\n",
       "      <td>4.750</td>\n",
       "      <td>135000</td>\n",
       "      <td>360</td>\n",
       "      <td>2012-02-01</td>\n",
       "      <td>04/2012</td>\n",
       "      <td>46</td>\n",
       "      <td>2.0</td>\n",
       "      <td>...</td>\n",
       "      <td>0</td>\n",
       "      <td>0</td>\n",
       "      <td>0</td>\n",
       "      <td>0</td>\n",
       "      <td>0</td>\n",
       "      <td>1</td>\n",
       "      <td>1</td>\n",
       "      <td>1</td>\n",
       "      <td>1</td>\n",
       "      <td>1</td>\n",
       "    </tr>\n",
       "    <tr>\n",
       "      <th>4</th>\n",
       "      <td>273870029961</td>\n",
       "      <td>X</td>\n",
       "      <td>OTHER</td>\n",
       "      <td>4.750</td>\n",
       "      <td>124000</td>\n",
       "      <td>360</td>\n",
       "      <td>2012-02-01</td>\n",
       "      <td>04/2012</td>\n",
       "      <td>80</td>\n",
       "      <td>1.0</td>\n",
       "      <td>...</td>\n",
       "      <td>3</td>\n",
       "      <td>4</td>\n",
       "      <td>5</td>\n",
       "      <td>6</td>\n",
       "      <td>7</td>\n",
       "      <td>8</td>\n",
       "      <td>9</td>\n",
       "      <td>10</td>\n",
       "      <td>11</td>\n",
       "      <td>1</td>\n",
       "    </tr>\n",
       "    <tr>\n",
       "      <th>5</th>\n",
       "      <td>769060024464</td>\n",
       "      <td>Y</td>\n",
       "      <td>Browning-Hart</td>\n",
       "      <td>4.375</td>\n",
       "      <td>150000</td>\n",
       "      <td>360</td>\n",
       "      <td>2012-02-01</td>\n",
       "      <td>04/2012</td>\n",
       "      <td>80</td>\n",
       "      <td>1.0</td>\n",
       "      <td>...</td>\n",
       "      <td>0</td>\n",
       "      <td>0</td>\n",
       "      <td>0</td>\n",
       "      <td>0</td>\n",
       "      <td>0</td>\n",
       "      <td>0</td>\n",
       "      <td>0</td>\n",
       "      <td>0</td>\n",
       "      <td>0</td>\n",
       "      <td>1</td>\n",
       "    </tr>\n",
       "    <tr>\n",
       "      <th>6</th>\n",
       "      <td>148071614687</td>\n",
       "      <td>X</td>\n",
       "      <td>OTHER</td>\n",
       "      <td>4.000</td>\n",
       "      <td>59000</td>\n",
       "      <td>360</td>\n",
       "      <td>2012-02-01</td>\n",
       "      <td>04/2012</td>\n",
       "      <td>95</td>\n",
       "      <td>1.0</td>\n",
       "      <td>...</td>\n",
       "      <td>0</td>\n",
       "      <td>0</td>\n",
       "      <td>0</td>\n",
       "      <td>0</td>\n",
       "      <td>0</td>\n",
       "      <td>0</td>\n",
       "      <td>0</td>\n",
       "      <td>0</td>\n",
       "      <td>0</td>\n",
       "      <td>1</td>\n",
       "    </tr>\n",
       "    <tr>\n",
       "      <th>7</th>\n",
       "      <td>853383953266</td>\n",
       "      <td>Y</td>\n",
       "      <td>Browning-Hart</td>\n",
       "      <td>4.500</td>\n",
       "      <td>319000</td>\n",
       "      <td>300</td>\n",
       "      <td>2012-01-01</td>\n",
       "      <td>03/2012</td>\n",
       "      <td>62</td>\n",
       "      <td>1.0</td>\n",
       "      <td>...</td>\n",
       "      <td>0</td>\n",
       "      <td>0</td>\n",
       "      <td>0</td>\n",
       "      <td>0</td>\n",
       "      <td>0</td>\n",
       "      <td>0</td>\n",
       "      <td>0</td>\n",
       "      <td>0</td>\n",
       "      <td>0</td>\n",
       "      <td>1</td>\n",
       "    </tr>\n",
       "    <tr>\n",
       "      <th>8</th>\n",
       "      <td>423590072335</td>\n",
       "      <td>X</td>\n",
       "      <td>Browning-Hart</td>\n",
       "      <td>4.000</td>\n",
       "      <td>520000</td>\n",
       "      <td>360</td>\n",
       "      <td>2012-03-01</td>\n",
       "      <td>05/2012</td>\n",
       "      <td>76</td>\n",
       "      <td>1.0</td>\n",
       "      <td>...</td>\n",
       "      <td>0</td>\n",
       "      <td>1</td>\n",
       "      <td>0</td>\n",
       "      <td>1</td>\n",
       "      <td>0</td>\n",
       "      <td>1</td>\n",
       "      <td>2</td>\n",
       "      <td>0</td>\n",
       "      <td>1</td>\n",
       "      <td>1</td>\n",
       "    </tr>\n",
       "    <tr>\n",
       "      <th>9</th>\n",
       "      <td>308990846816</td>\n",
       "      <td>X</td>\n",
       "      <td>OTHER</td>\n",
       "      <td>4.000</td>\n",
       "      <td>214000</td>\n",
       "      <td>360</td>\n",
       "      <td>2012-01-01</td>\n",
       "      <td>03/2012</td>\n",
       "      <td>95</td>\n",
       "      <td>2.0</td>\n",
       "      <td>...</td>\n",
       "      <td>0</td>\n",
       "      <td>0</td>\n",
       "      <td>1</td>\n",
       "      <td>1</td>\n",
       "      <td>1</td>\n",
       "      <td>1</td>\n",
       "      <td>1</td>\n",
       "      <td>2</td>\n",
       "      <td>2</td>\n",
       "      <td>1</td>\n",
       "    </tr>\n",
       "  </tbody>\n",
       "</table>\n",
       "<p>10 rows × 29 columns</p>\n",
       "</div>"
      ],
      "text/plain": [
       "        loan_id source       financial_institution  interest_rate  \\\n",
       "0  268055008619      Z  Turner, Baldwin and Rhodes          4.250   \n",
       "1  672831657627      Y  Swanson, Newton and Miller          4.875   \n",
       "2  742515242108      Z              Thornton-Davis          3.250   \n",
       "3  601385667462      X                       OTHER          4.750   \n",
       "4  273870029961      X                       OTHER          4.750   \n",
       "5  769060024464      Y               Browning-Hart          4.375   \n",
       "6  148071614687      X                       OTHER          4.000   \n",
       "7  853383953266      Y               Browning-Hart          4.500   \n",
       "8  423590072335      X               Browning-Hart          4.000   \n",
       "9  308990846816      X                       OTHER          4.000   \n",
       "\n",
       "   unpaid_principal_bal  loan_term origination_date first_payment_date  \\\n",
       "0                214000        360       2012-03-01            05/2012   \n",
       "1                144000        360       2012-01-01            03/2012   \n",
       "2                366000        180       2012-01-01            03/2012   \n",
       "3                135000        360       2012-02-01            04/2012   \n",
       "4                124000        360       2012-02-01            04/2012   \n",
       "5                150000        360       2012-02-01            04/2012   \n",
       "6                 59000        360       2012-02-01            04/2012   \n",
       "7                319000        300       2012-01-01            03/2012   \n",
       "8                520000        360       2012-03-01            05/2012   \n",
       "9                214000        360       2012-01-01            03/2012   \n",
       "\n",
       "   loan_to_value  number_of_borrowers ...   m4  m5 m6  m7  m8  m9  m10  m11  \\\n",
       "0             95                  1.0 ...    0   0  0   1   0   0    0    0   \n",
       "1             72                  1.0 ...    0   0  0   0   0   0    0    1   \n",
       "2             49                  1.0 ...    0   0  0   0   0   0    0    0   \n",
       "3             46                  2.0 ...    0   0  0   0   0   1    1    1   \n",
       "4             80                  1.0 ...    3   4  5   6   7   8    9   10   \n",
       "5             80                  1.0 ...    0   0  0   0   0   0    0    0   \n",
       "6             95                  1.0 ...    0   0  0   0   0   0    0    0   \n",
       "7             62                  1.0 ...    0   0  0   0   0   0    0    0   \n",
       "8             76                  1.0 ...    0   1  0   1   0   1    2    0   \n",
       "9             95                  2.0 ...    0   0  1   1   1   1    1    2   \n",
       "\n",
       "   m12  m13  \n",
       "0    0    1  \n",
       "1    0    1  \n",
       "2    0    1  \n",
       "3    1    1  \n",
       "4   11    1  \n",
       "5    0    1  \n",
       "6    0    1  \n",
       "7    0    1  \n",
       "8    1    1  \n",
       "9    2    1  \n",
       "\n",
       "[10 rows x 29 columns]"
      ]
     },
     "execution_count": 3,
     "metadata": {},
     "output_type": "execute_result"
    }
   ],
   "source": [
    "df.head(10)"
   ]
  },
  {
   "cell_type": "code",
   "execution_count": 4,
   "metadata": {},
   "outputs": [
    {
     "data": {
      "text/plain": [
       "(116058, 29)"
      ]
     },
     "execution_count": 4,
     "metadata": {},
     "output_type": "execute_result"
    }
   ],
   "source": [
    "df.shape"
   ]
  },
  {
   "cell_type": "code",
   "execution_count": 5,
   "metadata": {},
   "outputs": [
    {
     "name": "stdout",
     "output_type": "stream",
     "text": [
      "<class 'pandas.core.frame.DataFrame'>\n",
      "RangeIndex: 116058 entries, 0 to 116057\n",
      "Data columns (total 29 columns):\n",
      "loan_id                     116058 non-null int64\n",
      "source                      116058 non-null object\n",
      "financial_institution       116058 non-null object\n",
      "interest_rate               116058 non-null float64\n",
      "unpaid_principal_bal        116058 non-null int64\n",
      "loan_term                   116058 non-null int64\n",
      "origination_date            116058 non-null object\n",
      "first_payment_date          116058 non-null object\n",
      "loan_to_value               116058 non-null int64\n",
      "number_of_borrowers         116058 non-null float64\n",
      "debt_to_income_ratio        116058 non-null float64\n",
      "borrower_credit_score       116058 non-null float64\n",
      "loan_purpose                116058 non-null object\n",
      "insurance_percent           116058 non-null float64\n",
      "co-borrower_credit_score    116058 non-null float64\n",
      "insurance_type              116058 non-null float64\n",
      "m1                          116058 non-null int64\n",
      "m2                          116058 non-null int64\n",
      "m3                          116058 non-null int64\n",
      "m4                          116058 non-null int64\n",
      "m5                          116058 non-null int64\n",
      "m6                          116058 non-null int64\n",
      "m7                          116058 non-null int64\n",
      "m8                          116058 non-null int64\n",
      "m9                          116058 non-null int64\n",
      "m10                         116058 non-null int64\n",
      "m11                         116058 non-null int64\n",
      "m12                         116058 non-null int64\n",
      "m13                         116058 non-null int64\n",
      "dtypes: float64(7), int64(17), object(5)\n",
      "memory usage: 25.7+ MB\n"
     ]
    }
   ],
   "source": [
    "df.info()"
   ]
  },
  {
   "cell_type": "code",
   "execution_count": 6,
   "metadata": {},
   "outputs": [
    {
     "data": {
      "text/plain": [
       "loan_id                       int64\n",
       "source                       object\n",
       "financial_institution        object\n",
       "interest_rate               float64\n",
       "unpaid_principal_bal          int64\n",
       "loan_term                     int64\n",
       "origination_date             object\n",
       "first_payment_date           object\n",
       "loan_to_value                 int64\n",
       "number_of_borrowers         float64\n",
       "debt_to_income_ratio        float64\n",
       "borrower_credit_score       float64\n",
       "loan_purpose                 object\n",
       "insurance_percent           float64\n",
       "co-borrower_credit_score    float64\n",
       "insurance_type              float64\n",
       "m1                            int64\n",
       "m2                            int64\n",
       "m3                            int64\n",
       "m4                            int64\n",
       "m5                            int64\n",
       "m6                            int64\n",
       "m7                            int64\n",
       "m8                            int64\n",
       "m9                            int64\n",
       "m10                           int64\n",
       "m11                           int64\n",
       "m12                           int64\n",
       "m13                           int64\n",
       "dtype: object"
      ]
     },
     "execution_count": 6,
     "metadata": {},
     "output_type": "execute_result"
    }
   ],
   "source": [
    "df.dtypes"
   ]
  },
  {
   "cell_type": "code",
   "execution_count": 7,
   "metadata": {
    "scrolled": false
   },
   "outputs": [
    {
     "data": {
      "text/html": [
       "<div>\n",
       "<style scoped>\n",
       "    .dataframe tbody tr th:only-of-type {\n",
       "        vertical-align: middle;\n",
       "    }\n",
       "\n",
       "    .dataframe tbody tr th {\n",
       "        vertical-align: top;\n",
       "    }\n",
       "\n",
       "    .dataframe thead th {\n",
       "        text-align: right;\n",
       "    }\n",
       "</style>\n",
       "<table border=\"1\" class=\"dataframe\">\n",
       "  <thead>\n",
       "    <tr style=\"text-align: right;\">\n",
       "      <th></th>\n",
       "      <th>count</th>\n",
       "      <th>mean</th>\n",
       "      <th>std</th>\n",
       "      <th>min</th>\n",
       "      <th>25%</th>\n",
       "      <th>50%</th>\n",
       "      <th>75%</th>\n",
       "      <th>max</th>\n",
       "    </tr>\n",
       "  </thead>\n",
       "  <tbody>\n",
       "    <tr>\n",
       "      <th>loan_id</th>\n",
       "      <td>116058.0</td>\n",
       "      <td>5.494155e+11</td>\n",
       "      <td>2.597560e+11</td>\n",
       "      <td>1.000009e+11</td>\n",
       "      <td>3.244656e+11</td>\n",
       "      <td>5.486239e+11</td>\n",
       "      <td>7.743034e+11</td>\n",
       "      <td>9.999971e+11</td>\n",
       "    </tr>\n",
       "    <tr>\n",
       "      <th>interest_rate</th>\n",
       "      <td>116058.0</td>\n",
       "      <td>3.868961e+00</td>\n",
       "      <td>4.610200e-01</td>\n",
       "      <td>2.250000e+00</td>\n",
       "      <td>3.500000e+00</td>\n",
       "      <td>3.875000e+00</td>\n",
       "      <td>4.125000e+00</td>\n",
       "      <td>6.750000e+00</td>\n",
       "    </tr>\n",
       "    <tr>\n",
       "      <th>unpaid_principal_bal</th>\n",
       "      <td>116058.0</td>\n",
       "      <td>2.082262e+05</td>\n",
       "      <td>1.146851e+05</td>\n",
       "      <td>1.100000e+04</td>\n",
       "      <td>1.200000e+05</td>\n",
       "      <td>1.830000e+05</td>\n",
       "      <td>2.780000e+05</td>\n",
       "      <td>1.200000e+06</td>\n",
       "    </tr>\n",
       "    <tr>\n",
       "      <th>loan_term</th>\n",
       "      <td>116058.0</td>\n",
       "      <td>2.922810e+02</td>\n",
       "      <td>8.976241e+01</td>\n",
       "      <td>6.000000e+01</td>\n",
       "      <td>1.800000e+02</td>\n",
       "      <td>3.600000e+02</td>\n",
       "      <td>3.600000e+02</td>\n",
       "      <td>3.600000e+02</td>\n",
       "    </tr>\n",
       "    <tr>\n",
       "      <th>loan_to_value</th>\n",
       "      <td>116058.0</td>\n",
       "      <td>6.743194e+01</td>\n",
       "      <td>1.729172e+01</td>\n",
       "      <td>6.000000e+00</td>\n",
       "      <td>5.700000e+01</td>\n",
       "      <td>7.200000e+01</td>\n",
       "      <td>8.000000e+01</td>\n",
       "      <td>9.700000e+01</td>\n",
       "    </tr>\n",
       "    <tr>\n",
       "      <th>number_of_borrowers</th>\n",
       "      <td>116058.0</td>\n",
       "      <td>1.593186e+00</td>\n",
       "      <td>4.912417e-01</td>\n",
       "      <td>1.000000e+00</td>\n",
       "      <td>1.000000e+00</td>\n",
       "      <td>2.000000e+00</td>\n",
       "      <td>2.000000e+00</td>\n",
       "      <td>2.000000e+00</td>\n",
       "    </tr>\n",
       "    <tr>\n",
       "      <th>debt_to_income_ratio</th>\n",
       "      <td>116058.0</td>\n",
       "      <td>3.074229e+01</td>\n",
       "      <td>9.730798e+00</td>\n",
       "      <td>1.000000e+00</td>\n",
       "      <td>2.300000e+01</td>\n",
       "      <td>3.100000e+01</td>\n",
       "      <td>3.900000e+01</td>\n",
       "      <td>6.400000e+01</td>\n",
       "    </tr>\n",
       "    <tr>\n",
       "      <th>borrower_credit_score</th>\n",
       "      <td>116058.0</td>\n",
       "      <td>7.699268e+02</td>\n",
       "      <td>4.221071e+01</td>\n",
       "      <td>0.000000e+00</td>\n",
       "      <td>7.510000e+02</td>\n",
       "      <td>7.820000e+02</td>\n",
       "      <td>8.000000e+02</td>\n",
       "      <td>8.400000e+02</td>\n",
       "    </tr>\n",
       "    <tr>\n",
       "      <th>insurance_percent</th>\n",
       "      <td>116058.0</td>\n",
       "      <td>2.786288e+00</td>\n",
       "      <td>8.096464e+00</td>\n",
       "      <td>0.000000e+00</td>\n",
       "      <td>0.000000e+00</td>\n",
       "      <td>0.000000e+00</td>\n",
       "      <td>0.000000e+00</td>\n",
       "      <td>4.000000e+01</td>\n",
       "    </tr>\n",
       "    <tr>\n",
       "      <th>co-borrower_credit_score</th>\n",
       "      <td>116058.0</td>\n",
       "      <td>4.596116e+02</td>\n",
       "      <td>3.819469e+02</td>\n",
       "      <td>0.000000e+00</td>\n",
       "      <td>0.000000e+00</td>\n",
       "      <td>7.400000e+02</td>\n",
       "      <td>7.910000e+02</td>\n",
       "      <td>8.360000e+02</td>\n",
       "    </tr>\n",
       "    <tr>\n",
       "      <th>insurance_type</th>\n",
       "      <td>116058.0</td>\n",
       "      <td>3.256992e-03</td>\n",
       "      <td>5.697730e-02</td>\n",
       "      <td>0.000000e+00</td>\n",
       "      <td>0.000000e+00</td>\n",
       "      <td>0.000000e+00</td>\n",
       "      <td>0.000000e+00</td>\n",
       "      <td>1.000000e+00</td>\n",
       "    </tr>\n",
       "    <tr>\n",
       "      <th>m1</th>\n",
       "      <td>116058.0</td>\n",
       "      <td>3.196678e-03</td>\n",
       "      <td>6.335350e-02</td>\n",
       "      <td>0.000000e+00</td>\n",
       "      <td>0.000000e+00</td>\n",
       "      <td>0.000000e+00</td>\n",
       "      <td>0.000000e+00</td>\n",
       "      <td>3.000000e+00</td>\n",
       "    </tr>\n",
       "    <tr>\n",
       "      <th>m2</th>\n",
       "      <td>116058.0</td>\n",
       "      <td>2.059315e-03</td>\n",
       "      <td>5.139077e-02</td>\n",
       "      <td>0.000000e+00</td>\n",
       "      <td>0.000000e+00</td>\n",
       "      <td>0.000000e+00</td>\n",
       "      <td>0.000000e+00</td>\n",
       "      <td>4.000000e+00</td>\n",
       "    </tr>\n",
       "    <tr>\n",
       "      <th>m3</th>\n",
       "      <td>116058.0</td>\n",
       "      <td>1.973151e-03</td>\n",
       "      <td>5.542726e-02</td>\n",
       "      <td>0.000000e+00</td>\n",
       "      <td>0.000000e+00</td>\n",
       "      <td>0.000000e+00</td>\n",
       "      <td>0.000000e+00</td>\n",
       "      <td>5.000000e+00</td>\n",
       "    </tr>\n",
       "    <tr>\n",
       "      <th>m4</th>\n",
       "      <td>116058.0</td>\n",
       "      <td>2.179945e-03</td>\n",
       "      <td>6.216137e-02</td>\n",
       "      <td>0.000000e+00</td>\n",
       "      <td>0.000000e+00</td>\n",
       "      <td>0.000000e+00</td>\n",
       "      <td>0.000000e+00</td>\n",
       "      <td>6.000000e+00</td>\n",
       "    </tr>\n",
       "    <tr>\n",
       "      <th>m5</th>\n",
       "      <td>116058.0</td>\n",
       "      <td>3.532716e-03</td>\n",
       "      <td>8.263768e-02</td>\n",
       "      <td>0.000000e+00</td>\n",
       "      <td>0.000000e+00</td>\n",
       "      <td>0.000000e+00</td>\n",
       "      <td>0.000000e+00</td>\n",
       "      <td>7.000000e+00</td>\n",
       "    </tr>\n",
       "    <tr>\n",
       "      <th>m6</th>\n",
       "      <td>116058.0</td>\n",
       "      <td>3.420703e-03</td>\n",
       "      <td>8.755319e-02</td>\n",
       "      <td>0.000000e+00</td>\n",
       "      <td>0.000000e+00</td>\n",
       "      <td>0.000000e+00</td>\n",
       "      <td>0.000000e+00</td>\n",
       "      <td>8.000000e+00</td>\n",
       "    </tr>\n",
       "    <tr>\n",
       "      <th>m7</th>\n",
       "      <td>116058.0</td>\n",
       "      <td>4.161712e-03</td>\n",
       "      <td>1.009613e-01</td>\n",
       "      <td>0.000000e+00</td>\n",
       "      <td>0.000000e+00</td>\n",
       "      <td>0.000000e+00</td>\n",
       "      <td>0.000000e+00</td>\n",
       "      <td>9.000000e+00</td>\n",
       "    </tr>\n",
       "    <tr>\n",
       "      <th>m8</th>\n",
       "      <td>116058.0</td>\n",
       "      <td>4.825174e-03</td>\n",
       "      <td>1.131283e-01</td>\n",
       "      <td>0.000000e+00</td>\n",
       "      <td>0.000000e+00</td>\n",
       "      <td>0.000000e+00</td>\n",
       "      <td>0.000000e+00</td>\n",
       "      <td>1.000000e+01</td>\n",
       "    </tr>\n",
       "    <tr>\n",
       "      <th>m9</th>\n",
       "      <td>116058.0</td>\n",
       "      <td>5.359389e-03</td>\n",
       "      <td>1.282417e-01</td>\n",
       "      <td>0.000000e+00</td>\n",
       "      <td>0.000000e+00</td>\n",
       "      <td>0.000000e+00</td>\n",
       "      <td>0.000000e+00</td>\n",
       "      <td>1.100000e+01</td>\n",
       "    </tr>\n",
       "    <tr>\n",
       "      <th>m10</th>\n",
       "      <td>116058.0</td>\n",
       "      <td>6.617381e-03</td>\n",
       "      <td>1.484304e-01</td>\n",
       "      <td>0.000000e+00</td>\n",
       "      <td>0.000000e+00</td>\n",
       "      <td>0.000000e+00</td>\n",
       "      <td>0.000000e+00</td>\n",
       "      <td>1.200000e+01</td>\n",
       "    </tr>\n",
       "    <tr>\n",
       "      <th>m11</th>\n",
       "      <td>116058.0</td>\n",
       "      <td>7.108515e-03</td>\n",
       "      <td>1.628841e-01</td>\n",
       "      <td>0.000000e+00</td>\n",
       "      <td>0.000000e+00</td>\n",
       "      <td>0.000000e+00</td>\n",
       "      <td>0.000000e+00</td>\n",
       "      <td>1.300000e+01</td>\n",
       "    </tr>\n",
       "    <tr>\n",
       "      <th>m12</th>\n",
       "      <td>116058.0</td>\n",
       "      <td>8.064933e-03</td>\n",
       "      <td>1.781283e-01</td>\n",
       "      <td>0.000000e+00</td>\n",
       "      <td>0.000000e+00</td>\n",
       "      <td>0.000000e+00</td>\n",
       "      <td>0.000000e+00</td>\n",
       "      <td>1.400000e+01</td>\n",
       "    </tr>\n",
       "    <tr>\n",
       "      <th>m13</th>\n",
       "      <td>116058.0</td>\n",
       "      <td>5.480019e-03</td>\n",
       "      <td>7.382435e-02</td>\n",
       "      <td>0.000000e+00</td>\n",
       "      <td>0.000000e+00</td>\n",
       "      <td>0.000000e+00</td>\n",
       "      <td>0.000000e+00</td>\n",
       "      <td>1.000000e+00</td>\n",
       "    </tr>\n",
       "  </tbody>\n",
       "</table>\n",
       "</div>"
      ],
      "text/plain": [
       "                             count          mean           std           min  \\\n",
       "loan_id                   116058.0  5.494155e+11  2.597560e+11  1.000009e+11   \n",
       "interest_rate             116058.0  3.868961e+00  4.610200e-01  2.250000e+00   \n",
       "unpaid_principal_bal      116058.0  2.082262e+05  1.146851e+05  1.100000e+04   \n",
       "loan_term                 116058.0  2.922810e+02  8.976241e+01  6.000000e+01   \n",
       "loan_to_value             116058.0  6.743194e+01  1.729172e+01  6.000000e+00   \n",
       "number_of_borrowers       116058.0  1.593186e+00  4.912417e-01  1.000000e+00   \n",
       "debt_to_income_ratio      116058.0  3.074229e+01  9.730798e+00  1.000000e+00   \n",
       "borrower_credit_score     116058.0  7.699268e+02  4.221071e+01  0.000000e+00   \n",
       "insurance_percent         116058.0  2.786288e+00  8.096464e+00  0.000000e+00   \n",
       "co-borrower_credit_score  116058.0  4.596116e+02  3.819469e+02  0.000000e+00   \n",
       "insurance_type            116058.0  3.256992e-03  5.697730e-02  0.000000e+00   \n",
       "m1                        116058.0  3.196678e-03  6.335350e-02  0.000000e+00   \n",
       "m2                        116058.0  2.059315e-03  5.139077e-02  0.000000e+00   \n",
       "m3                        116058.0  1.973151e-03  5.542726e-02  0.000000e+00   \n",
       "m4                        116058.0  2.179945e-03  6.216137e-02  0.000000e+00   \n",
       "m5                        116058.0  3.532716e-03  8.263768e-02  0.000000e+00   \n",
       "m6                        116058.0  3.420703e-03  8.755319e-02  0.000000e+00   \n",
       "m7                        116058.0  4.161712e-03  1.009613e-01  0.000000e+00   \n",
       "m8                        116058.0  4.825174e-03  1.131283e-01  0.000000e+00   \n",
       "m9                        116058.0  5.359389e-03  1.282417e-01  0.000000e+00   \n",
       "m10                       116058.0  6.617381e-03  1.484304e-01  0.000000e+00   \n",
       "m11                       116058.0  7.108515e-03  1.628841e-01  0.000000e+00   \n",
       "m12                       116058.0  8.064933e-03  1.781283e-01  0.000000e+00   \n",
       "m13                       116058.0  5.480019e-03  7.382435e-02  0.000000e+00   \n",
       "\n",
       "                                   25%           50%           75%  \\\n",
       "loan_id                   3.244656e+11  5.486239e+11  7.743034e+11   \n",
       "interest_rate             3.500000e+00  3.875000e+00  4.125000e+00   \n",
       "unpaid_principal_bal      1.200000e+05  1.830000e+05  2.780000e+05   \n",
       "loan_term                 1.800000e+02  3.600000e+02  3.600000e+02   \n",
       "loan_to_value             5.700000e+01  7.200000e+01  8.000000e+01   \n",
       "number_of_borrowers       1.000000e+00  2.000000e+00  2.000000e+00   \n",
       "debt_to_income_ratio      2.300000e+01  3.100000e+01  3.900000e+01   \n",
       "borrower_credit_score     7.510000e+02  7.820000e+02  8.000000e+02   \n",
       "insurance_percent         0.000000e+00  0.000000e+00  0.000000e+00   \n",
       "co-borrower_credit_score  0.000000e+00  7.400000e+02  7.910000e+02   \n",
       "insurance_type            0.000000e+00  0.000000e+00  0.000000e+00   \n",
       "m1                        0.000000e+00  0.000000e+00  0.000000e+00   \n",
       "m2                        0.000000e+00  0.000000e+00  0.000000e+00   \n",
       "m3                        0.000000e+00  0.000000e+00  0.000000e+00   \n",
       "m4                        0.000000e+00  0.000000e+00  0.000000e+00   \n",
       "m5                        0.000000e+00  0.000000e+00  0.000000e+00   \n",
       "m6                        0.000000e+00  0.000000e+00  0.000000e+00   \n",
       "m7                        0.000000e+00  0.000000e+00  0.000000e+00   \n",
       "m8                        0.000000e+00  0.000000e+00  0.000000e+00   \n",
       "m9                        0.000000e+00  0.000000e+00  0.000000e+00   \n",
       "m10                       0.000000e+00  0.000000e+00  0.000000e+00   \n",
       "m11                       0.000000e+00  0.000000e+00  0.000000e+00   \n",
       "m12                       0.000000e+00  0.000000e+00  0.000000e+00   \n",
       "m13                       0.000000e+00  0.000000e+00  0.000000e+00   \n",
       "\n",
       "                                   max  \n",
       "loan_id                   9.999971e+11  \n",
       "interest_rate             6.750000e+00  \n",
       "unpaid_principal_bal      1.200000e+06  \n",
       "loan_term                 3.600000e+02  \n",
       "loan_to_value             9.700000e+01  \n",
       "number_of_borrowers       2.000000e+00  \n",
       "debt_to_income_ratio      6.400000e+01  \n",
       "borrower_credit_score     8.400000e+02  \n",
       "insurance_percent         4.000000e+01  \n",
       "co-borrower_credit_score  8.360000e+02  \n",
       "insurance_type            1.000000e+00  \n",
       "m1                        3.000000e+00  \n",
       "m2                        4.000000e+00  \n",
       "m3                        5.000000e+00  \n",
       "m4                        6.000000e+00  \n",
       "m5                        7.000000e+00  \n",
       "m6                        8.000000e+00  \n",
       "m7                        9.000000e+00  \n",
       "m8                        1.000000e+01  \n",
       "m9                        1.100000e+01  \n",
       "m10                       1.200000e+01  \n",
       "m11                       1.300000e+01  \n",
       "m12                       1.400000e+01  \n",
       "m13                       1.000000e+00  "
      ]
     },
     "execution_count": 7,
     "metadata": {},
     "output_type": "execute_result"
    }
   ],
   "source": [
    "df.describe().T"
   ]
  },
  {
   "cell_type": "code",
   "execution_count": 8,
   "metadata": {},
   "outputs": [
    {
     "data": {
      "text/html": [
       "<div>\n",
       "<style scoped>\n",
       "    .dataframe tbody tr th:only-of-type {\n",
       "        vertical-align: middle;\n",
       "    }\n",
       "\n",
       "    .dataframe tbody tr th {\n",
       "        vertical-align: top;\n",
       "    }\n",
       "\n",
       "    .dataframe thead th {\n",
       "        text-align: right;\n",
       "    }\n",
       "</style>\n",
       "<table border=\"1\" class=\"dataframe\">\n",
       "  <thead>\n",
       "    <tr style=\"text-align: right;\">\n",
       "      <th></th>\n",
       "      <th>loan_id</th>\n",
       "      <th>interest_rate</th>\n",
       "      <th>unpaid_principal_bal</th>\n",
       "      <th>loan_term</th>\n",
       "      <th>loan_to_value</th>\n",
       "      <th>number_of_borrowers</th>\n",
       "      <th>debt_to_income_ratio</th>\n",
       "      <th>borrower_credit_score</th>\n",
       "      <th>insurance_percent</th>\n",
       "      <th>co-borrower_credit_score</th>\n",
       "      <th>...</th>\n",
       "      <th>m4</th>\n",
       "      <th>m5</th>\n",
       "      <th>m6</th>\n",
       "      <th>m7</th>\n",
       "      <th>m8</th>\n",
       "      <th>m9</th>\n",
       "      <th>m10</th>\n",
       "      <th>m11</th>\n",
       "      <th>m12</th>\n",
       "      <th>m13</th>\n",
       "    </tr>\n",
       "  </thead>\n",
       "  <tbody>\n",
       "    <tr>\n",
       "      <th>loan_id</th>\n",
       "      <td>1.000000</td>\n",
       "      <td>-0.000902</td>\n",
       "      <td>0.005385</td>\n",
       "      <td>-0.001277</td>\n",
       "      <td>0.000761</td>\n",
       "      <td>0.001739</td>\n",
       "      <td>0.003894</td>\n",
       "      <td>0.001230</td>\n",
       "      <td>0.000948</td>\n",
       "      <td>0.001919</td>\n",
       "      <td>...</td>\n",
       "      <td>-0.007563</td>\n",
       "      <td>-0.005626</td>\n",
       "      <td>-0.005968</td>\n",
       "      <td>-0.006668</td>\n",
       "      <td>-0.002793</td>\n",
       "      <td>-0.003849</td>\n",
       "      <td>-0.002362</td>\n",
       "      <td>-0.004116</td>\n",
       "      <td>-0.003572</td>\n",
       "      <td>-0.002982</td>\n",
       "    </tr>\n",
       "    <tr>\n",
       "      <th>interest_rate</th>\n",
       "      <td>-0.000902</td>\n",
       "      <td>1.000000</td>\n",
       "      <td>-0.002854</td>\n",
       "      <td>0.720734</td>\n",
       "      <td>0.273379</td>\n",
       "      <td>-0.128075</td>\n",
       "      <td>0.181988</td>\n",
       "      <td>-0.210468</td>\n",
       "      <td>0.143116</td>\n",
       "      <td>-0.138013</td>\n",
       "      <td>...</td>\n",
       "      <td>0.030543</td>\n",
       "      <td>0.035726</td>\n",
       "      <td>0.034311</td>\n",
       "      <td>0.032133</td>\n",
       "      <td>0.035393</td>\n",
       "      <td>0.035841</td>\n",
       "      <td>0.037994</td>\n",
       "      <td>0.037051</td>\n",
       "      <td>0.039708</td>\n",
       "      <td>0.054298</td>\n",
       "    </tr>\n",
       "    <tr>\n",
       "      <th>unpaid_principal_bal</th>\n",
       "      <td>0.005385</td>\n",
       "      <td>-0.002854</td>\n",
       "      <td>1.000000</td>\n",
       "      <td>0.192168</td>\n",
       "      <td>0.062447</td>\n",
       "      <td>0.130565</td>\n",
       "      <td>0.073415</td>\n",
       "      <td>0.052061</td>\n",
       "      <td>0.010926</td>\n",
       "      <td>0.132632</td>\n",
       "      <td>...</td>\n",
       "      <td>-0.010344</td>\n",
       "      <td>-0.011461</td>\n",
       "      <td>-0.007814</td>\n",
       "      <td>-0.008912</td>\n",
       "      <td>-0.009228</td>\n",
       "      <td>-0.008983</td>\n",
       "      <td>-0.005866</td>\n",
       "      <td>-0.006412</td>\n",
       "      <td>-0.008254</td>\n",
       "      <td>-0.017120</td>\n",
       "    </tr>\n",
       "    <tr>\n",
       "      <th>loan_term</th>\n",
       "      <td>-0.001277</td>\n",
       "      <td>0.720734</td>\n",
       "      <td>0.192168</td>\n",
       "      <td>1.000000</td>\n",
       "      <td>0.292565</td>\n",
       "      <td>-0.107341</td>\n",
       "      <td>0.137852</td>\n",
       "      <td>-0.072021</td>\n",
       "      <td>0.190762</td>\n",
       "      <td>-0.110268</td>\n",
       "      <td>...</td>\n",
       "      <td>0.011688</td>\n",
       "      <td>0.013645</td>\n",
       "      <td>0.011622</td>\n",
       "      <td>0.011406</td>\n",
       "      <td>0.012954</td>\n",
       "      <td>0.014031</td>\n",
       "      <td>0.015510</td>\n",
       "      <td>0.014814</td>\n",
       "      <td>0.015773</td>\n",
       "      <td>0.023502</td>\n",
       "    </tr>\n",
       "    <tr>\n",
       "      <th>loan_to_value</th>\n",
       "      <td>0.000761</td>\n",
       "      <td>0.273379</td>\n",
       "      <td>0.062447</td>\n",
       "      <td>0.292565</td>\n",
       "      <td>1.000000</td>\n",
       "      <td>-0.100898</td>\n",
       "      <td>0.126993</td>\n",
       "      <td>-0.142574</td>\n",
       "      <td>0.490128</td>\n",
       "      <td>-0.109546</td>\n",
       "      <td>...</td>\n",
       "      <td>0.009826</td>\n",
       "      <td>0.006928</td>\n",
       "      <td>0.010560</td>\n",
       "      <td>0.010243</td>\n",
       "      <td>0.009938</td>\n",
       "      <td>0.008775</td>\n",
       "      <td>0.011103</td>\n",
       "      <td>0.010856</td>\n",
       "      <td>0.010811</td>\n",
       "      <td>0.016357</td>\n",
       "    </tr>\n",
       "    <tr>\n",
       "      <th>number_of_borrowers</th>\n",
       "      <td>0.001739</td>\n",
       "      <td>-0.128075</td>\n",
       "      <td>0.130565</td>\n",
       "      <td>-0.107341</td>\n",
       "      <td>-0.100898</td>\n",
       "      <td>1.000000</td>\n",
       "      <td>-0.134395</td>\n",
       "      <td>0.120120</td>\n",
       "      <td>-0.058976</td>\n",
       "      <td>0.996498</td>\n",
       "      <td>...</td>\n",
       "      <td>-0.023442</td>\n",
       "      <td>-0.024665</td>\n",
       "      <td>-0.022337</td>\n",
       "      <td>-0.023716</td>\n",
       "      <td>-0.027472</td>\n",
       "      <td>-0.028033</td>\n",
       "      <td>-0.025946</td>\n",
       "      <td>-0.027608</td>\n",
       "      <td>-0.029661</td>\n",
       "      <td>-0.039979</td>\n",
       "    </tr>\n",
       "    <tr>\n",
       "      <th>debt_to_income_ratio</th>\n",
       "      <td>0.003894</td>\n",
       "      <td>0.181988</td>\n",
       "      <td>0.073415</td>\n",
       "      <td>0.137852</td>\n",
       "      <td>0.126993</td>\n",
       "      <td>-0.134395</td>\n",
       "      <td>1.000000</td>\n",
       "      <td>-0.184406</td>\n",
       "      <td>0.066946</td>\n",
       "      <td>-0.145145</td>\n",
       "      <td>...</td>\n",
       "      <td>0.015444</td>\n",
       "      <td>0.020784</td>\n",
       "      <td>0.021242</td>\n",
       "      <td>0.021904</td>\n",
       "      <td>0.025402</td>\n",
       "      <td>0.022836</td>\n",
       "      <td>0.024310</td>\n",
       "      <td>0.025467</td>\n",
       "      <td>0.024697</td>\n",
       "      <td>0.038033</td>\n",
       "    </tr>\n",
       "    <tr>\n",
       "      <th>borrower_credit_score</th>\n",
       "      <td>0.001230</td>\n",
       "      <td>-0.210468</td>\n",
       "      <td>0.052061</td>\n",
       "      <td>-0.072021</td>\n",
       "      <td>-0.142574</td>\n",
       "      <td>0.120120</td>\n",
       "      <td>-0.184406</td>\n",
       "      <td>1.000000</td>\n",
       "      <td>-0.062849</td>\n",
       "      <td>0.153952</td>\n",
       "      <td>...</td>\n",
       "      <td>-0.057269</td>\n",
       "      <td>-0.066448</td>\n",
       "      <td>-0.063116</td>\n",
       "      <td>-0.064656</td>\n",
       "      <td>-0.063057</td>\n",
       "      <td>-0.062565</td>\n",
       "      <td>-0.062256</td>\n",
       "      <td>-0.061407</td>\n",
       "      <td>-0.063148</td>\n",
       "      <td>-0.094215</td>\n",
       "    </tr>\n",
       "    <tr>\n",
       "      <th>insurance_percent</th>\n",
       "      <td>0.000948</td>\n",
       "      <td>0.143116</td>\n",
       "      <td>0.010926</td>\n",
       "      <td>0.190762</td>\n",
       "      <td>0.490128</td>\n",
       "      <td>-0.058976</td>\n",
       "      <td>0.066946</td>\n",
       "      <td>-0.062849</td>\n",
       "      <td>1.000000</td>\n",
       "      <td>-0.063370</td>\n",
       "      <td>...</td>\n",
       "      <td>-0.000735</td>\n",
       "      <td>-0.003598</td>\n",
       "      <td>-0.001315</td>\n",
       "      <td>-0.003097</td>\n",
       "      <td>-0.001997</td>\n",
       "      <td>-0.002225</td>\n",
       "      <td>-0.000652</td>\n",
       "      <td>-0.000102</td>\n",
       "      <td>0.000598</td>\n",
       "      <td>0.005722</td>\n",
       "    </tr>\n",
       "    <tr>\n",
       "      <th>co-borrower_credit_score</th>\n",
       "      <td>0.001919</td>\n",
       "      <td>-0.138013</td>\n",
       "      <td>0.132632</td>\n",
       "      <td>-0.110268</td>\n",
       "      <td>-0.109546</td>\n",
       "      <td>0.996498</td>\n",
       "      <td>-0.145145</td>\n",
       "      <td>0.153952</td>\n",
       "      <td>-0.063370</td>\n",
       "      <td>1.000000</td>\n",
       "      <td>...</td>\n",
       "      <td>-0.024716</td>\n",
       "      <td>-0.026393</td>\n",
       "      <td>-0.024080</td>\n",
       "      <td>-0.025423</td>\n",
       "      <td>-0.028770</td>\n",
       "      <td>-0.029218</td>\n",
       "      <td>-0.027354</td>\n",
       "      <td>-0.028930</td>\n",
       "      <td>-0.030878</td>\n",
       "      <td>-0.042651</td>\n",
       "    </tr>\n",
       "    <tr>\n",
       "      <th>insurance_type</th>\n",
       "      <td>-0.000032</td>\n",
       "      <td>0.055883</td>\n",
       "      <td>0.015985</td>\n",
       "      <td>0.028731</td>\n",
       "      <td>0.075813</td>\n",
       "      <td>-0.015769</td>\n",
       "      <td>0.016558</td>\n",
       "      <td>-0.004608</td>\n",
       "      <td>0.145292</td>\n",
       "      <td>-0.016058</td>\n",
       "      <td>...</td>\n",
       "      <td>0.000428</td>\n",
       "      <td>0.003046</td>\n",
       "      <td>0.002948</td>\n",
       "      <td>-0.002356</td>\n",
       "      <td>0.001572</td>\n",
       "      <td>-0.001210</td>\n",
       "      <td>0.002546</td>\n",
       "      <td>-0.000638</td>\n",
       "      <td>-0.000890</td>\n",
       "      <td>0.005999</td>\n",
       "    </tr>\n",
       "    <tr>\n",
       "      <th>m1</th>\n",
       "      <td>0.000389</td>\n",
       "      <td>0.017420</td>\n",
       "      <td>0.001343</td>\n",
       "      <td>0.008976</td>\n",
       "      <td>0.002303</td>\n",
       "      <td>-0.019400</td>\n",
       "      <td>0.013175</td>\n",
       "      <td>-0.036522</td>\n",
       "      <td>-0.002918</td>\n",
       "      <td>-0.020441</td>\n",
       "      <td>...</td>\n",
       "      <td>0.219213</td>\n",
       "      <td>0.192049</td>\n",
       "      <td>0.156476</td>\n",
       "      <td>0.148796</td>\n",
       "      <td>0.139711</td>\n",
       "      <td>0.143186</td>\n",
       "      <td>0.129697</td>\n",
       "      <td>0.128891</td>\n",
       "      <td>0.110718</td>\n",
       "      <td>0.092054</td>\n",
       "    </tr>\n",
       "    <tr>\n",
       "      <th>m2</th>\n",
       "      <td>-0.007118</td>\n",
       "      <td>0.026092</td>\n",
       "      <td>-0.004001</td>\n",
       "      <td>0.011739</td>\n",
       "      <td>0.008938</td>\n",
       "      <td>-0.020742</td>\n",
       "      <td>0.013743</td>\n",
       "      <td>-0.049725</td>\n",
       "      <td>-0.000433</td>\n",
       "      <td>-0.021989</td>\n",
       "      <td>...</td>\n",
       "      <td>0.459826</td>\n",
       "      <td>0.408129</td>\n",
       "      <td>0.354627</td>\n",
       "      <td>0.325504</td>\n",
       "      <td>0.278404</td>\n",
       "      <td>0.270268</td>\n",
       "      <td>0.255760</td>\n",
       "      <td>0.251472</td>\n",
       "      <td>0.225030</td>\n",
       "      <td>0.146921</td>\n",
       "    </tr>\n",
       "    <tr>\n",
       "      <th>m3</th>\n",
       "      <td>-0.000104</td>\n",
       "      <td>0.026727</td>\n",
       "      <td>-0.006026</td>\n",
       "      <td>0.010129</td>\n",
       "      <td>0.007076</td>\n",
       "      <td>-0.018936</td>\n",
       "      <td>0.013324</td>\n",
       "      <td>-0.050835</td>\n",
       "      <td>-0.003246</td>\n",
       "      <td>-0.020095</td>\n",
       "      <td>...</td>\n",
       "      <td>0.573943</td>\n",
       "      <td>0.496987</td>\n",
       "      <td>0.447824</td>\n",
       "      <td>0.406566</td>\n",
       "      <td>0.337897</td>\n",
       "      <td>0.323383</td>\n",
       "      <td>0.305280</td>\n",
       "      <td>0.303852</td>\n",
       "      <td>0.281148</td>\n",
       "      <td>0.157394</td>\n",
       "    </tr>\n",
       "    <tr>\n",
       "      <th>m4</th>\n",
       "      <td>-0.007563</td>\n",
       "      <td>0.030543</td>\n",
       "      <td>-0.010344</td>\n",
       "      <td>0.011688</td>\n",
       "      <td>0.009826</td>\n",
       "      <td>-0.023442</td>\n",
       "      <td>0.015444</td>\n",
       "      <td>-0.057269</td>\n",
       "      <td>-0.000735</td>\n",
       "      <td>-0.024716</td>\n",
       "      <td>...</td>\n",
       "      <td>1.000000</td>\n",
       "      <td>0.684547</td>\n",
       "      <td>0.587581</td>\n",
       "      <td>0.566954</td>\n",
       "      <td>0.494744</td>\n",
       "      <td>0.474123</td>\n",
       "      <td>0.450428</td>\n",
       "      <td>0.435032</td>\n",
       "      <td>0.400727</td>\n",
       "      <td>0.218956</td>\n",
       "    </tr>\n",
       "    <tr>\n",
       "      <th>m5</th>\n",
       "      <td>-0.005626</td>\n",
       "      <td>0.035726</td>\n",
       "      <td>-0.011461</td>\n",
       "      <td>0.013645</td>\n",
       "      <td>0.006928</td>\n",
       "      <td>-0.024665</td>\n",
       "      <td>0.020784</td>\n",
       "      <td>-0.066448</td>\n",
       "      <td>-0.003598</td>\n",
       "      <td>-0.026393</td>\n",
       "      <td>...</td>\n",
       "      <td>0.684547</td>\n",
       "      <td>1.000000</td>\n",
       "      <td>0.667621</td>\n",
       "      <td>0.624085</td>\n",
       "      <td>0.553949</td>\n",
       "      <td>0.550279</td>\n",
       "      <td>0.520029</td>\n",
       "      <td>0.507042</td>\n",
       "      <td>0.471030</td>\n",
       "      <td>0.259529</td>\n",
       "    </tr>\n",
       "    <tr>\n",
       "      <th>m6</th>\n",
       "      <td>-0.005968</td>\n",
       "      <td>0.034311</td>\n",
       "      <td>-0.007814</td>\n",
       "      <td>0.011622</td>\n",
       "      <td>0.010560</td>\n",
       "      <td>-0.022337</td>\n",
       "      <td>0.021242</td>\n",
       "      <td>-0.063116</td>\n",
       "      <td>-0.001315</td>\n",
       "      <td>-0.024080</td>\n",
       "      <td>...</td>\n",
       "      <td>0.587581</td>\n",
       "      <td>0.667621</td>\n",
       "      <td>1.000000</td>\n",
       "      <td>0.778205</td>\n",
       "      <td>0.699499</td>\n",
       "      <td>0.675990</td>\n",
       "      <td>0.637420</td>\n",
       "      <td>0.632097</td>\n",
       "      <td>0.585527</td>\n",
       "      <td>0.287712</td>\n",
       "    </tr>\n",
       "    <tr>\n",
       "      <th>m7</th>\n",
       "      <td>-0.006668</td>\n",
       "      <td>0.032133</td>\n",
       "      <td>-0.008912</td>\n",
       "      <td>0.011406</td>\n",
       "      <td>0.010243</td>\n",
       "      <td>-0.023716</td>\n",
       "      <td>0.021904</td>\n",
       "      <td>-0.064656</td>\n",
       "      <td>-0.003097</td>\n",
       "      <td>-0.025423</td>\n",
       "      <td>...</td>\n",
       "      <td>0.566954</td>\n",
       "      <td>0.624085</td>\n",
       "      <td>0.778205</td>\n",
       "      <td>1.000000</td>\n",
       "      <td>0.786592</td>\n",
       "      <td>0.742966</td>\n",
       "      <td>0.705385</td>\n",
       "      <td>0.694015</td>\n",
       "      <td>0.642545</td>\n",
       "      <td>0.309072</td>\n",
       "    </tr>\n",
       "    <tr>\n",
       "      <th>m8</th>\n",
       "      <td>-0.002793</td>\n",
       "      <td>0.035393</td>\n",
       "      <td>-0.009228</td>\n",
       "      <td>0.012954</td>\n",
       "      <td>0.009938</td>\n",
       "      <td>-0.027472</td>\n",
       "      <td>0.025402</td>\n",
       "      <td>-0.063057</td>\n",
       "      <td>-0.001997</td>\n",
       "      <td>-0.028770</td>\n",
       "      <td>...</td>\n",
       "      <td>0.494744</td>\n",
       "      <td>0.553949</td>\n",
       "      <td>0.699499</td>\n",
       "      <td>0.786592</td>\n",
       "      <td>1.000000</td>\n",
       "      <td>0.842178</td>\n",
       "      <td>0.787306</td>\n",
       "      <td>0.767348</td>\n",
       "      <td>0.721974</td>\n",
       "      <td>0.339362</td>\n",
       "    </tr>\n",
       "    <tr>\n",
       "      <th>m9</th>\n",
       "      <td>-0.003849</td>\n",
       "      <td>0.035841</td>\n",
       "      <td>-0.008983</td>\n",
       "      <td>0.014031</td>\n",
       "      <td>0.008775</td>\n",
       "      <td>-0.028033</td>\n",
       "      <td>0.022836</td>\n",
       "      <td>-0.062565</td>\n",
       "      <td>-0.002225</td>\n",
       "      <td>-0.029218</td>\n",
       "      <td>...</td>\n",
       "      <td>0.474123</td>\n",
       "      <td>0.550279</td>\n",
       "      <td>0.675990</td>\n",
       "      <td>0.742966</td>\n",
       "      <td>0.842178</td>\n",
       "      <td>1.000000</td>\n",
       "      <td>0.870422</td>\n",
       "      <td>0.839257</td>\n",
       "      <td>0.782674</td>\n",
       "      <td>0.369138</td>\n",
       "    </tr>\n",
       "    <tr>\n",
       "      <th>m10</th>\n",
       "      <td>-0.002362</td>\n",
       "      <td>0.037994</td>\n",
       "      <td>-0.005866</td>\n",
       "      <td>0.015510</td>\n",
       "      <td>0.011103</td>\n",
       "      <td>-0.025946</td>\n",
       "      <td>0.024310</td>\n",
       "      <td>-0.062256</td>\n",
       "      <td>-0.000652</td>\n",
       "      <td>-0.027354</td>\n",
       "      <td>...</td>\n",
       "      <td>0.450428</td>\n",
       "      <td>0.520029</td>\n",
       "      <td>0.637420</td>\n",
       "      <td>0.705385</td>\n",
       "      <td>0.787306</td>\n",
       "      <td>0.870422</td>\n",
       "      <td>1.000000</td>\n",
       "      <td>0.879410</td>\n",
       "      <td>0.812710</td>\n",
       "      <td>0.367840</td>\n",
       "    </tr>\n",
       "    <tr>\n",
       "      <th>m11</th>\n",
       "      <td>-0.004116</td>\n",
       "      <td>0.037051</td>\n",
       "      <td>-0.006412</td>\n",
       "      <td>0.014814</td>\n",
       "      <td>0.010856</td>\n",
       "      <td>-0.027608</td>\n",
       "      <td>0.025467</td>\n",
       "      <td>-0.061407</td>\n",
       "      <td>-0.000102</td>\n",
       "      <td>-0.028930</td>\n",
       "      <td>...</td>\n",
       "      <td>0.435032</td>\n",
       "      <td>0.507042</td>\n",
       "      <td>0.632097</td>\n",
       "      <td>0.694015</td>\n",
       "      <td>0.767348</td>\n",
       "      <td>0.839257</td>\n",
       "      <td>0.879410</td>\n",
       "      <td>1.000000</td>\n",
       "      <td>0.878549</td>\n",
       "      <td>0.410213</td>\n",
       "    </tr>\n",
       "    <tr>\n",
       "      <th>m12</th>\n",
       "      <td>-0.003572</td>\n",
       "      <td>0.039708</td>\n",
       "      <td>-0.008254</td>\n",
       "      <td>0.015773</td>\n",
       "      <td>0.010811</td>\n",
       "      <td>-0.029661</td>\n",
       "      <td>0.024697</td>\n",
       "      <td>-0.063148</td>\n",
       "      <td>0.000598</td>\n",
       "      <td>-0.030878</td>\n",
       "      <td>...</td>\n",
       "      <td>0.400727</td>\n",
       "      <td>0.471030</td>\n",
       "      <td>0.585527</td>\n",
       "      <td>0.642545</td>\n",
       "      <td>0.721974</td>\n",
       "      <td>0.782674</td>\n",
       "      <td>0.812710</td>\n",
       "      <td>0.878549</td>\n",
       "      <td>1.000000</td>\n",
       "      <td>0.466442</td>\n",
       "    </tr>\n",
       "    <tr>\n",
       "      <th>m13</th>\n",
       "      <td>-0.002982</td>\n",
       "      <td>0.054298</td>\n",
       "      <td>-0.017120</td>\n",
       "      <td>0.023502</td>\n",
       "      <td>0.016357</td>\n",
       "      <td>-0.039979</td>\n",
       "      <td>0.038033</td>\n",
       "      <td>-0.094215</td>\n",
       "      <td>0.005722</td>\n",
       "      <td>-0.042651</td>\n",
       "      <td>...</td>\n",
       "      <td>0.218956</td>\n",
       "      <td>0.259529</td>\n",
       "      <td>0.287712</td>\n",
       "      <td>0.309072</td>\n",
       "      <td>0.339362</td>\n",
       "      <td>0.369138</td>\n",
       "      <td>0.367840</td>\n",
       "      <td>0.410213</td>\n",
       "      <td>0.466442</td>\n",
       "      <td>1.000000</td>\n",
       "    </tr>\n",
       "  </tbody>\n",
       "</table>\n",
       "<p>24 rows × 24 columns</p>\n",
       "</div>"
      ],
      "text/plain": [
       "                           loan_id  interest_rate  unpaid_principal_bal  \\\n",
       "loan_id                   1.000000      -0.000902              0.005385   \n",
       "interest_rate            -0.000902       1.000000             -0.002854   \n",
       "unpaid_principal_bal      0.005385      -0.002854              1.000000   \n",
       "loan_term                -0.001277       0.720734              0.192168   \n",
       "loan_to_value             0.000761       0.273379              0.062447   \n",
       "number_of_borrowers       0.001739      -0.128075              0.130565   \n",
       "debt_to_income_ratio      0.003894       0.181988              0.073415   \n",
       "borrower_credit_score     0.001230      -0.210468              0.052061   \n",
       "insurance_percent         0.000948       0.143116              0.010926   \n",
       "co-borrower_credit_score  0.001919      -0.138013              0.132632   \n",
       "insurance_type           -0.000032       0.055883              0.015985   \n",
       "m1                        0.000389       0.017420              0.001343   \n",
       "m2                       -0.007118       0.026092             -0.004001   \n",
       "m3                       -0.000104       0.026727             -0.006026   \n",
       "m4                       -0.007563       0.030543             -0.010344   \n",
       "m5                       -0.005626       0.035726             -0.011461   \n",
       "m6                       -0.005968       0.034311             -0.007814   \n",
       "m7                       -0.006668       0.032133             -0.008912   \n",
       "m8                       -0.002793       0.035393             -0.009228   \n",
       "m9                       -0.003849       0.035841             -0.008983   \n",
       "m10                      -0.002362       0.037994             -0.005866   \n",
       "m11                      -0.004116       0.037051             -0.006412   \n",
       "m12                      -0.003572       0.039708             -0.008254   \n",
       "m13                      -0.002982       0.054298             -0.017120   \n",
       "\n",
       "                          loan_term  loan_to_value  number_of_borrowers  \\\n",
       "loan_id                   -0.001277       0.000761             0.001739   \n",
       "interest_rate              0.720734       0.273379            -0.128075   \n",
       "unpaid_principal_bal       0.192168       0.062447             0.130565   \n",
       "loan_term                  1.000000       0.292565            -0.107341   \n",
       "loan_to_value              0.292565       1.000000            -0.100898   \n",
       "number_of_borrowers       -0.107341      -0.100898             1.000000   \n",
       "debt_to_income_ratio       0.137852       0.126993            -0.134395   \n",
       "borrower_credit_score     -0.072021      -0.142574             0.120120   \n",
       "insurance_percent          0.190762       0.490128            -0.058976   \n",
       "co-borrower_credit_score  -0.110268      -0.109546             0.996498   \n",
       "insurance_type             0.028731       0.075813            -0.015769   \n",
       "m1                         0.008976       0.002303            -0.019400   \n",
       "m2                         0.011739       0.008938            -0.020742   \n",
       "m3                         0.010129       0.007076            -0.018936   \n",
       "m4                         0.011688       0.009826            -0.023442   \n",
       "m5                         0.013645       0.006928            -0.024665   \n",
       "m6                         0.011622       0.010560            -0.022337   \n",
       "m7                         0.011406       0.010243            -0.023716   \n",
       "m8                         0.012954       0.009938            -0.027472   \n",
       "m9                         0.014031       0.008775            -0.028033   \n",
       "m10                        0.015510       0.011103            -0.025946   \n",
       "m11                        0.014814       0.010856            -0.027608   \n",
       "m12                        0.015773       0.010811            -0.029661   \n",
       "m13                        0.023502       0.016357            -0.039979   \n",
       "\n",
       "                          debt_to_income_ratio  borrower_credit_score  \\\n",
       "loan_id                               0.003894               0.001230   \n",
       "interest_rate                         0.181988              -0.210468   \n",
       "unpaid_principal_bal                  0.073415               0.052061   \n",
       "loan_term                             0.137852              -0.072021   \n",
       "loan_to_value                         0.126993              -0.142574   \n",
       "number_of_borrowers                  -0.134395               0.120120   \n",
       "debt_to_income_ratio                  1.000000              -0.184406   \n",
       "borrower_credit_score                -0.184406               1.000000   \n",
       "insurance_percent                     0.066946              -0.062849   \n",
       "co-borrower_credit_score             -0.145145               0.153952   \n",
       "insurance_type                        0.016558              -0.004608   \n",
       "m1                                    0.013175              -0.036522   \n",
       "m2                                    0.013743              -0.049725   \n",
       "m3                                    0.013324              -0.050835   \n",
       "m4                                    0.015444              -0.057269   \n",
       "m5                                    0.020784              -0.066448   \n",
       "m6                                    0.021242              -0.063116   \n",
       "m7                                    0.021904              -0.064656   \n",
       "m8                                    0.025402              -0.063057   \n",
       "m9                                    0.022836              -0.062565   \n",
       "m10                                   0.024310              -0.062256   \n",
       "m11                                   0.025467              -0.061407   \n",
       "m12                                   0.024697              -0.063148   \n",
       "m13                                   0.038033              -0.094215   \n",
       "\n",
       "                          insurance_percent  co-borrower_credit_score  \\\n",
       "loan_id                            0.000948                  0.001919   \n",
       "interest_rate                      0.143116                 -0.138013   \n",
       "unpaid_principal_bal               0.010926                  0.132632   \n",
       "loan_term                          0.190762                 -0.110268   \n",
       "loan_to_value                      0.490128                 -0.109546   \n",
       "number_of_borrowers               -0.058976                  0.996498   \n",
       "debt_to_income_ratio               0.066946                 -0.145145   \n",
       "borrower_credit_score             -0.062849                  0.153952   \n",
       "insurance_percent                  1.000000                 -0.063370   \n",
       "co-borrower_credit_score          -0.063370                  1.000000   \n",
       "insurance_type                     0.145292                 -0.016058   \n",
       "m1                                -0.002918                 -0.020441   \n",
       "m2                                -0.000433                 -0.021989   \n",
       "m3                                -0.003246                 -0.020095   \n",
       "m4                                -0.000735                 -0.024716   \n",
       "m5                                -0.003598                 -0.026393   \n",
       "m6                                -0.001315                 -0.024080   \n",
       "m7                                -0.003097                 -0.025423   \n",
       "m8                                -0.001997                 -0.028770   \n",
       "m9                                -0.002225                 -0.029218   \n",
       "m10                               -0.000652                 -0.027354   \n",
       "m11                               -0.000102                 -0.028930   \n",
       "m12                                0.000598                 -0.030878   \n",
       "m13                                0.005722                 -0.042651   \n",
       "\n",
       "                            ...           m4        m5        m6        m7  \\\n",
       "loan_id                     ...    -0.007563 -0.005626 -0.005968 -0.006668   \n",
       "interest_rate               ...     0.030543  0.035726  0.034311  0.032133   \n",
       "unpaid_principal_bal        ...    -0.010344 -0.011461 -0.007814 -0.008912   \n",
       "loan_term                   ...     0.011688  0.013645  0.011622  0.011406   \n",
       "loan_to_value               ...     0.009826  0.006928  0.010560  0.010243   \n",
       "number_of_borrowers         ...    -0.023442 -0.024665 -0.022337 -0.023716   \n",
       "debt_to_income_ratio        ...     0.015444  0.020784  0.021242  0.021904   \n",
       "borrower_credit_score       ...    -0.057269 -0.066448 -0.063116 -0.064656   \n",
       "insurance_percent           ...    -0.000735 -0.003598 -0.001315 -0.003097   \n",
       "co-borrower_credit_score    ...    -0.024716 -0.026393 -0.024080 -0.025423   \n",
       "insurance_type              ...     0.000428  0.003046  0.002948 -0.002356   \n",
       "m1                          ...     0.219213  0.192049  0.156476  0.148796   \n",
       "m2                          ...     0.459826  0.408129  0.354627  0.325504   \n",
       "m3                          ...     0.573943  0.496987  0.447824  0.406566   \n",
       "m4                          ...     1.000000  0.684547  0.587581  0.566954   \n",
       "m5                          ...     0.684547  1.000000  0.667621  0.624085   \n",
       "m6                          ...     0.587581  0.667621  1.000000  0.778205   \n",
       "m7                          ...     0.566954  0.624085  0.778205  1.000000   \n",
       "m8                          ...     0.494744  0.553949  0.699499  0.786592   \n",
       "m9                          ...     0.474123  0.550279  0.675990  0.742966   \n",
       "m10                         ...     0.450428  0.520029  0.637420  0.705385   \n",
       "m11                         ...     0.435032  0.507042  0.632097  0.694015   \n",
       "m12                         ...     0.400727  0.471030  0.585527  0.642545   \n",
       "m13                         ...     0.218956  0.259529  0.287712  0.309072   \n",
       "\n",
       "                                m8        m9       m10       m11       m12  \\\n",
       "loan_id                  -0.002793 -0.003849 -0.002362 -0.004116 -0.003572   \n",
       "interest_rate             0.035393  0.035841  0.037994  0.037051  0.039708   \n",
       "unpaid_principal_bal     -0.009228 -0.008983 -0.005866 -0.006412 -0.008254   \n",
       "loan_term                 0.012954  0.014031  0.015510  0.014814  0.015773   \n",
       "loan_to_value             0.009938  0.008775  0.011103  0.010856  0.010811   \n",
       "number_of_borrowers      -0.027472 -0.028033 -0.025946 -0.027608 -0.029661   \n",
       "debt_to_income_ratio      0.025402  0.022836  0.024310  0.025467  0.024697   \n",
       "borrower_credit_score    -0.063057 -0.062565 -0.062256 -0.061407 -0.063148   \n",
       "insurance_percent        -0.001997 -0.002225 -0.000652 -0.000102  0.000598   \n",
       "co-borrower_credit_score -0.028770 -0.029218 -0.027354 -0.028930 -0.030878   \n",
       "insurance_type            0.001572 -0.001210  0.002546 -0.000638 -0.000890   \n",
       "m1                        0.139711  0.143186  0.129697  0.128891  0.110718   \n",
       "m2                        0.278404  0.270268  0.255760  0.251472  0.225030   \n",
       "m3                        0.337897  0.323383  0.305280  0.303852  0.281148   \n",
       "m4                        0.494744  0.474123  0.450428  0.435032  0.400727   \n",
       "m5                        0.553949  0.550279  0.520029  0.507042  0.471030   \n",
       "m6                        0.699499  0.675990  0.637420  0.632097  0.585527   \n",
       "m7                        0.786592  0.742966  0.705385  0.694015  0.642545   \n",
       "m8                        1.000000  0.842178  0.787306  0.767348  0.721974   \n",
       "m9                        0.842178  1.000000  0.870422  0.839257  0.782674   \n",
       "m10                       0.787306  0.870422  1.000000  0.879410  0.812710   \n",
       "m11                       0.767348  0.839257  0.879410  1.000000  0.878549   \n",
       "m12                       0.721974  0.782674  0.812710  0.878549  1.000000   \n",
       "m13                       0.339362  0.369138  0.367840  0.410213  0.466442   \n",
       "\n",
       "                               m13  \n",
       "loan_id                  -0.002982  \n",
       "interest_rate             0.054298  \n",
       "unpaid_principal_bal     -0.017120  \n",
       "loan_term                 0.023502  \n",
       "loan_to_value             0.016357  \n",
       "number_of_borrowers      -0.039979  \n",
       "debt_to_income_ratio      0.038033  \n",
       "borrower_credit_score    -0.094215  \n",
       "insurance_percent         0.005722  \n",
       "co-borrower_credit_score -0.042651  \n",
       "insurance_type            0.005999  \n",
       "m1                        0.092054  \n",
       "m2                        0.146921  \n",
       "m3                        0.157394  \n",
       "m4                        0.218956  \n",
       "m5                        0.259529  \n",
       "m6                        0.287712  \n",
       "m7                        0.309072  \n",
       "m8                        0.339362  \n",
       "m9                        0.369138  \n",
       "m10                       0.367840  \n",
       "m11                       0.410213  \n",
       "m12                       0.466442  \n",
       "m13                       1.000000  \n",
       "\n",
       "[24 rows x 24 columns]"
      ]
     },
     "execution_count": 8,
     "metadata": {},
     "output_type": "execute_result"
    }
   ],
   "source": [
    "df.corr()"
   ]
  },
  {
   "cell_type": "code",
   "execution_count": 9,
   "metadata": {},
   "outputs": [
    {
     "data": {
      "text/plain": [
       "0"
      ]
     },
     "execution_count": 9,
     "metadata": {},
     "output_type": "execute_result"
    }
   ],
   "source": [
    "df.isnull().sum().sum()"
   ]
  },
  {
   "cell_type": "markdown",
   "metadata": {},
   "source": [
    "There is no missing value in train data. \n"
   ]
  },
  {
   "cell_type": "code",
   "execution_count": 10,
   "metadata": {},
   "outputs": [
    {
     "name": "stdout",
     "output_type": "stream",
     "text": [
      "numerical_features: (116058, 24) Index(['loan_id', 'interest_rate', 'unpaid_principal_bal', 'loan_term',\n",
      "       'loan_to_value', 'number_of_borrowers', 'debt_to_income_ratio',\n",
      "       'borrower_credit_score', 'insurance_percent',\n",
      "       'co-borrower_credit_score', 'insurance_type', 'm1', 'm2', 'm3', 'm4',\n",
      "       'm5', 'm6', 'm7', 'm8', 'm9', 'm10', 'm11', 'm12', 'm13'],\n",
      "      dtype='object')\n",
      "categorical_features: (116058, 5) Index(['source', 'financial_institution', 'origination_date',\n",
      "       'first_payment_date', 'loan_purpose'],\n",
      "      dtype='object')\n"
     ]
    }
   ],
   "source": [
    "numerical_features = df.select_dtypes(include=np.number)\n",
    "categorical_features = df.select_dtypes(include=np.object)\n",
    "print(\"numerical_features:\", numerical_features.shape, numerical_features.columns)\n",
    "print(\"categorical_features:\", categorical_features.shape, categorical_features.columns)"
   ]
  },
  {
   "cell_type": "code",
   "execution_count": 11,
   "metadata": {},
   "outputs": [
    {
     "data": {
      "text/html": [
       "<div>\n",
       "<style scoped>\n",
       "    .dataframe tbody tr th:only-of-type {\n",
       "        vertical-align: middle;\n",
       "    }\n",
       "\n",
       "    .dataframe tbody tr th {\n",
       "        vertical-align: top;\n",
       "    }\n",
       "\n",
       "    .dataframe thead th {\n",
       "        text-align: right;\n",
       "    }\n",
       "</style>\n",
       "<table border=\"1\" class=\"dataframe\">\n",
       "  <thead>\n",
       "    <tr style=\"text-align: right;\">\n",
       "      <th></th>\n",
       "      <th>Skewness</th>\n",
       "      <th>Kurtosis</th>\n",
       "    </tr>\n",
       "  </thead>\n",
       "  <tbody>\n",
       "    <tr>\n",
       "      <th>loan_id</th>\n",
       "      <td>0.004114</td>\n",
       "      <td>-1.197545</td>\n",
       "    </tr>\n",
       "    <tr>\n",
       "      <th>interest_rate</th>\n",
       "      <td>0.051326</td>\n",
       "      <td>0.169871</td>\n",
       "    </tr>\n",
       "    <tr>\n",
       "      <th>unpaid_principal_bal</th>\n",
       "      <td>0.897524</td>\n",
       "      <td>0.556988</td>\n",
       "    </tr>\n",
       "    <tr>\n",
       "      <th>loan_term</th>\n",
       "      <td>-0.692948</td>\n",
       "      <td>-1.293404</td>\n",
       "    </tr>\n",
       "    <tr>\n",
       "      <th>loan_to_value</th>\n",
       "      <td>-0.765251</td>\n",
       "      <td>0.078106</td>\n",
       "    </tr>\n",
       "    <tr>\n",
       "      <th>number_of_borrowers</th>\n",
       "      <td>-0.379397</td>\n",
       "      <td>-1.856090</td>\n",
       "    </tr>\n",
       "    <tr>\n",
       "      <th>debt_to_income_ratio</th>\n",
       "      <td>-0.194303</td>\n",
       "      <td>-0.825119</td>\n",
       "    </tr>\n",
       "    <tr>\n",
       "      <th>borrower_credit_score</th>\n",
       "      <td>-3.570945</td>\n",
       "      <td>48.502768</td>\n",
       "    </tr>\n",
       "    <tr>\n",
       "      <th>insurance_percent</th>\n",
       "      <td>2.743691</td>\n",
       "      <td>5.871008</td>\n",
       "    </tr>\n",
       "    <tr>\n",
       "      <th>co-borrower_credit_score</th>\n",
       "      <td>-0.362473</td>\n",
       "      <td>-1.849904</td>\n",
       "    </tr>\n",
       "    <tr>\n",
       "      <th>insurance_type</th>\n",
       "      <td>17.436825</td>\n",
       "      <td>302.048078</td>\n",
       "    </tr>\n",
       "    <tr>\n",
       "      <th>m1</th>\n",
       "      <td>23.399482</td>\n",
       "      <td>665.694722</td>\n",
       "    </tr>\n",
       "    <tr>\n",
       "      <th>m2</th>\n",
       "      <td>32.194304</td>\n",
       "      <td>1423.668497</td>\n",
       "    </tr>\n",
       "    <tr>\n",
       "      <th>m3</th>\n",
       "      <td>41.842040</td>\n",
       "      <td>2486.186250</td>\n",
       "    </tr>\n",
       "    <tr>\n",
       "      <th>m4</th>\n",
       "      <td>45.131291</td>\n",
       "      <td>2909.174552</td>\n",
       "    </tr>\n",
       "    <tr>\n",
       "      <th>m5</th>\n",
       "      <td>38.012865</td>\n",
       "      <td>2070.664019</td>\n",
       "    </tr>\n",
       "    <tr>\n",
       "      <th>m6</th>\n",
       "      <td>41.184750</td>\n",
       "      <td>2310.310053</td>\n",
       "    </tr>\n",
       "    <tr>\n",
       "      <th>m7</th>\n",
       "      <td>41.899434</td>\n",
       "      <td>2381.312092</td>\n",
       "    </tr>\n",
       "    <tr>\n",
       "      <th>m8</th>\n",
       "      <td>40.627494</td>\n",
       "      <td>2238.810673</td>\n",
       "    </tr>\n",
       "    <tr>\n",
       "      <th>m9</th>\n",
       "      <td>41.195572</td>\n",
       "      <td>2237.827023</td>\n",
       "    </tr>\n",
       "    <tr>\n",
       "      <th>m10</th>\n",
       "      <td>39.421632</td>\n",
       "      <td>2030.681979</td>\n",
       "    </tr>\n",
       "    <tr>\n",
       "      <th>m11</th>\n",
       "      <td>39.150505</td>\n",
       "      <td>1949.058013</td>\n",
       "    </tr>\n",
       "    <tr>\n",
       "      <th>m12</th>\n",
       "      <td>38.346412</td>\n",
       "      <td>1864.911892</td>\n",
       "    </tr>\n",
       "    <tr>\n",
       "      <th>m13</th>\n",
       "      <td>13.397436</td>\n",
       "      <td>177.494341</td>\n",
       "    </tr>\n",
       "  </tbody>\n",
       "</table>\n",
       "</div>"
      ],
      "text/plain": [
       "                           Skewness     Kurtosis\n",
       "loan_id                    0.004114    -1.197545\n",
       "interest_rate              0.051326     0.169871\n",
       "unpaid_principal_bal       0.897524     0.556988\n",
       "loan_term                 -0.692948    -1.293404\n",
       "loan_to_value             -0.765251     0.078106\n",
       "number_of_borrowers       -0.379397    -1.856090\n",
       "debt_to_income_ratio      -0.194303    -0.825119\n",
       "borrower_credit_score     -3.570945    48.502768\n",
       "insurance_percent          2.743691     5.871008\n",
       "co-borrower_credit_score  -0.362473    -1.849904\n",
       "insurance_type            17.436825   302.048078\n",
       "m1                        23.399482   665.694722\n",
       "m2                        32.194304  1423.668497\n",
       "m3                        41.842040  2486.186250\n",
       "m4                        45.131291  2909.174552\n",
       "m5                        38.012865  2070.664019\n",
       "m6                        41.184750  2310.310053\n",
       "m7                        41.899434  2381.312092\n",
       "m8                        40.627494  2238.810673\n",
       "m9                        41.195572  2237.827023\n",
       "m10                       39.421632  2030.681979\n",
       "m11                       39.150505  1949.058013\n",
       "m12                       38.346412  1864.911892\n",
       "m13                       13.397436   177.494341"
      ]
     },
     "execution_count": 11,
     "metadata": {},
     "output_type": "execute_result"
    }
   ],
   "source": [
    "# skewness & kurtosis\n",
    "pd.DataFrame({\"Skewness\": df.skew(), \"Kurtosis\": df.kurt()})"
   ]
  },
  {
   "cell_type": "markdown",
   "metadata": {},
   "source": [
    "If skewness is less than −1 or greater than +1, the distribution is highly skewed. If skewness is between −1 and −½ or between +½ and +1, the distribution is moderately skewed. If skewness is between −½ and +½, the distribution is approximately symmetric\n"
   ]
  },
  {
   "cell_type": "code",
   "execution_count": 12,
   "metadata": {},
   "outputs": [
    {
     "data": {
      "image/png": "[encoded data removed]",
      "text/plain": [
       "<Figure size 432x288 with 1 Axes>"
      ]
     },
     "metadata": {
      "needs_background": "light"
     },
     "output_type": "display_data"
    }
   ],
   "source": [
    "plt.hist(df.interest_rate)\n",
    "plt.show()"
   ]
  },
  {
   "cell_type": "code",
   "execution_count": 13,
   "metadata": {},
   "outputs": [
    {
     "data": {
      "image/png": "[encoded data removed]",
      "text/plain": [
       "<Figure size 432x288 with 1 Axes>"
      ]
     },
     "metadata": {
      "needs_background": "light"
     },
     "output_type": "display_data"
    }
   ],
   "source": [
    "plt.hist(df.unpaid_principal_bal)\n",
    "plt.show()"
   ]
  },
  {
   "cell_type": "code",
   "execution_count": 14,
   "metadata": {},
   "outputs": [
    {
     "data": {
      "image/png": "[encoded data removed]",
      "text/plain": [
       "<Figure size 432x288 with 1 Axes>"
      ]
     },
     "metadata": {
      "needs_background": "light"
     },
     "output_type": "display_data"
    }
   ],
   "source": [
    "plt.hist(df.loan_term)\n",
    "plt.show()"
   ]
  },
  {
   "cell_type": "code",
   "execution_count": 15,
   "metadata": {},
   "outputs": [
    {
     "data": {
      "image/png": "[encoded data removed]",
      "text/plain": [
       "<Figure size 432x288 with 1 Axes>"
      ]
     },
     "metadata": {
      "needs_background": "light"
     },
     "output_type": "display_data"
    }
   ],
   "source": [
    "plt.hist(df.loan_to_value)\n",
    "plt.show()"
   ]
  },
  {
   "cell_type": "code",
   "execution_count": 16,
   "metadata": {},
   "outputs": [
    {
     "data": {
      "image/png": "[encoded data removed]",
      "text/plain": [
       "<Figure size 432x288 with 1 Axes>"
      ]
     },
     "metadata": {
      "needs_background": "light"
     },
     "output_type": "display_data"
    }
   ],
   "source": [
    "plt.hist(df.number_of_borrowers)\n",
    "plt.show()"
   ]
  },
  {
   "cell_type": "code",
   "execution_count": 17,
   "metadata": {},
   "outputs": [
    {
     "data": {
      "image/png": "[encoded data removed]",
      "text/plain": [
       "<Figure size 432x288 with 1 Axes>"
      ]
     },
     "metadata": {
      "needs_background": "light"
     },
     "output_type": "display_data"
    }
   ],
   "source": [
    "plt.hist(df.debt_to_income_ratio)\n",
    "plt.show()"
   ]
  },
  {
   "cell_type": "code",
   "execution_count": 18,
   "metadata": {},
   "outputs": [
    {
     "data": {
      "image/png": "[encoded data removed]",
      "text/plain": [
       "<Figure size 432x288 with 1 Axes>"
      ]
     },
     "metadata": {
      "needs_background": "light"
     },
     "output_type": "display_data"
    }
   ],
   "source": [
    "plt.hist(df.borrower_credit_score)\n",
    "plt.show()"
   ]
  },
  {
   "cell_type": "code",
   "execution_count": 19,
   "metadata": {},
   "outputs": [
    {
     "data": {
      "image/png": "[encoded data removed]",
      "text/plain": [
       "<Figure size 432x288 with 1 Axes>"
      ]
     },
     "metadata": {
      "needs_background": "light"
     },
     "output_type": "display_data"
    }
   ],
   "source": [
    "plt.hist(df.insurance_percent)\n",
    "plt.show()"
   ]
  },
  {
   "cell_type": "code",
   "execution_count": 20,
   "metadata": {},
   "outputs": [
    {
     "data": {
      "image/png": "[encoded data removed]",
      "text/plain": [
       "<Figure size 432x288 with 1 Axes>"
      ]
     },
     "metadata": {
      "needs_background": "light"
     },
     "output_type": "display_data"
    }
   ],
   "source": [
    "plt.hist(df.insurance_type)\n",
    "plt.show()"
   ]
  },
  {
   "cell_type": "code",
   "execution_count": 21,
   "metadata": {},
   "outputs": [
    {
     "data": {
      "text/plain": [
       "<matplotlib.axes._subplots.AxesSubplot at 0x8333b73f98>"
      ]
     },
     "execution_count": 21,
     "metadata": {},
     "output_type": "execute_result"
    },
    {
     "data": {
      "image/png": "[encoded data removed]",
      "text/plain": [
       "<Figure size 432x288 with 1 Axes>"
      ]
     },
     "metadata": {
      "needs_background": "light"
     },
     "output_type": "display_data"
    }
   ],
   "source": [
    "sns.countplot(x='source',data=df)"
   ]
  },
  {
   "cell_type": "code",
   "execution_count": 22,
   "metadata": {},
   "outputs": [
    {
     "data": {
      "text/plain": [
       "X    63858\n",
       "Y    37554\n",
       "Z    14646\n",
       "Name: source, dtype: int64"
      ]
     },
     "execution_count": 22,
     "metadata": {},
     "output_type": "execute_result"
    }
   ],
   "source": [
    "df['source'].value_counts()"
   ]
  },
  {
   "cell_type": "code",
   "execution_count": 23,
   "metadata": {},
   "outputs": [
    {
     "data": {
      "text/plain": [
       "OTHER                          49699\n",
       "Browning-Hart                  31852\n",
       "Swanson, Newton and Miller      6874\n",
       "Edwards-Hoffman                 4857\n",
       "Martinez, Duffy and Bird        4715\n",
       "Miller, Mcclure and Allen       3158\n",
       "Nicholson Group                 2116\n",
       "Turner, Baldwin and Rhodes      1846\n",
       "Suarez Inc                      1790\n",
       "Cole, Brooks and Vincent        1642\n",
       "Richards-Walters                1459\n",
       "Taylor, Hunt and Rodriguez      1259\n",
       "Sanchez-Robinson                1193\n",
       "Sanchez, Hays and Wilkerson      853\n",
       "Romero, Woods and Johnson        750\n",
       "Thornton-Davis                   651\n",
       "Anderson-Taylor                  483\n",
       "Richardson Ltd                   473\n",
       "Chapman-Mcmahon                  388\n",
       "Name: financial_institution, dtype: int64"
      ]
     },
     "execution_count": 23,
     "metadata": {},
     "output_type": "execute_result"
    }
   ],
   "source": [
    "df['financial_institution'].value_counts()"
   ]
  },
  {
   "cell_type": "code",
   "execution_count": 24,
   "metadata": {},
   "outputs": [
    {
     "data": {
      "text/plain": [
       "(array([ 0,  1,  2,  3,  4,  5,  6,  7,  8,  9, 10, 11, 12, 13, 14, 15, 16,\n",
       "        17, 18]), <a list of 19 Text xticklabel objects>)"
      ]
     },
     "execution_count": 24,
     "metadata": {},
     "output_type": "execute_result"
    },
    {
     "data": {
      "image/png": "[encoded data removed]",
      "text/plain": [
       "<Figure size 432x288 with 1 Axes>"
      ]
     },
     "metadata": {
      "needs_background": "light"
     },
     "output_type": "display_data"
    }
   ],
   "source": [
    "sns.countplot(x=\"financial_institution\", data=df)\n",
    "plt.xticks(rotation =90)"
   ]
  },
  {
   "cell_type": "code",
   "execution_count": 25,
   "metadata": {},
   "outputs": [
    {
     "data": {
      "text/plain": [
       "A23    58462\n",
       "B12    29383\n",
       "C86    28213\n",
       "Name: loan_purpose, dtype: int64"
      ]
     },
     "execution_count": 25,
     "metadata": {},
     "output_type": "execute_result"
    }
   ],
   "source": [
    "df['loan_purpose'].value_counts()"
   ]
  },
  {
   "cell_type": "code",
   "execution_count": 26,
   "metadata": {},
   "outputs": [
    {
     "data": {
      "text/plain": [
       "<matplotlib.axes._subplots.AxesSubplot at 0x8333b2ca20>"
      ]
     },
     "execution_count": 26,
     "metadata": {},
     "output_type": "execute_result"
    },
    {
     "data": {
      "image/png": "[encoded data removed]",
      "text/plain": [
       "<Figure size 432x288 with 1 Axes>"
      ]
     },
     "metadata": {
      "needs_background": "light"
     },
     "output_type": "display_data"
    }
   ],
   "source": [
    "sns.countplot(x='loan_purpose',data=df)"
   ]
  },
  {
   "cell_type": "code",
   "execution_count": 27,
   "metadata": {},
   "outputs": [
    {
     "data": {
      "text/plain": [
       "0.0    115680\n",
       "1.0       378\n",
       "Name: insurance_type, dtype: int64"
      ]
     },
     "execution_count": 27,
     "metadata": {},
     "output_type": "execute_result"
    }
   ],
   "source": [
    "df['insurance_type'].value_counts()"
   ]
  },
  {
   "cell_type": "code",
   "execution_count": 28,
   "metadata": {},
   "outputs": [
    {
     "data": {
      "text/plain": [
       "<matplotlib.axes._subplots.AxesSubplot at 0x8333d501d0>"
      ]
     },
     "execution_count": 28,
     "metadata": {},
     "output_type": "execute_result"
    },
    {
     "data": {
      "image/png": "[encoded data removed]",
      "text/plain": [
       "<Figure size 432x288 with 1 Axes>"
      ]
     },
     "metadata": {
      "needs_background": "light"
     },
     "output_type": "display_data"
    }
   ],
   "source": [
    "sns.countplot(x='insurance_type',data=df)"
   ]
  },
  {
   "cell_type": "code",
   "execution_count": 29,
   "metadata": {},
   "outputs": [
    {
     "data": {
      "text/plain": [
       "0    115422\n",
       "1       636\n",
       "Name: m13, dtype: int64"
      ]
     },
     "execution_count": 29,
     "metadata": {},
     "output_type": "execute_result"
    }
   ],
   "source": [
    "df.m13.value_counts()"
   ]
  },
  {
   "cell_type": "markdown",
   "metadata": {},
   "source": [
    "### Data is highly imbalance"
   ]
  },
  {
   "cell_type": "code",
   "execution_count": 30,
   "metadata": {},
   "outputs": [
    {
     "data": {
      "text/plain": [
       "<matplotlib.axes._subplots.AxesSubplot at 0x8333d75cf8>"
      ]
     },
     "execution_count": 30,
     "metadata": {},
     "output_type": "execute_result"
    },
    {
     "data": {
      "image/png": "[encoded data removed]",
      "text/plain": [
       "<Figure size 432x288 with 1 Axes>"
      ]
     },
     "metadata": {
      "needs_background": "light"
     },
     "output_type": "display_data"
    }
   ],
   "source": [
    "sns.countplot(x='m13',data=df)"
   ]
  },
  {
   "cell_type": "code",
   "execution_count": 31,
   "metadata": {},
   "outputs": [
    {
     "data": {
      "text/plain": [
       "(array([ 0,  1,  2,  3,  4,  5,  6,  7,  8,  9, 10, 11, 12, 13, 14, 15, 16,\n",
       "        17, 18]), <a list of 19 Text xticklabel objects>)"
      ]
     },
     "execution_count": 31,
     "metadata": {},
     "output_type": "execute_result"
    },
    {
     "data": {
      "image/png": "[encoded data removed]",
      "text/plain": [
       "<Figure size 1440x720 with 1 Axes>"
      ]
     },
     "metadata": {
      "needs_background": "light"
     },
     "output_type": "display_data"
    }
   ],
   "source": [
    "plt.figure(figsize=(20, 10))\n",
    "sns.countplot(x=\"financial_institution\", hue=\"m13\", data=df)\n",
    "plt.xticks(rotation =90)"
   ]
  },
  {
   "cell_type": "code",
   "execution_count": 32,
   "metadata": {},
   "outputs": [
    {
     "data": {
      "image/png": "[encoded data removed]",
      "text/plain": [
       "<Figure size 432x288 with 1 Axes>"
      ]
     },
     "metadata": {
      "needs_background": "light"
     },
     "output_type": "display_data"
    }
   ],
   "source": [
    "sns.boxplot(x='m13', y='interest_rate', data=df)\n",
    "plt.show()"
   ]
  },
  {
   "cell_type": "code",
   "execution_count": 33,
   "metadata": {},
   "outputs": [
    {
     "data": {
      "image/png": "[encoded data removed]",
      "text/plain": [
       "<Figure size 432x288 with 1 Axes>"
      ]
     },
     "metadata": {
      "needs_background": "light"
     },
     "output_type": "display_data"
    }
   ],
   "source": [
    "sns.boxplot(x='m13', y='unpaid_principal_bal', data=df)\n",
    "plt.show()"
   ]
  },
  {
   "cell_type": "code",
   "execution_count": 34,
   "metadata": {},
   "outputs": [
    {
     "data": {
      "image/png": "[encoded data removed]",
      "text/plain": [
       "<Figure size 432x288 with 1 Axes>"
      ]
     },
     "metadata": {
      "needs_background": "light"
     },
     "output_type": "display_data"
    }
   ],
   "source": [
    "sns.boxplot(x='m13', y='loan_term', data=df)\n",
    "plt.show()"
   ]
  },
  {
   "cell_type": "code",
   "execution_count": 35,
   "metadata": {},
   "outputs": [
    {
     "data": {
      "image/png": "[encoded data removed]",
      "text/plain": [
       "<Figure size 432x288 with 1 Axes>"
      ]
     },
     "metadata": {
      "needs_background": "light"
     },
     "output_type": "display_data"
    }
   ],
   "source": [
    "sns.boxplot(x='m13', y='loan_to_value', data=df)\n",
    "plt.show()"
   ]
  },
  {
   "cell_type": "code",
   "execution_count": 36,
   "metadata": {},
   "outputs": [
    {
     "data": {
      "image/png": "[encoded data removed]",
      "text/plain": [
       "<Figure size 432x288 with 1 Axes>"
      ]
     },
     "metadata": {
      "needs_background": "light"
     },
     "output_type": "display_data"
    }
   ],
   "source": [
    "sns.boxplot(x='m13', y='number_of_borrowers', data=df)\n",
    "plt.show()"
   ]
  },
  {
   "cell_type": "code",
   "execution_count": 37,
   "metadata": {},
   "outputs": [
    {
     "data": {
      "image/png": "[encoded data removed]",
      "text/plain": [
       "<Figure size 432x288 with 1 Axes>"
      ]
     },
     "metadata": {
      "needs_background": "light"
     },
     "output_type": "display_data"
    }
   ],
   "source": [
    "sns.boxplot(x='m13', y='debt_to_income_ratio', data=df)\n",
    "plt.show()"
   ]
  },
  {
   "cell_type": "code",
   "execution_count": 38,
   "metadata": {},
   "outputs": [
    {
     "data": {
      "image/png": "[encoded data removed]",
      "text/plain": [
       "<Figure size 432x288 with 1 Axes>"
      ]
     },
     "metadata": {
      "needs_background": "light"
     },
     "output_type": "display_data"
    }
   ],
   "source": [
    "sns.boxplot(x='m13', y='borrower_credit_score', data=df)\n",
    "plt.show()"
   ]
  },
  {
   "cell_type": "markdown",
   "metadata": {},
   "source": [
    "more credit score means they are able to repay their loan EMI."
   ]
  },
  {
   "cell_type": "code",
   "execution_count": 39,
   "metadata": {},
   "outputs": [
    {
     "data": {
      "image/png": "[encoded data removed]",
      "text/plain": [
       "<Figure size 432x288 with 1 Axes>"
      ]
     },
     "metadata": {
      "needs_background": "light"
     },
     "output_type": "display_data"
    }
   ],
   "source": [
    "sns.boxplot(x='m13', y='insurance_percent', data=df)\n",
    "plt.show()"
   ]
  },
  {
   "cell_type": "code",
   "execution_count": 40,
   "metadata": {},
   "outputs": [
    {
     "data": {
      "image/png": "[encoded data removed]",
      "text/plain": [
       "<Figure size 432x288 with 1 Axes>"
      ]
     },
     "metadata": {
      "needs_background": "light"
     },
     "output_type": "display_data"
    }
   ],
   "source": [
    "sns.boxplot(x='m13', y='co-borrower_credit_score', data=df)\n",
    "plt.show()"
   ]
  },
  {
   "cell_type": "code",
   "execution_count": 41,
   "metadata": {},
   "outputs": [
    {
     "data": {
      "image/png": "[encoded data removed]",
      "text/plain": [
       "<Figure size 432x288 with 1 Axes>"
      ]
     },
     "metadata": {
      "needs_background": "light"
     },
     "output_type": "display_data"
    }
   ],
   "source": [
    "sns.boxplot(x='m13', y='insurance_type', data=df)\n",
    "plt.show()"
   ]
  },
  {
   "cell_type": "markdown",
   "metadata": {},
   "source": [
    "There are 29 features and 116058 rows with 3 categorical and 2 boolean and2 datetime columns\n",
    "\n",
    "The max loan term is only 1 year and data given is only for 3 months\n",
    "\n",
    "and origination_date and first_payment date has distance of 1 to 3 months\n",
    "\n",
    "There is NA values in dataset\n",
    "\n",
    "No duplicated in loan_id values\n",
    "\n",
    "Looks like m11,12 are very important in Month-wise loan performance column as the values are incremented when there is a delay in payment."
   ]
  },
  {
   "cell_type": "markdown",
   "metadata": {},
   "source": [
    "The count of X source is the highest among X,Y,Z\n",
    "\n",
    "Others followed by Browning Hart has the highest no of loans disbursed.\n",
    "\n",
    "Minimum loan term is 60 days and the maximum term is 360 days.\n",
    "\n",
    "Minimum intrest is 2.25 and maximum rate is 6.75\n",
    "\n",
    "The default rate of loans with a single borrower is 3 times more than two borrowers\n",
    "\n",
    "The debt-to-income (DTI) ratio is the percentage of your gross monthly income that goes to paying your monthly debt payments.A low DTI ratio demonstrates a good balance between debt and income. The debt to income ratio of Deliquent loan is from 10 to 50 whereas for non delinquent it is from 0 to 64.\n",
    "\n",
    "The highest no of loans are given for A23 category\n",
    "\n",
    "Majority of the loan have no insurance"
   ]
  },
  {
   "cell_type": "markdown",
   "metadata": {},
   "source": [
    "If 'borrower_credit_score is low, delinquency chances are high\n",
    "\n",
    "If 'debt_to_income_ratio' is high, delinquency chances are high\n",
    "\n",
    "If 'interest_rate' is high, delinquency chances are high\n",
    "\n",
    "Other variables are not showing any significant relationship with m13 delinquency\n"
   ]
  },
  {
   "cell_type": "code",
   "execution_count": 42,
   "metadata": {},
   "outputs": [
    {
     "data": {
      "text/plain": [
       "financial_institution        m13\n",
       "Anderson-Taylor              0        480\n",
       "                             1          3\n",
       "Browning-Hart                0      31677\n",
       "                             1        175\n",
       "Chapman-Mcmahon              0        388\n",
       "Cole, Brooks and Vincent     0       1630\n",
       "                             1         12\n",
       "Edwards-Hoffman              0       4816\n",
       "                             1         41\n",
       "Martinez, Duffy and Bird     0       4692\n",
       "                             1         23\n",
       "Miller, Mcclure and Allen    0       3139\n",
       "                             1         19\n",
       "Nicholson Group              0       2105\n",
       "                             1         11\n",
       "OTHER                        0      49430\n",
       "                             1        269\n",
       "Richards-Walters             0       1454\n",
       "                             1          5\n",
       "Richardson Ltd               0        472\n",
       "                             1          1\n",
       "Romero, Woods and Johnson    0        748\n",
       "                             1          2\n",
       "Sanchez, Hays and Wilkerson  0        851\n",
       "                             1          2\n",
       "Sanchez-Robinson             0       1192\n",
       "                             1          1\n",
       "Suarez Inc                   0       1785\n",
       "                             1          5\n",
       "Swanson, Newton and Miller   0       6828\n",
       "                             1         46\n",
       "Taylor, Hunt and Rodriguez   0       1255\n",
       "                             1          4\n",
       "Thornton-Davis               0        648\n",
       "                             1          3\n",
       "Turner, Baldwin and Rhodes   0       1832\n",
       "                             1         14\n",
       "Name: m13, dtype: int64"
      ]
     },
     "execution_count": 42,
     "metadata": {},
     "output_type": "execute_result"
    }
   ],
   "source": [
    "df.groupby('financial_institution')['m13'].value_counts()"
   ]
  },
  {
   "cell_type": "code",
   "execution_count": 43,
   "metadata": {},
   "outputs": [
    {
     "data": {
      "text/html": [
       "<div>\n",
       "<style scoped>\n",
       "    .dataframe tbody tr th:only-of-type {\n",
       "        vertical-align: middle;\n",
       "    }\n",
       "\n",
       "    .dataframe tbody tr th {\n",
       "        vertical-align: top;\n",
       "    }\n",
       "\n",
       "    .dataframe thead th {\n",
       "        text-align: right;\n",
       "    }\n",
       "</style>\n",
       "<table border=\"1\" class=\"dataframe\">\n",
       "  <thead>\n",
       "    <tr style=\"text-align: right;\">\n",
       "      <th>m13</th>\n",
       "      <th>0</th>\n",
       "      <th>1</th>\n",
       "    </tr>\n",
       "    <tr>\n",
       "      <th>financial_institution</th>\n",
       "      <th></th>\n",
       "      <th></th>\n",
       "    </tr>\n",
       "  </thead>\n",
       "  <tbody>\n",
       "    <tr>\n",
       "      <th>Anderson-Taylor</th>\n",
       "      <td>480</td>\n",
       "      <td>3</td>\n",
       "    </tr>\n",
       "    <tr>\n",
       "      <th>Browning-Hart</th>\n",
       "      <td>31677</td>\n",
       "      <td>175</td>\n",
       "    </tr>\n",
       "    <tr>\n",
       "      <th>Chapman-Mcmahon</th>\n",
       "      <td>388</td>\n",
       "      <td>0</td>\n",
       "    </tr>\n",
       "    <tr>\n",
       "      <th>Cole, Brooks and Vincent</th>\n",
       "      <td>1630</td>\n",
       "      <td>12</td>\n",
       "    </tr>\n",
       "    <tr>\n",
       "      <th>Edwards-Hoffman</th>\n",
       "      <td>4816</td>\n",
       "      <td>41</td>\n",
       "    </tr>\n",
       "    <tr>\n",
       "      <th>Martinez, Duffy and Bird</th>\n",
       "      <td>4692</td>\n",
       "      <td>23</td>\n",
       "    </tr>\n",
       "    <tr>\n",
       "      <th>Miller, Mcclure and Allen</th>\n",
       "      <td>3139</td>\n",
       "      <td>19</td>\n",
       "    </tr>\n",
       "    <tr>\n",
       "      <th>Nicholson Group</th>\n",
       "      <td>2105</td>\n",
       "      <td>11</td>\n",
       "    </tr>\n",
       "    <tr>\n",
       "      <th>OTHER</th>\n",
       "      <td>49430</td>\n",
       "      <td>269</td>\n",
       "    </tr>\n",
       "    <tr>\n",
       "      <th>Richards-Walters</th>\n",
       "      <td>1454</td>\n",
       "      <td>5</td>\n",
       "    </tr>\n",
       "    <tr>\n",
       "      <th>Richardson Ltd</th>\n",
       "      <td>472</td>\n",
       "      <td>1</td>\n",
       "    </tr>\n",
       "    <tr>\n",
       "      <th>Romero, Woods and Johnson</th>\n",
       "      <td>748</td>\n",
       "      <td>2</td>\n",
       "    </tr>\n",
       "    <tr>\n",
       "      <th>Sanchez, Hays and Wilkerson</th>\n",
       "      <td>851</td>\n",
       "      <td>2</td>\n",
       "    </tr>\n",
       "    <tr>\n",
       "      <th>Sanchez-Robinson</th>\n",
       "      <td>1192</td>\n",
       "      <td>1</td>\n",
       "    </tr>\n",
       "    <tr>\n",
       "      <th>Suarez Inc</th>\n",
       "      <td>1785</td>\n",
       "      <td>5</td>\n",
       "    </tr>\n",
       "    <tr>\n",
       "      <th>Swanson, Newton and Miller</th>\n",
       "      <td>6828</td>\n",
       "      <td>46</td>\n",
       "    </tr>\n",
       "    <tr>\n",
       "      <th>Taylor, Hunt and Rodriguez</th>\n",
       "      <td>1255</td>\n",
       "      <td>4</td>\n",
       "    </tr>\n",
       "    <tr>\n",
       "      <th>Thornton-Davis</th>\n",
       "      <td>648</td>\n",
       "      <td>3</td>\n",
       "    </tr>\n",
       "    <tr>\n",
       "      <th>Turner, Baldwin and Rhodes</th>\n",
       "      <td>1832</td>\n",
       "      <td>14</td>\n",
       "    </tr>\n",
       "  </tbody>\n",
       "</table>\n",
       "</div>"
      ],
      "text/plain": [
       "m13                              0    1\n",
       "financial_institution                  \n",
       "Anderson-Taylor                480    3\n",
       "Browning-Hart                31677  175\n",
       "Chapman-Mcmahon                388    0\n",
       "Cole, Brooks and Vincent      1630   12\n",
       "Edwards-Hoffman               4816   41\n",
       "Martinez, Duffy and Bird      4692   23\n",
       "Miller, Mcclure and Allen     3139   19\n",
       "Nicholson Group               2105   11\n",
       "OTHER                        49430  269\n",
       "Richards-Walters              1454    5\n",
       "Richardson Ltd                 472    1\n",
       "Romero, Woods and Johnson      748    2\n",
       "Sanchez, Hays and Wilkerson    851    2\n",
       "Sanchez-Robinson              1192    1\n",
       "Suarez Inc                    1785    5\n",
       "Swanson, Newton and Miller    6828   46\n",
       "Taylor, Hunt and Rodriguez    1255    4\n",
       "Thornton-Davis                 648    3\n",
       "Turner, Baldwin and Rhodes    1832   14"
      ]
     },
     "execution_count": 43,
     "metadata": {},
     "output_type": "execute_result"
    }
   ],
   "source": [
    "df[['financial_institution','m13']].pivot_table(index='financial_institution', columns='m13', aggfunc=len, fill_value=0)"
   ]
  },
  {
   "cell_type": "code",
   "execution_count": 44,
   "metadata": {},
   "outputs": [
    {
     "data": {
      "text/plain": [
       "<matplotlib.axes._subplots.AxesSubplot at 0x8333dc8e48>"
      ]
     },
     "execution_count": 44,
     "metadata": {},
     "output_type": "execute_result"
    },
    {
     "data": {
      "image/png": "[encoded data removed]",
      "text/plain": [
       "<Figure size 648x576 with 2 Axes>"
      ]
     },
     "metadata": {
      "needs_background": "light"
     },
     "output_type": "display_data"
    }
   ],
   "source": [
    "plt.subplots(figsize =(9, 8)) \n",
    "sns.heatmap(df.corr())"
   ]
  },
  {
   "cell_type": "markdown",
   "metadata": {},
   "source": [
    "co-borrower_credit_score and number_of_borrowers are highly co-related. so we will take number_of_borrowers and  drop co-borrower_credit_score."
   ]
  },
  {
   "cell_type": "code",
   "execution_count": 45,
   "metadata": {},
   "outputs": [],
   "source": [
    "df['No of deliquent months max'] = df[['m1','m2','m3','m4','m5','m6','m7','m8','m9','m10','m11','m12']].max(axis=1)"
   ]
  },
  {
   "cell_type": "code",
   "execution_count": 46,
   "metadata": {},
   "outputs": [],
   "source": [
    "df['Credit Score-Max'] = df[['borrower_credit_score','co-borrower_credit_score']].max(axis=1)"
   ]
  },
  {
   "cell_type": "code",
   "execution_count": 47,
   "metadata": {},
   "outputs": [
    {
     "data": {
      "text/html": [
       "<div>\n",
       "<style scoped>\n",
       "    .dataframe tbody tr th:only-of-type {\n",
       "        vertical-align: middle;\n",
       "    }\n",
       "\n",
       "    .dataframe tbody tr th {\n",
       "        vertical-align: top;\n",
       "    }\n",
       "\n",
       "    .dataframe thead th {\n",
       "        text-align: right;\n",
       "    }\n",
       "</style>\n",
       "<table border=\"1\" class=\"dataframe\">\n",
       "  <thead>\n",
       "    <tr style=\"text-align: right;\">\n",
       "      <th></th>\n",
       "      <th>loan_id</th>\n",
       "      <th>source</th>\n",
       "      <th>financial_institution</th>\n",
       "      <th>interest_rate</th>\n",
       "      <th>unpaid_principal_bal</th>\n",
       "      <th>loan_term</th>\n",
       "      <th>origination_date</th>\n",
       "      <th>first_payment_date</th>\n",
       "      <th>loan_to_value</th>\n",
       "      <th>number_of_borrowers</th>\n",
       "      <th>...</th>\n",
       "      <th>m6</th>\n",
       "      <th>m7</th>\n",
       "      <th>m8</th>\n",
       "      <th>m9</th>\n",
       "      <th>m10</th>\n",
       "      <th>m11</th>\n",
       "      <th>m12</th>\n",
       "      <th>m13</th>\n",
       "      <th>No of deliquent months max</th>\n",
       "      <th>Credit Score-Max</th>\n",
       "    </tr>\n",
       "  </thead>\n",
       "  <tbody>\n",
       "    <tr>\n",
       "      <th>0</th>\n",
       "      <td>268055008619</td>\n",
       "      <td>Z</td>\n",
       "      <td>Turner, Baldwin and Rhodes</td>\n",
       "      <td>4.250</td>\n",
       "      <td>214000</td>\n",
       "      <td>360</td>\n",
       "      <td>2012-03-01</td>\n",
       "      <td>05/2012</td>\n",
       "      <td>95</td>\n",
       "      <td>1.0</td>\n",
       "      <td>...</td>\n",
       "      <td>0</td>\n",
       "      <td>1</td>\n",
       "      <td>0</td>\n",
       "      <td>0</td>\n",
       "      <td>0</td>\n",
       "      <td>0</td>\n",
       "      <td>0</td>\n",
       "      <td>1</td>\n",
       "      <td>1</td>\n",
       "      <td>694.0</td>\n",
       "    </tr>\n",
       "    <tr>\n",
       "      <th>1</th>\n",
       "      <td>672831657627</td>\n",
       "      <td>Y</td>\n",
       "      <td>Swanson, Newton and Miller</td>\n",
       "      <td>4.875</td>\n",
       "      <td>144000</td>\n",
       "      <td>360</td>\n",
       "      <td>2012-01-01</td>\n",
       "      <td>03/2012</td>\n",
       "      <td>72</td>\n",
       "      <td>1.0</td>\n",
       "      <td>...</td>\n",
       "      <td>0</td>\n",
       "      <td>0</td>\n",
       "      <td>0</td>\n",
       "      <td>0</td>\n",
       "      <td>0</td>\n",
       "      <td>1</td>\n",
       "      <td>0</td>\n",
       "      <td>1</td>\n",
       "      <td>1</td>\n",
       "      <td>697.0</td>\n",
       "    </tr>\n",
       "    <tr>\n",
       "      <th>2</th>\n",
       "      <td>742515242108</td>\n",
       "      <td>Z</td>\n",
       "      <td>Thornton-Davis</td>\n",
       "      <td>3.250</td>\n",
       "      <td>366000</td>\n",
       "      <td>180</td>\n",
       "      <td>2012-01-01</td>\n",
       "      <td>03/2012</td>\n",
       "      <td>49</td>\n",
       "      <td>1.0</td>\n",
       "      <td>...</td>\n",
       "      <td>0</td>\n",
       "      <td>0</td>\n",
       "      <td>0</td>\n",
       "      <td>0</td>\n",
       "      <td>0</td>\n",
       "      <td>0</td>\n",
       "      <td>0</td>\n",
       "      <td>1</td>\n",
       "      <td>0</td>\n",
       "      <td>780.0</td>\n",
       "    </tr>\n",
       "    <tr>\n",
       "      <th>3</th>\n",
       "      <td>601385667462</td>\n",
       "      <td>X</td>\n",
       "      <td>OTHER</td>\n",
       "      <td>4.750</td>\n",
       "      <td>135000</td>\n",
       "      <td>360</td>\n",
       "      <td>2012-02-01</td>\n",
       "      <td>04/2012</td>\n",
       "      <td>46</td>\n",
       "      <td>2.0</td>\n",
       "      <td>...</td>\n",
       "      <td>0</td>\n",
       "      <td>0</td>\n",
       "      <td>0</td>\n",
       "      <td>1</td>\n",
       "      <td>1</td>\n",
       "      <td>1</td>\n",
       "      <td>1</td>\n",
       "      <td>1</td>\n",
       "      <td>1</td>\n",
       "      <td>638.0</td>\n",
       "    </tr>\n",
       "    <tr>\n",
       "      <th>4</th>\n",
       "      <td>273870029961</td>\n",
       "      <td>X</td>\n",
       "      <td>OTHER</td>\n",
       "      <td>4.750</td>\n",
       "      <td>124000</td>\n",
       "      <td>360</td>\n",
       "      <td>2012-02-01</td>\n",
       "      <td>04/2012</td>\n",
       "      <td>80</td>\n",
       "      <td>1.0</td>\n",
       "      <td>...</td>\n",
       "      <td>5</td>\n",
       "      <td>6</td>\n",
       "      <td>7</td>\n",
       "      <td>8</td>\n",
       "      <td>9</td>\n",
       "      <td>10</td>\n",
       "      <td>11</td>\n",
       "      <td>1</td>\n",
       "      <td>11</td>\n",
       "      <td>681.0</td>\n",
       "    </tr>\n",
       "  </tbody>\n",
       "</table>\n",
       "<p>5 rows × 31 columns</p>\n",
       "</div>"
      ],
      "text/plain": [
       "        loan_id source       financial_institution  interest_rate  \\\n",
       "0  268055008619      Z  Turner, Baldwin and Rhodes          4.250   \n",
       "1  672831657627      Y  Swanson, Newton and Miller          4.875   \n",
       "2  742515242108      Z              Thornton-Davis          3.250   \n",
       "3  601385667462      X                       OTHER          4.750   \n",
       "4  273870029961      X                       OTHER          4.750   \n",
       "\n",
       "   unpaid_principal_bal  loan_term origination_date first_payment_date  \\\n",
       "0                214000        360       2012-03-01            05/2012   \n",
       "1                144000        360       2012-01-01            03/2012   \n",
       "2                366000        180       2012-01-01            03/2012   \n",
       "3                135000        360       2012-02-01            04/2012   \n",
       "4                124000        360       2012-02-01            04/2012   \n",
       "\n",
       "   loan_to_value  number_of_borrowers        ...         m6  m7 m8  m9  m10  \\\n",
       "0             95                  1.0        ...          0   1  0   0    0   \n",
       "1             72                  1.0        ...          0   0  0   0    0   \n",
       "2             49                  1.0        ...          0   0  0   0    0   \n",
       "3             46                  2.0        ...          0   0  0   1    1   \n",
       "4             80                  1.0        ...          5   6  7   8    9   \n",
       "\n",
       "   m11  m12  m13  No of deliquent months max  Credit Score-Max  \n",
       "0    0    0    1                           1             694.0  \n",
       "1    1    0    1                           1             697.0  \n",
       "2    0    0    1                           0             780.0  \n",
       "3    1    1    1                           1             638.0  \n",
       "4   10   11    1                          11             681.0  \n",
       "\n",
       "[5 rows x 31 columns]"
      ]
     },
     "execution_count": 47,
     "metadata": {},
     "output_type": "execute_result"
    }
   ],
   "source": [
    "df.head()"
   ]
  },
  {
   "cell_type": "code",
   "execution_count": 48,
   "metadata": {},
   "outputs": [],
   "source": [
    "df=df.drop(['loan_id','origination_date','first_payment_date','co-borrower_credit_score'],axis=1)"
   ]
  },
  {
   "cell_type": "code",
   "execution_count": 49,
   "metadata": {},
   "outputs": [],
   "source": [
    "from sklearn import preprocessing\n",
    "le = preprocessing.LabelEncoder()\n",
    "df_categorical = df.select_dtypes(include=['object'])"
   ]
  },
  {
   "cell_type": "code",
   "execution_count": 50,
   "metadata": {},
   "outputs": [
    {
     "data": {
      "text/html": [
       "<div>\n",
       "<style scoped>\n",
       "    .dataframe tbody tr th:only-of-type {\n",
       "        vertical-align: middle;\n",
       "    }\n",
       "\n",
       "    .dataframe tbody tr th {\n",
       "        vertical-align: top;\n",
       "    }\n",
       "\n",
       "    .dataframe thead th {\n",
       "        text-align: right;\n",
       "    }\n",
       "</style>\n",
       "<table border=\"1\" class=\"dataframe\">\n",
       "  <thead>\n",
       "    <tr style=\"text-align: right;\">\n",
       "      <th></th>\n",
       "      <th>source</th>\n",
       "      <th>financial_institution</th>\n",
       "      <th>loan_purpose</th>\n",
       "    </tr>\n",
       "  </thead>\n",
       "  <tbody>\n",
       "    <tr>\n",
       "      <th>0</th>\n",
       "      <td>2</td>\n",
       "      <td>18</td>\n",
       "      <td>2</td>\n",
       "    </tr>\n",
       "    <tr>\n",
       "      <th>1</th>\n",
       "      <td>1</td>\n",
       "      <td>15</td>\n",
       "      <td>1</td>\n",
       "    </tr>\n",
       "    <tr>\n",
       "      <th>2</th>\n",
       "      <td>2</td>\n",
       "      <td>17</td>\n",
       "      <td>1</td>\n",
       "    </tr>\n",
       "    <tr>\n",
       "      <th>3</th>\n",
       "      <td>0</td>\n",
       "      <td>8</td>\n",
       "      <td>1</td>\n",
       "    </tr>\n",
       "    <tr>\n",
       "      <th>4</th>\n",
       "      <td>0</td>\n",
       "      <td>8</td>\n",
       "      <td>2</td>\n",
       "    </tr>\n",
       "  </tbody>\n",
       "</table>\n",
       "</div>"
      ],
      "text/plain": [
       "   source  financial_institution  loan_purpose\n",
       "0       2                     18             2\n",
       "1       1                     15             1\n",
       "2       2                     17             1\n",
       "3       0                      8             1\n",
       "4       0                      8             2"
      ]
     },
     "execution_count": 50,
     "metadata": {},
     "output_type": "execute_result"
    }
   ],
   "source": [
    "df_categorical = df_categorical.apply(le.fit_transform)\n",
    "df_categorical.head()"
   ]
  },
  {
   "cell_type": "code",
   "execution_count": 51,
   "metadata": {},
   "outputs": [
    {
     "data": {
      "text/html": [
       "<div>\n",
       "<style scoped>\n",
       "    .dataframe tbody tr th:only-of-type {\n",
       "        vertical-align: middle;\n",
       "    }\n",
       "\n",
       "    .dataframe tbody tr th {\n",
       "        vertical-align: top;\n",
       "    }\n",
       "\n",
       "    .dataframe thead th {\n",
       "        text-align: right;\n",
       "    }\n",
       "</style>\n",
       "<table border=\"1\" class=\"dataframe\">\n",
       "  <thead>\n",
       "    <tr style=\"text-align: right;\">\n",
       "      <th></th>\n",
       "      <th>interest_rate</th>\n",
       "      <th>unpaid_principal_bal</th>\n",
       "      <th>loan_term</th>\n",
       "      <th>loan_to_value</th>\n",
       "      <th>number_of_borrowers</th>\n",
       "      <th>debt_to_income_ratio</th>\n",
       "      <th>borrower_credit_score</th>\n",
       "      <th>insurance_percent</th>\n",
       "      <th>insurance_type</th>\n",
       "      <th>m1</th>\n",
       "      <th>...</th>\n",
       "      <th>m6</th>\n",
       "      <th>m7</th>\n",
       "      <th>m8</th>\n",
       "      <th>m9</th>\n",
       "      <th>m10</th>\n",
       "      <th>m11</th>\n",
       "      <th>m12</th>\n",
       "      <th>m13</th>\n",
       "      <th>No of deliquent months max</th>\n",
       "      <th>Credit Score-Max</th>\n",
       "    </tr>\n",
       "  </thead>\n",
       "  <tbody>\n",
       "    <tr>\n",
       "      <th>0</th>\n",
       "      <td>4.250</td>\n",
       "      <td>214000</td>\n",
       "      <td>360</td>\n",
       "      <td>95</td>\n",
       "      <td>1.0</td>\n",
       "      <td>22.0</td>\n",
       "      <td>694.0</td>\n",
       "      <td>30.0</td>\n",
       "      <td>0.0</td>\n",
       "      <td>0</td>\n",
       "      <td>...</td>\n",
       "      <td>0</td>\n",
       "      <td>1</td>\n",
       "      <td>0</td>\n",
       "      <td>0</td>\n",
       "      <td>0</td>\n",
       "      <td>0</td>\n",
       "      <td>0</td>\n",
       "      <td>1</td>\n",
       "      <td>1</td>\n",
       "      <td>694.0</td>\n",
       "    </tr>\n",
       "    <tr>\n",
       "      <th>1</th>\n",
       "      <td>4.875</td>\n",
       "      <td>144000</td>\n",
       "      <td>360</td>\n",
       "      <td>72</td>\n",
       "      <td>1.0</td>\n",
       "      <td>44.0</td>\n",
       "      <td>697.0</td>\n",
       "      <td>0.0</td>\n",
       "      <td>0.0</td>\n",
       "      <td>0</td>\n",
       "      <td>...</td>\n",
       "      <td>0</td>\n",
       "      <td>0</td>\n",
       "      <td>0</td>\n",
       "      <td>0</td>\n",
       "      <td>0</td>\n",
       "      <td>1</td>\n",
       "      <td>0</td>\n",
       "      <td>1</td>\n",
       "      <td>1</td>\n",
       "      <td>697.0</td>\n",
       "    </tr>\n",
       "    <tr>\n",
       "      <th>2</th>\n",
       "      <td>3.250</td>\n",
       "      <td>366000</td>\n",
       "      <td>180</td>\n",
       "      <td>49</td>\n",
       "      <td>1.0</td>\n",
       "      <td>33.0</td>\n",
       "      <td>780.0</td>\n",
       "      <td>0.0</td>\n",
       "      <td>0.0</td>\n",
       "      <td>0</td>\n",
       "      <td>...</td>\n",
       "      <td>0</td>\n",
       "      <td>0</td>\n",
       "      <td>0</td>\n",
       "      <td>0</td>\n",
       "      <td>0</td>\n",
       "      <td>0</td>\n",
       "      <td>0</td>\n",
       "      <td>1</td>\n",
       "      <td>0</td>\n",
       "      <td>780.0</td>\n",
       "    </tr>\n",
       "    <tr>\n",
       "      <th>3</th>\n",
       "      <td>4.750</td>\n",
       "      <td>135000</td>\n",
       "      <td>360</td>\n",
       "      <td>46</td>\n",
       "      <td>2.0</td>\n",
       "      <td>44.0</td>\n",
       "      <td>633.0</td>\n",
       "      <td>0.0</td>\n",
       "      <td>0.0</td>\n",
       "      <td>0</td>\n",
       "      <td>...</td>\n",
       "      <td>0</td>\n",
       "      <td>0</td>\n",
       "      <td>0</td>\n",
       "      <td>1</td>\n",
       "      <td>1</td>\n",
       "      <td>1</td>\n",
       "      <td>1</td>\n",
       "      <td>1</td>\n",
       "      <td>1</td>\n",
       "      <td>638.0</td>\n",
       "    </tr>\n",
       "    <tr>\n",
       "      <th>4</th>\n",
       "      <td>4.750</td>\n",
       "      <td>124000</td>\n",
       "      <td>360</td>\n",
       "      <td>80</td>\n",
       "      <td>1.0</td>\n",
       "      <td>43.0</td>\n",
       "      <td>681.0</td>\n",
       "      <td>0.0</td>\n",
       "      <td>0.0</td>\n",
       "      <td>0</td>\n",
       "      <td>...</td>\n",
       "      <td>5</td>\n",
       "      <td>6</td>\n",
       "      <td>7</td>\n",
       "      <td>8</td>\n",
       "      <td>9</td>\n",
       "      <td>10</td>\n",
       "      <td>11</td>\n",
       "      <td>1</td>\n",
       "      <td>11</td>\n",
       "      <td>681.0</td>\n",
       "    </tr>\n",
       "  </tbody>\n",
       "</table>\n",
       "<p>5 rows × 24 columns</p>\n",
       "</div>"
      ],
      "text/plain": [
       "   interest_rate  unpaid_principal_bal  loan_term  loan_to_value  \\\n",
       "0          4.250                214000        360             95   \n",
       "1          4.875                144000        360             72   \n",
       "2          3.250                366000        180             49   \n",
       "3          4.750                135000        360             46   \n",
       "4          4.750                124000        360             80   \n",
       "\n",
       "   number_of_borrowers  debt_to_income_ratio  borrower_credit_score  \\\n",
       "0                  1.0                  22.0                  694.0   \n",
       "1                  1.0                  44.0                  697.0   \n",
       "2                  1.0                  33.0                  780.0   \n",
       "3                  2.0                  44.0                  633.0   \n",
       "4                  1.0                  43.0                  681.0   \n",
       "\n",
       "   insurance_percent  insurance_type  m1        ...         m6  m7  m8  m9  \\\n",
       "0               30.0             0.0   0        ...          0   1   0   0   \n",
       "1                0.0             0.0   0        ...          0   0   0   0   \n",
       "2                0.0             0.0   0        ...          0   0   0   0   \n",
       "3                0.0             0.0   0        ...          0   0   0   1   \n",
       "4                0.0             0.0   0        ...          5   6   7   8   \n",
       "\n",
       "   m10  m11  m12  m13  No of deliquent months max  Credit Score-Max  \n",
       "0    0    0    0    1                           1             694.0  \n",
       "1    0    1    0    1                           1             697.0  \n",
       "2    0    0    0    1                           0             780.0  \n",
       "3    1    1    1    1                           1             638.0  \n",
       "4    9   10   11    1                          11             681.0  \n",
       "\n",
       "[5 rows x 24 columns]"
      ]
     },
     "execution_count": 51,
     "metadata": {},
     "output_type": "execute_result"
    }
   ],
   "source": [
    "df=df.drop(['source','financial_institution','loan_purpose'],axis=1)\n",
    "df.head()"
   ]
  },
  {
   "cell_type": "code",
   "execution_count": 52,
   "metadata": {},
   "outputs": [
    {
     "data": {
      "text/html": [
       "<div>\n",
       "<style scoped>\n",
       "    .dataframe tbody tr th:only-of-type {\n",
       "        vertical-align: middle;\n",
       "    }\n",
       "\n",
       "    .dataframe tbody tr th {\n",
       "        vertical-align: top;\n",
       "    }\n",
       "\n",
       "    .dataframe thead th {\n",
       "        text-align: right;\n",
       "    }\n",
       "</style>\n",
       "<table border=\"1\" class=\"dataframe\">\n",
       "  <thead>\n",
       "    <tr style=\"text-align: right;\">\n",
       "      <th></th>\n",
       "      <th>interest_rate</th>\n",
       "      <th>unpaid_principal_bal</th>\n",
       "      <th>loan_term</th>\n",
       "      <th>loan_to_value</th>\n",
       "      <th>number_of_borrowers</th>\n",
       "      <th>debt_to_income_ratio</th>\n",
       "      <th>borrower_credit_score</th>\n",
       "      <th>insurance_percent</th>\n",
       "      <th>insurance_type</th>\n",
       "      <th>m1</th>\n",
       "      <th>...</th>\n",
       "      <th>m9</th>\n",
       "      <th>m10</th>\n",
       "      <th>m11</th>\n",
       "      <th>m12</th>\n",
       "      <th>m13</th>\n",
       "      <th>No of deliquent months max</th>\n",
       "      <th>Credit Score-Max</th>\n",
       "      <th>source</th>\n",
       "      <th>financial_institution</th>\n",
       "      <th>loan_purpose</th>\n",
       "    </tr>\n",
       "  </thead>\n",
       "  <tbody>\n",
       "    <tr>\n",
       "      <th>0</th>\n",
       "      <td>4.250</td>\n",
       "      <td>214000</td>\n",
       "      <td>360</td>\n",
       "      <td>95</td>\n",
       "      <td>1.0</td>\n",
       "      <td>22.0</td>\n",
       "      <td>694.0</td>\n",
       "      <td>30.0</td>\n",
       "      <td>0.0</td>\n",
       "      <td>0</td>\n",
       "      <td>...</td>\n",
       "      <td>0</td>\n",
       "      <td>0</td>\n",
       "      <td>0</td>\n",
       "      <td>0</td>\n",
       "      <td>1</td>\n",
       "      <td>1</td>\n",
       "      <td>694.0</td>\n",
       "      <td>2</td>\n",
       "      <td>18</td>\n",
       "      <td>2</td>\n",
       "    </tr>\n",
       "    <tr>\n",
       "      <th>1</th>\n",
       "      <td>4.875</td>\n",
       "      <td>144000</td>\n",
       "      <td>360</td>\n",
       "      <td>72</td>\n",
       "      <td>1.0</td>\n",
       "      <td>44.0</td>\n",
       "      <td>697.0</td>\n",
       "      <td>0.0</td>\n",
       "      <td>0.0</td>\n",
       "      <td>0</td>\n",
       "      <td>...</td>\n",
       "      <td>0</td>\n",
       "      <td>0</td>\n",
       "      <td>1</td>\n",
       "      <td>0</td>\n",
       "      <td>1</td>\n",
       "      <td>1</td>\n",
       "      <td>697.0</td>\n",
       "      <td>1</td>\n",
       "      <td>15</td>\n",
       "      <td>1</td>\n",
       "    </tr>\n",
       "    <tr>\n",
       "      <th>2</th>\n",
       "      <td>3.250</td>\n",
       "      <td>366000</td>\n",
       "      <td>180</td>\n",
       "      <td>49</td>\n",
       "      <td>1.0</td>\n",
       "      <td>33.0</td>\n",
       "      <td>780.0</td>\n",
       "      <td>0.0</td>\n",
       "      <td>0.0</td>\n",
       "      <td>0</td>\n",
       "      <td>...</td>\n",
       "      <td>0</td>\n",
       "      <td>0</td>\n",
       "      <td>0</td>\n",
       "      <td>0</td>\n",
       "      <td>1</td>\n",
       "      <td>0</td>\n",
       "      <td>780.0</td>\n",
       "      <td>2</td>\n",
       "      <td>17</td>\n",
       "      <td>1</td>\n",
       "    </tr>\n",
       "    <tr>\n",
       "      <th>3</th>\n",
       "      <td>4.750</td>\n",
       "      <td>135000</td>\n",
       "      <td>360</td>\n",
       "      <td>46</td>\n",
       "      <td>2.0</td>\n",
       "      <td>44.0</td>\n",
       "      <td>633.0</td>\n",
       "      <td>0.0</td>\n",
       "      <td>0.0</td>\n",
       "      <td>0</td>\n",
       "      <td>...</td>\n",
       "      <td>1</td>\n",
       "      <td>1</td>\n",
       "      <td>1</td>\n",
       "      <td>1</td>\n",
       "      <td>1</td>\n",
       "      <td>1</td>\n",
       "      <td>638.0</td>\n",
       "      <td>0</td>\n",
       "      <td>8</td>\n",
       "      <td>1</td>\n",
       "    </tr>\n",
       "    <tr>\n",
       "      <th>4</th>\n",
       "      <td>4.750</td>\n",
       "      <td>124000</td>\n",
       "      <td>360</td>\n",
       "      <td>80</td>\n",
       "      <td>1.0</td>\n",
       "      <td>43.0</td>\n",
       "      <td>681.0</td>\n",
       "      <td>0.0</td>\n",
       "      <td>0.0</td>\n",
       "      <td>0</td>\n",
       "      <td>...</td>\n",
       "      <td>8</td>\n",
       "      <td>9</td>\n",
       "      <td>10</td>\n",
       "      <td>11</td>\n",
       "      <td>1</td>\n",
       "      <td>11</td>\n",
       "      <td>681.0</td>\n",
       "      <td>0</td>\n",
       "      <td>8</td>\n",
       "      <td>2</td>\n",
       "    </tr>\n",
       "  </tbody>\n",
       "</table>\n",
       "<p>5 rows × 27 columns</p>\n",
       "</div>"
      ],
      "text/plain": [
       "   interest_rate  unpaid_principal_bal  loan_term  loan_to_value  \\\n",
       "0          4.250                214000        360             95   \n",
       "1          4.875                144000        360             72   \n",
       "2          3.250                366000        180             49   \n",
       "3          4.750                135000        360             46   \n",
       "4          4.750                124000        360             80   \n",
       "\n",
       "   number_of_borrowers  debt_to_income_ratio  borrower_credit_score  \\\n",
       "0                  1.0                  22.0                  694.0   \n",
       "1                  1.0                  44.0                  697.0   \n",
       "2                  1.0                  33.0                  780.0   \n",
       "3                  2.0                  44.0                  633.0   \n",
       "4                  1.0                  43.0                  681.0   \n",
       "\n",
       "   insurance_percent  insurance_type  m1      ...       m9  m10  m11  m12  \\\n",
       "0               30.0             0.0   0      ...        0    0    0    0   \n",
       "1                0.0             0.0   0      ...        0    0    1    0   \n",
       "2                0.0             0.0   0      ...        0    0    0    0   \n",
       "3                0.0             0.0   0      ...        1    1    1    1   \n",
       "4                0.0             0.0   0      ...        8    9   10   11   \n",
       "\n",
       "   m13  No of deliquent months max  Credit Score-Max  source  \\\n",
       "0    1                           1             694.0       2   \n",
       "1    1                           1             697.0       1   \n",
       "2    1                           0             780.0       2   \n",
       "3    1                           1             638.0       0   \n",
       "4    1                          11             681.0       0   \n",
       "\n",
       "   financial_institution  loan_purpose  \n",
       "0                     18             2  \n",
       "1                     15             1  \n",
       "2                     17             1  \n",
       "3                      8             1  \n",
       "4                      8             2  \n",
       "\n",
       "[5 rows x 27 columns]"
      ]
     },
     "execution_count": 52,
     "metadata": {},
     "output_type": "execute_result"
    }
   ],
   "source": [
    "df1=pd.concat([df,df_categorical],axis=1)\n",
    "df1.head()"
   ]
  },
  {
   "cell_type": "code",
   "execution_count": 53,
   "metadata": {},
   "outputs": [],
   "source": [
    "X=df1.drop(['m13'],axis=1)\n",
    "y=df1.m13"
   ]
  },
  {
   "cell_type": "code",
   "execution_count": 54,
   "metadata": {},
   "outputs": [
    {
     "data": {
      "text/html": [
       "<div>\n",
       "<style scoped>\n",
       "    .dataframe tbody tr th:only-of-type {\n",
       "        vertical-align: middle;\n",
       "    }\n",
       "\n",
       "    .dataframe tbody tr th {\n",
       "        vertical-align: top;\n",
       "    }\n",
       "\n",
       "    .dataframe thead th {\n",
       "        text-align: right;\n",
       "    }\n",
       "</style>\n",
       "<table border=\"1\" class=\"dataframe\">\n",
       "  <thead>\n",
       "    <tr style=\"text-align: right;\">\n",
       "      <th></th>\n",
       "      <th>interest_rate</th>\n",
       "      <th>unpaid_principal_bal</th>\n",
       "      <th>loan_term</th>\n",
       "      <th>loan_to_value</th>\n",
       "      <th>number_of_borrowers</th>\n",
       "      <th>debt_to_income_ratio</th>\n",
       "      <th>borrower_credit_score</th>\n",
       "      <th>insurance_percent</th>\n",
       "      <th>insurance_type</th>\n",
       "      <th>m1</th>\n",
       "      <th>...</th>\n",
       "      <th>m8</th>\n",
       "      <th>m9</th>\n",
       "      <th>m10</th>\n",
       "      <th>m11</th>\n",
       "      <th>m12</th>\n",
       "      <th>No of deliquent months max</th>\n",
       "      <th>Credit Score-Max</th>\n",
       "      <th>source</th>\n",
       "      <th>financial_institution</th>\n",
       "      <th>loan_purpose</th>\n",
       "    </tr>\n",
       "  </thead>\n",
       "  <tbody>\n",
       "    <tr>\n",
       "      <th>0</th>\n",
       "      <td>4.250</td>\n",
       "      <td>214000</td>\n",
       "      <td>360</td>\n",
       "      <td>95</td>\n",
       "      <td>1.0</td>\n",
       "      <td>22.0</td>\n",
       "      <td>694.0</td>\n",
       "      <td>30.0</td>\n",
       "      <td>0.0</td>\n",
       "      <td>0</td>\n",
       "      <td>...</td>\n",
       "      <td>0</td>\n",
       "      <td>0</td>\n",
       "      <td>0</td>\n",
       "      <td>0</td>\n",
       "      <td>0</td>\n",
       "      <td>1</td>\n",
       "      <td>694.0</td>\n",
       "      <td>2</td>\n",
       "      <td>18</td>\n",
       "      <td>2</td>\n",
       "    </tr>\n",
       "    <tr>\n",
       "      <th>1</th>\n",
       "      <td>4.875</td>\n",
       "      <td>144000</td>\n",
       "      <td>360</td>\n",
       "      <td>72</td>\n",
       "      <td>1.0</td>\n",
       "      <td>44.0</td>\n",
       "      <td>697.0</td>\n",
       "      <td>0.0</td>\n",
       "      <td>0.0</td>\n",
       "      <td>0</td>\n",
       "      <td>...</td>\n",
       "      <td>0</td>\n",
       "      <td>0</td>\n",
       "      <td>0</td>\n",
       "      <td>1</td>\n",
       "      <td>0</td>\n",
       "      <td>1</td>\n",
       "      <td>697.0</td>\n",
       "      <td>1</td>\n",
       "      <td>15</td>\n",
       "      <td>1</td>\n",
       "    </tr>\n",
       "    <tr>\n",
       "      <th>2</th>\n",
       "      <td>3.250</td>\n",
       "      <td>366000</td>\n",
       "      <td>180</td>\n",
       "      <td>49</td>\n",
       "      <td>1.0</td>\n",
       "      <td>33.0</td>\n",
       "      <td>780.0</td>\n",
       "      <td>0.0</td>\n",
       "      <td>0.0</td>\n",
       "      <td>0</td>\n",
       "      <td>...</td>\n",
       "      <td>0</td>\n",
       "      <td>0</td>\n",
       "      <td>0</td>\n",
       "      <td>0</td>\n",
       "      <td>0</td>\n",
       "      <td>0</td>\n",
       "      <td>780.0</td>\n",
       "      <td>2</td>\n",
       "      <td>17</td>\n",
       "      <td>1</td>\n",
       "    </tr>\n",
       "    <tr>\n",
       "      <th>3</th>\n",
       "      <td>4.750</td>\n",
       "      <td>135000</td>\n",
       "      <td>360</td>\n",
       "      <td>46</td>\n",
       "      <td>2.0</td>\n",
       "      <td>44.0</td>\n",
       "      <td>633.0</td>\n",
       "      <td>0.0</td>\n",
       "      <td>0.0</td>\n",
       "      <td>0</td>\n",
       "      <td>...</td>\n",
       "      <td>0</td>\n",
       "      <td>1</td>\n",
       "      <td>1</td>\n",
       "      <td>1</td>\n",
       "      <td>1</td>\n",
       "      <td>1</td>\n",
       "      <td>638.0</td>\n",
       "      <td>0</td>\n",
       "      <td>8</td>\n",
       "      <td>1</td>\n",
       "    </tr>\n",
       "    <tr>\n",
       "      <th>4</th>\n",
       "      <td>4.750</td>\n",
       "      <td>124000</td>\n",
       "      <td>360</td>\n",
       "      <td>80</td>\n",
       "      <td>1.0</td>\n",
       "      <td>43.0</td>\n",
       "      <td>681.0</td>\n",
       "      <td>0.0</td>\n",
       "      <td>0.0</td>\n",
       "      <td>0</td>\n",
       "      <td>...</td>\n",
       "      <td>7</td>\n",
       "      <td>8</td>\n",
       "      <td>9</td>\n",
       "      <td>10</td>\n",
       "      <td>11</td>\n",
       "      <td>11</td>\n",
       "      <td>681.0</td>\n",
       "      <td>0</td>\n",
       "      <td>8</td>\n",
       "      <td>2</td>\n",
       "    </tr>\n",
       "  </tbody>\n",
       "</table>\n",
       "<p>5 rows × 26 columns</p>\n",
       "</div>"
      ],
      "text/plain": [
       "   interest_rate  unpaid_principal_bal  loan_term  loan_to_value  \\\n",
       "0          4.250                214000        360             95   \n",
       "1          4.875                144000        360             72   \n",
       "2          3.250                366000        180             49   \n",
       "3          4.750                135000        360             46   \n",
       "4          4.750                124000        360             80   \n",
       "\n",
       "   number_of_borrowers  debt_to_income_ratio  borrower_credit_score  \\\n",
       "0                  1.0                  22.0                  694.0   \n",
       "1                  1.0                  44.0                  697.0   \n",
       "2                  1.0                  33.0                  780.0   \n",
       "3                  2.0                  44.0                  633.0   \n",
       "4                  1.0                  43.0                  681.0   \n",
       "\n",
       "   insurance_percent  insurance_type  m1      ...       m8  m9  m10  m11  m12  \\\n",
       "0               30.0             0.0   0      ...        0   0    0    0    0   \n",
       "1                0.0             0.0   0      ...        0   0    0    1    0   \n",
       "2                0.0             0.0   0      ...        0   0    0    0    0   \n",
       "3                0.0             0.0   0      ...        0   1    1    1    1   \n",
       "4                0.0             0.0   0      ...        7   8    9   10   11   \n",
       "\n",
       "   No of deliquent months max  Credit Score-Max  source  \\\n",
       "0                           1             694.0       2   \n",
       "1                           1             697.0       1   \n",
       "2                           0             780.0       2   \n",
       "3                           1             638.0       0   \n",
       "4                          11             681.0       0   \n",
       "\n",
       "   financial_institution  loan_purpose  \n",
       "0                     18             2  \n",
       "1                     15             1  \n",
       "2                     17             1  \n",
       "3                      8             1  \n",
       "4                      8             2  \n",
       "\n",
       "[5 rows x 26 columns]"
      ]
     },
     "execution_count": 54,
     "metadata": {},
     "output_type": "execute_result"
    }
   ],
   "source": [
    "X.head()"
   ]
  },
  {
   "cell_type": "code",
   "execution_count": 55,
   "metadata": {},
   "outputs": [],
   "source": [
    "from sklearn.model_selection import train_test_split\n",
    "from sklearn.ensemble import AdaBoostClassifier\n",
    "from sklearn.ensemble import GradientBoostingClassifier\n",
    "from sklearn.ensemble import VotingClassifier\n",
    "from sklearn.tree import DecisionTreeClassifier\n",
    "from sklearn.linear_model import LogisticRegression\n",
    "from sklearn.ensemble import RandomForestClassifier\n",
    "from sklearn.neighbors import KNeighborsClassifier\n",
    "from sklearn.naive_bayes import GaussianNB\n",
    "from sklearn.preprocessing import StandardScaler\n",
    "from sklearn import model_selection\n",
    "from sklearn import metrics\n",
    "#from sklearn.decomposition import PCA\n",
    "from scipy.stats import zscore\n",
    "import matplotlib.pyplot as plt \n",
    "from sklearn.feature_selection import RFE, RFECV\n",
    "from sklearn.metrics import f1_score\n",
    "from sklearn.svm import SVC\n",
    "from sklearn.ensemble import ExtraTreesClassifier"
   ]
  },
  {
   "cell_type": "code",
   "execution_count": 56,
   "metadata": {},
   "outputs": [],
   "source": [
    "x_train, x_test, y_train, y_test = train_test_split(X, y, test_size=0.3, random_state=0)"
   ]
  },
  {
   "cell_type": "code",
   "execution_count": 57,
   "metadata": {},
   "outputs": [
    {
     "data": {
      "text/plain": [
       "(81240, 26)"
      ]
     },
     "execution_count": 57,
     "metadata": {},
     "output_type": "execute_result"
    }
   ],
   "source": [
    "x_train.shape"
   ]
  },
  {
   "cell_type": "code",
   "execution_count": 58,
   "metadata": {},
   "outputs": [
    {
     "data": {
      "text/plain": [
       "(34818,)"
      ]
     },
     "execution_count": 58,
     "metadata": {},
     "output_type": "execute_result"
    }
   ],
   "source": [
    "y_test.shape"
   ]
  },
  {
   "cell_type": "code",
   "execution_count": 59,
   "metadata": {},
   "outputs": [
    {
     "data": {
      "text/html": [
       "<div>\n",
       "<style scoped>\n",
       "    .dataframe tbody tr th:only-of-type {\n",
       "        vertical-align: middle;\n",
       "    }\n",
       "\n",
       "    .dataframe tbody tr th {\n",
       "        vertical-align: top;\n",
       "    }\n",
       "\n",
       "    .dataframe thead th {\n",
       "        text-align: right;\n",
       "    }\n",
       "</style>\n",
       "<table border=\"1\" class=\"dataframe\">\n",
       "  <thead>\n",
       "    <tr style=\"text-align: right;\">\n",
       "      <th></th>\n",
       "      <th>interest_rate</th>\n",
       "      <th>unpaid_principal_bal</th>\n",
       "      <th>loan_term</th>\n",
       "      <th>loan_to_value</th>\n",
       "      <th>number_of_borrowers</th>\n",
       "      <th>debt_to_income_ratio</th>\n",
       "      <th>borrower_credit_score</th>\n",
       "      <th>insurance_percent</th>\n",
       "      <th>insurance_type</th>\n",
       "      <th>m1</th>\n",
       "      <th>...</th>\n",
       "      <th>m8</th>\n",
       "      <th>m9</th>\n",
       "      <th>m10</th>\n",
       "      <th>m11</th>\n",
       "      <th>m12</th>\n",
       "      <th>No of deliquent months max</th>\n",
       "      <th>Credit Score-Max</th>\n",
       "      <th>source</th>\n",
       "      <th>financial_institution</th>\n",
       "      <th>loan_purpose</th>\n",
       "    </tr>\n",
       "  </thead>\n",
       "  <tbody>\n",
       "    <tr>\n",
       "      <th>65285</th>\n",
       "      <td>4.125</td>\n",
       "      <td>198000</td>\n",
       "      <td>360</td>\n",
       "      <td>78</td>\n",
       "      <td>1.0</td>\n",
       "      <td>34.0</td>\n",
       "      <td>752.0</td>\n",
       "      <td>0.0</td>\n",
       "      <td>0.0</td>\n",
       "      <td>0</td>\n",
       "      <td>...</td>\n",
       "      <td>0</td>\n",
       "      <td>0</td>\n",
       "      <td>0</td>\n",
       "      <td>0</td>\n",
       "      <td>0</td>\n",
       "      <td>0</td>\n",
       "      <td>752.0</td>\n",
       "      <td>1</td>\n",
       "      <td>1</td>\n",
       "      <td>1</td>\n",
       "    </tr>\n",
       "    <tr>\n",
       "      <th>53860</th>\n",
       "      <td>4.500</td>\n",
       "      <td>210000</td>\n",
       "      <td>360</td>\n",
       "      <td>85</td>\n",
       "      <td>1.0</td>\n",
       "      <td>21.0</td>\n",
       "      <td>783.0</td>\n",
       "      <td>12.0</td>\n",
       "      <td>1.0</td>\n",
       "      <td>0</td>\n",
       "      <td>...</td>\n",
       "      <td>0</td>\n",
       "      <td>0</td>\n",
       "      <td>0</td>\n",
       "      <td>0</td>\n",
       "      <td>0</td>\n",
       "      <td>0</td>\n",
       "      <td>783.0</td>\n",
       "      <td>1</td>\n",
       "      <td>5</td>\n",
       "      <td>1</td>\n",
       "    </tr>\n",
       "    <tr>\n",
       "      <th>103085</th>\n",
       "      <td>4.125</td>\n",
       "      <td>90000</td>\n",
       "      <td>360</td>\n",
       "      <td>70</td>\n",
       "      <td>1.0</td>\n",
       "      <td>19.0</td>\n",
       "      <td>778.0</td>\n",
       "      <td>0.0</td>\n",
       "      <td>0.0</td>\n",
       "      <td>0</td>\n",
       "      <td>...</td>\n",
       "      <td>0</td>\n",
       "      <td>0</td>\n",
       "      <td>0</td>\n",
       "      <td>0</td>\n",
       "      <td>0</td>\n",
       "      <td>0</td>\n",
       "      <td>778.0</td>\n",
       "      <td>1</td>\n",
       "      <td>1</td>\n",
       "      <td>2</td>\n",
       "    </tr>\n",
       "    <tr>\n",
       "      <th>2659</th>\n",
       "      <td>5.000</td>\n",
       "      <td>88000</td>\n",
       "      <td>360</td>\n",
       "      <td>79</td>\n",
       "      <td>1.0</td>\n",
       "      <td>29.0</td>\n",
       "      <td>684.0</td>\n",
       "      <td>0.0</td>\n",
       "      <td>0.0</td>\n",
       "      <td>0</td>\n",
       "      <td>...</td>\n",
       "      <td>0</td>\n",
       "      <td>0</td>\n",
       "      <td>0</td>\n",
       "      <td>0</td>\n",
       "      <td>0</td>\n",
       "      <td>0</td>\n",
       "      <td>684.0</td>\n",
       "      <td>1</td>\n",
       "      <td>1</td>\n",
       "      <td>0</td>\n",
       "    </tr>\n",
       "    <tr>\n",
       "      <th>30135</th>\n",
       "      <td>3.875</td>\n",
       "      <td>185000</td>\n",
       "      <td>360</td>\n",
       "      <td>73</td>\n",
       "      <td>1.0</td>\n",
       "      <td>39.0</td>\n",
       "      <td>763.0</td>\n",
       "      <td>0.0</td>\n",
       "      <td>0.0</td>\n",
       "      <td>0</td>\n",
       "      <td>...</td>\n",
       "      <td>0</td>\n",
       "      <td>0</td>\n",
       "      <td>0</td>\n",
       "      <td>0</td>\n",
       "      <td>0</td>\n",
       "      <td>1</td>\n",
       "      <td>763.0</td>\n",
       "      <td>2</td>\n",
       "      <td>9</td>\n",
       "      <td>2</td>\n",
       "    </tr>\n",
       "  </tbody>\n",
       "</table>\n",
       "<p>5 rows × 26 columns</p>\n",
       "</div>"
      ],
      "text/plain": [
       "        interest_rate  unpaid_principal_bal  loan_term  loan_to_value  \\\n",
       "65285           4.125                198000        360             78   \n",
       "53860           4.500                210000        360             85   \n",
       "103085          4.125                 90000        360             70   \n",
       "2659            5.000                 88000        360             79   \n",
       "30135           3.875                185000        360             73   \n",
       "\n",
       "        number_of_borrowers  debt_to_income_ratio  borrower_credit_score  \\\n",
       "65285                   1.0                  34.0                  752.0   \n",
       "53860                   1.0                  21.0                  783.0   \n",
       "103085                  1.0                  19.0                  778.0   \n",
       "2659                    1.0                  29.0                  684.0   \n",
       "30135                   1.0                  39.0                  763.0   \n",
       "\n",
       "        insurance_percent  insurance_type  m1      ...       m8  m9  m10  m11  \\\n",
       "65285                 0.0             0.0   0      ...        0   0    0    0   \n",
       "53860                12.0             1.0   0      ...        0   0    0    0   \n",
       "103085                0.0             0.0   0      ...        0   0    0    0   \n",
       "2659                  0.0             0.0   0      ...        0   0    0    0   \n",
       "30135                 0.0             0.0   0      ...        0   0    0    0   \n",
       "\n",
       "        m12  No of deliquent months max  Credit Score-Max  source  \\\n",
       "65285     0                           0             752.0       1   \n",
       "53860     0                           0             783.0       1   \n",
       "103085    0                           0             778.0       1   \n",
       "2659      0                           0             684.0       1   \n",
       "30135     0                           1             763.0       2   \n",
       "\n",
       "        financial_institution  loan_purpose  \n",
       "65285                       1             1  \n",
       "53860                       5             1  \n",
       "103085                      1             2  \n",
       "2659                        1             0  \n",
       "30135                       9             2  \n",
       "\n",
       "[5 rows x 26 columns]"
      ]
     },
     "execution_count": 59,
     "metadata": {},
     "output_type": "execute_result"
    }
   ],
   "source": [
    "x_train.head()"
   ]
  },
  {
   "cell_type": "markdown",
   "metadata": {},
   "source": [
    "## Recursive Feature Engineering"
   ]
  },
  {
   "cell_type": "code",
   "execution_count": 60,
   "metadata": {},
   "outputs": [
    {
     "name": "stdout",
     "output_type": "stream",
     "text": [
      "Optimum number of features: 6\n",
      "Score with 6 features: 0.996037\n"
     ]
    }
   ],
   "source": [
    "#no of features\n",
    "nof_list=np.arange(1,26)            \n",
    "high_score=0\n",
    "#Variable to store the optimum features\n",
    "nof=0           \n",
    "score_list =[]\n",
    "for n in range(len(nof_list)):\n",
    "    X_train, X_test, y_train, y_test = train_test_split(X,y, test_size = 0.3, random_state = 0)\n",
    "    model = LogisticRegression()\n",
    "    rfe = RFE(model,nof_list[n])\n",
    "    X_train_rfe = rfe.fit_transform(X_train,y_train)\n",
    "    X_test_rfe = rfe.transform(X_test)\n",
    "    model.fit(X_train_rfe,y_train)\n",
    "    score = model.score(X_test_rfe,y_test)\n",
    "    score_list.append(score)\n",
    "    if(score>high_score):\n",
    "        high_score = score\n",
    "        nof = nof_list[n]\n",
    "print(\"Optimum number of features: %d\" %nof)\n",
    "print(\"Score with %d features: %f\" % (nof, high_score))"
   ]
  },
  {
   "cell_type": "code",
   "execution_count": 61,
   "metadata": {},
   "outputs": [
    {
     "name": "stdout",
     "output_type": "stream",
     "text": [
      "Index(['interest_rate', 'number_of_borrowers', 'insurance_type', 'm3', 'm12',\n",
      "       'No of deliquent months max'],\n",
      "      dtype='object')\n"
     ]
    }
   ],
   "source": [
    "cols = list(X.columns)\n",
    "model = LogisticRegression()\n",
    "#Initializing RFE model\n",
    "rfe = RFE(model, 6)             \n",
    "#Transforming data using RFE\n",
    "X_rfe = rfe.fit_transform(X,y)  \n",
    "#Fitting the data to model\n",
    "model.fit(X_rfe,y)              \n",
    "temp = pd.Series(rfe.support_,index = cols)\n",
    "selected_features_rfe = temp[temp==True].index\n",
    "print(selected_features_rfe)"
   ]
  },
  {
   "cell_type": "code",
   "execution_count": null,
   "metadata": {},
   "outputs": [],
   "source": []
  },
  {
   "cell_type": "code",
   "execution_count": 62,
   "metadata": {},
   "outputs": [
    {
     "name": "stdout",
     "output_type": "stream",
     "text": [
      "Optimum number of features: 20\n",
      "Score with 20 features: 0.996295\n"
     ]
    }
   ],
   "source": [
    "#no of features\n",
    "nof_list=np.arange(1,26)            \n",
    "high_score=0\n",
    "#Variable to store the optimum features\n",
    "nof=0           \n",
    "score_list =[]\n",
    "for n in range(len(nof_list)):\n",
    "    X_train, X_test, y_train, y_test = train_test_split(X,y, test_size = 0.3, random_state = 0)\n",
    "    model = RandomForestClassifier()\n",
    "    rfe = RFE(model,nof_list[n])\n",
    "    X_train_rfe = rfe.fit_transform(X_train,y_train)\n",
    "    X_test_rfe = rfe.transform(X_test)\n",
    "    model.fit(X_train_rfe,y_train)\n",
    "    score = model.score(X_test_rfe,y_test)\n",
    "    score_list.append(score)\n",
    "    if(score>high_score):\n",
    "        high_score = score\n",
    "        nof = nof_list[n]\n",
    "print(\"Optimum number of features: %d\" %nof)\n",
    "print(\"Score with %d features: %f\" % (nof, high_score))"
   ]
  },
  {
   "cell_type": "code",
   "execution_count": 63,
   "metadata": {},
   "outputs": [
    {
     "name": "stdout",
     "output_type": "stream",
     "text": [
      "Index(['interest_rate', 'unpaid_principal_bal', 'loan_term', 'loan_to_value',\n",
      "       'debt_to_income_ratio', 'borrower_credit_score', 'm8', 'm9', 'm11',\n",
      "       'm12', 'No of deliquent months max', 'Credit Score-Max', 'source',\n",
      "       'financial_institution', 'loan_purpose'],\n",
      "      dtype='object')\n"
     ]
    }
   ],
   "source": [
    "cols = list(X.columns)\n",
    "model = RandomForestClassifier()\n",
    "#Initializing RFE model\n",
    "rfe = RFE(model, 15)             \n",
    "#Transforming data using RFE\n",
    "X_rfe = rfe.fit_transform(X,y)  \n",
    "#Fitting the data to model\n",
    "model.fit(X_rfe,y)              \n",
    "temp = pd.Series(rfe.support_,index = cols)\n",
    "selected_features_rfe = temp[temp==True].index\n",
    "print(selected_features_rfe)"
   ]
  },
  {
   "cell_type": "code",
   "execution_count": null,
   "metadata": {},
   "outputs": [],
   "source": []
  },
  {
   "cell_type": "code",
   "execution_count": null,
   "metadata": {},
   "outputs": [],
   "source": []
  },
  {
   "cell_type": "code",
   "execution_count": 64,
   "metadata": {},
   "outputs": [
    {
     "name": "stdout",
     "output_type": "stream",
     "text": [
      "Optimum number of features: 1\n",
      "Score with 1 features: 0.995721\n"
     ]
    }
   ],
   "source": [
    "#no of features\n",
    "nof_list=np.arange(1,26)            \n",
    "high_score=0\n",
    "#Variable to store the optimum features\n",
    "nof=0           \n",
    "score_list =[]\n",
    "for n in range(len(nof_list)):\n",
    "    X_train, X_test, y_train, y_test = train_test_split(X,y, test_size = 0.3, random_state = 0)\n",
    "    model = DecisionTreeClassifier()\n",
    "    rfe = RFE(model,nof_list[n])\n",
    "    X_train_rfe = rfe.fit_transform(X_train,y_train)\n",
    "    X_test_rfe = rfe.transform(X_test)\n",
    "    model.fit(X_train_rfe,y_train)\n",
    "    score = model.score(X_test_rfe,y_test)\n",
    "    score_list.append(score)\n",
    "    if(score>high_score):\n",
    "        high_score = score\n",
    "        nof = nof_list[n]\n",
    "print(\"Optimum number of features: %d\" %nof)\n",
    "print(\"Score with %d features: %f\" % (nof, high_score))"
   ]
  },
  {
   "cell_type": "code",
   "execution_count": 65,
   "metadata": {},
   "outputs": [
    {
     "name": "stdout",
     "output_type": "stream",
     "text": [
      "Index(['m12'], dtype='object')\n"
     ]
    }
   ],
   "source": [
    "cols = list(X.columns)\n",
    "model = DecisionTreeClassifier()\n",
    "#Initializing RFE model\n",
    "rfe = RFE(model, 1)             \n",
    "#Transforming data using RFE\n",
    "X_rfe = rfe.fit_transform(X,y)  \n",
    "#Fitting the data to model\n",
    "model.fit(X_rfe,y)              \n",
    "temp = pd.Series(rfe.support_,index = cols)\n",
    "selected_features_rfe = temp[temp==True].index\n",
    "print(selected_features_rfe)"
   ]
  },
  {
   "cell_type": "code",
   "execution_count": null,
   "metadata": {},
   "outputs": [],
   "source": []
  },
  {
   "cell_type": "code",
   "execution_count": 66,
   "metadata": {},
   "outputs": [
    {
     "name": "stdout",
     "output_type": "stream",
     "text": [
      "Optimum number of features: 8\n",
      "Score with 8 features: 0.996094\n"
     ]
    }
   ],
   "source": [
    "#no of features\n",
    "nof_list=np.arange(1,26)            \n",
    "high_score=0\n",
    "#Variable to store the optimum features\n",
    "nof=0           \n",
    "score_list =[]\n",
    "for n in range(len(nof_list)):\n",
    "    X_train, X_test, y_train, y_test = train_test_split(X,y, test_size = 0.3, random_state = 0)\n",
    "    model = AdaBoostClassifier()\n",
    "    rfe = RFE(model,nof_list[n])\n",
    "    X_train_rfe = rfe.fit_transform(X_train,y_train)\n",
    "    X_test_rfe = rfe.transform(X_test)\n",
    "    model.fit(X_train_rfe,y_train)\n",
    "    score = model.score(X_test_rfe,y_test)\n",
    "    score_list.append(score)\n",
    "    if(score>high_score):\n",
    "        high_score = score\n",
    "        nof = nof_list[n]\n",
    "print(\"Optimum number of features: %d\" %nof)\n",
    "print(\"Score with %d features: %f\" % (nof, high_score))"
   ]
  },
  {
   "cell_type": "code",
   "execution_count": 67,
   "metadata": {},
   "outputs": [
    {
     "name": "stdout",
     "output_type": "stream",
     "text": [
      "Index(['interest_rate', 'unpaid_principal_bal', 'loan_to_value',\n",
      "       'debt_to_income_ratio', 'borrower_credit_score',\n",
      "       'No of deliquent months max', 'Credit Score-Max',\n",
      "       'financial_institution'],\n",
      "      dtype='object')\n"
     ]
    }
   ],
   "source": [
    "cols = list(X.columns)\n",
    "model = AdaBoostClassifier()\n",
    "#Initializing RFE model\n",
    "rfe = RFE(model, 8)             \n",
    "#Transforming data using RFE\n",
    "X_rfe = rfe.fit_transform(X,y)  \n",
    "#Fitting the data to model\n",
    "model.fit(X_rfe,y)              \n",
    "temp = pd.Series(rfe.support_,index = cols)\n",
    "selected_features_rfe = temp[temp==True].index\n",
    "print(selected_features_rfe)"
   ]
  },
  {
   "cell_type": "markdown",
   "metadata": {},
   "source": [
    "After running different models with RFE techniques (in various combinations): following features are explaining delinquency in m13 month mostly;\n",
    "'interest_rate', 'unpaid_principal_bal', 'loan_to_value','number_of_borrowers', 'debt_to_income_ratio', 'borrower_credit_score', 'source',''No of deliquent months max' ,'m11', 'm12']"
   ]
  },
  {
   "cell_type": "code",
   "execution_count": 68,
   "metadata": {},
   "outputs": [],
   "source": [
    "cols=['interest_rate', 'unpaid_principal_bal', 'loan_to_value','number_of_borrowers', 'debt_to_income_ratio', \n",
    "      'borrower_credit_score', 'source','No of deliquent months max' ,'m11', 'm12']"
   ]
  },
  {
   "cell_type": "code",
   "execution_count": 69,
   "metadata": {},
   "outputs": [],
   "source": [
    "#train = df1.iloc[:116058,:]\n",
    "#test = df1.iloc[116058:,:]\n",
    "train = df1.iloc[:116058,:][cols]\n",
    "test = df1.iloc[116058:,:][cols]"
   ]
  },
  {
   "cell_type": "code",
   "execution_count": 70,
   "metadata": {},
   "outputs": [],
   "source": [
    "x_train, x_test, y_train, y_test = train_test_split(train, y, test_size=0.3, random_state=42)"
   ]
  },
  {
   "cell_type": "code",
   "execution_count": null,
   "metadata": {},
   "outputs": [],
   "source": []
  },
  {
   "cell_type": "code",
   "execution_count": null,
   "metadata": {},
   "outputs": [],
   "source": []
  },
  {
   "cell_type": "code",
   "execution_count": 71,
   "metadata": {
    "scrolled": true
   },
   "outputs": [],
   "source": [
    "lr=LogisticRegression()\n",
    "lr.fit(x_train,y_train)\n",
    "y_pred=lr.predict(x_test)"
   ]
  },
  {
   "cell_type": "code",
   "execution_count": 72,
   "metadata": {},
   "outputs": [
    {
     "data": {
      "text/plain": [
       "array([0, 0, 0, ..., 0, 0, 0], dtype=int64)"
      ]
     },
     "execution_count": 72,
     "metadata": {},
     "output_type": "execute_result"
    }
   ],
   "source": [
    "y_pred"
   ]
  },
  {
   "cell_type": "code",
   "execution_count": 73,
   "metadata": {},
   "outputs": [
    {
     "data": {
      "text/plain": [
       "0.9942885278188085"
      ]
     },
     "execution_count": 73,
     "metadata": {},
     "output_type": "execute_result"
    }
   ],
   "source": [
    "lr.score(x_train,y_train)"
   ]
  },
  {
   "cell_type": "code",
   "execution_count": 74,
   "metadata": {},
   "outputs": [
    {
     "data": {
      "text/plain": [
       "0.9939399161353323"
      ]
     },
     "execution_count": 74,
     "metadata": {},
     "output_type": "execute_result"
    }
   ],
   "source": [
    "from sklearn.metrics import accuracy_score\n",
    "accuracy_score(y_test,y_pred)"
   ]
  },
  {
   "cell_type": "code",
   "execution_count": 75,
   "metadata": {},
   "outputs": [
    {
     "data": {
      "text/plain": [
       "array([[34607,    14],\n",
       "       [  197,     0]], dtype=int64)"
      ]
     },
     "execution_count": 75,
     "metadata": {},
     "output_type": "execute_result"
    }
   ],
   "source": [
    "from sklearn.metrics import confusion_matrix\n",
    "confusion_matrix(y_test,y_pred)"
   ]
  },
  {
   "cell_type": "code",
   "execution_count": 76,
   "metadata": {},
   "outputs": [
    {
     "name": "stdout",
     "output_type": "stream",
     "text": [
      "              precision    recall  f1-score   support\n",
      "\n",
      "           0       0.99      1.00      1.00     34621\n",
      "           1       0.00      0.00      0.00       197\n",
      "\n",
      "    accuracy                           0.99     34818\n",
      "   macro avg       0.50      0.50      0.50     34818\n",
      "weighted avg       0.99      0.99      0.99     34818\n",
      "\n"
     ]
    }
   ],
   "source": [
    "from sklearn.metrics import classification_report\n",
    "z=classification_report(y_test,y_pred)\n",
    "print(z)"
   ]
  },
  {
   "cell_type": "code",
   "execution_count": 77,
   "metadata": {},
   "outputs": [
    {
     "data": {
      "image/png": "[encoded data removed]",
      "text/plain": [
       "<Figure size 432x288 with 1 Axes>"
      ]
     },
     "metadata": {
      "needs_background": "light"
     },
     "output_type": "display_data"
    }
   ],
   "source": [
    "from sklearn.metrics import roc_auc_score, roc_curve\n",
    "\n",
    "auc = roc_auc_score(y_test, y_pred)\n",
    "fpr, tpr, thresholds = roc_curve(y_test, y_pred)\n",
    "plt.figure()\n",
    "plt.plot(fpr, tpr, label='Logistic Regression (area = %0.2f)' % auc)\n",
    "plt.plot([0, 1], [0, 1],'r--')\n",
    "plt.xlim([0.0, 1.0])\n",
    "plt.ylim([0.0, 1.05])\n",
    "plt.xlabel('False Positive Rate'), plt.ylabel('True Positive Rate'), plt.title('Receiver operating characteristic')\n",
    "plt.legend(loc=\"lower right\")\n",
    "# plt.savefig('Log_ROC')\n",
    "plt.show()"
   ]
  },
  {
   "cell_type": "code",
   "execution_count": null,
   "metadata": {},
   "outputs": [],
   "source": []
  },
  {
   "cell_type": "code",
   "execution_count": 78,
   "metadata": {
    "scrolled": true
   },
   "outputs": [],
   "source": [
    "dt=DecisionTreeClassifier()\n",
    "dt.fit(x_train,y_train)\n",
    "y_pred=dt.predict(x_test)"
   ]
  },
  {
   "cell_type": "code",
   "execution_count": 79,
   "metadata": {},
   "outputs": [
    {
     "data": {
      "text/plain": [
       "array([0, 0, 0, ..., 0, 0, 0], dtype=int64)"
      ]
     },
     "execution_count": 79,
     "metadata": {},
     "output_type": "execute_result"
    }
   ],
   "source": [
    "y_pred"
   ]
  },
  {
   "cell_type": "code",
   "execution_count": 80,
   "metadata": {},
   "outputs": [
    {
     "data": {
      "text/plain": [
       "1.0"
      ]
     },
     "execution_count": 80,
     "metadata": {},
     "output_type": "execute_result"
    }
   ],
   "source": [
    "dt.score(x_train,y_train)"
   ]
  },
  {
   "cell_type": "code",
   "execution_count": 81,
   "metadata": {},
   "outputs": [
    {
     "data": {
      "text/plain": [
       "0.9919581825492562"
      ]
     },
     "execution_count": 81,
     "metadata": {},
     "output_type": "execute_result"
    }
   ],
   "source": [
    "from sklearn.metrics import accuracy_score\n",
    "accuracy_score(y_test,y_pred)"
   ]
  },
  {
   "cell_type": "code",
   "execution_count": 82,
   "metadata": {},
   "outputs": [
    {
     "data": {
      "text/plain": [
       "array([[34467,   154],\n",
       "       [  126,    71]], dtype=int64)"
      ]
     },
     "execution_count": 82,
     "metadata": {},
     "output_type": "execute_result"
    }
   ],
   "source": [
    "from sklearn.metrics import confusion_matrix\n",
    "confusion_matrix(y_test,y_pred)"
   ]
  },
  {
   "cell_type": "code",
   "execution_count": 83,
   "metadata": {},
   "outputs": [
    {
     "name": "stdout",
     "output_type": "stream",
     "text": [
      "              precision    recall  f1-score   support\n",
      "\n",
      "           0       1.00      1.00      1.00     34621\n",
      "           1       0.32      0.36      0.34       197\n",
      "\n",
      "    accuracy                           0.99     34818\n",
      "   macro avg       0.66      0.68      0.67     34818\n",
      "weighted avg       0.99      0.99      0.99     34818\n",
      "\n"
     ]
    }
   ],
   "source": [
    "from sklearn.metrics import classification_report\n",
    "z=classification_report(y_test,y_pred)\n",
    "print(z)"
   ]
  },
  {
   "cell_type": "code",
   "execution_count": 84,
   "metadata": {},
   "outputs": [
    {
     "name": "stdout",
     "output_type": "stream",
     "text": [
      "f1_score: 0.33649289099526064\n"
     ]
    }
   ],
   "source": [
    "print(\"f1_score:\",f1_score(y_test, y_pred))"
   ]
  },
  {
   "cell_type": "code",
   "execution_count": 85,
   "metadata": {},
   "outputs": [
    {
     "data": {
      "image/png": "[encoded data removed]",
      "text/plain": [
       "<Figure size 432x288 with 1 Axes>"
      ]
     },
     "metadata": {
      "needs_background": "light"
     },
     "output_type": "display_data"
    }
   ],
   "source": [
    "from sklearn.metrics import roc_auc_score, roc_curve\n",
    "\n",
    "auc = roc_auc_score(y_test, y_pred)\n",
    "fpr, tpr, thresholds = roc_curve(y_test, y_pred)\n",
    "plt.figure()\n",
    "plt.plot(fpr, tpr, label='Decision Tree (area = %0.2f)' % auc)\n",
    "plt.plot([0, 1], [0, 1],'r--')\n",
    "plt.xlim([0.0, 1.0])\n",
    "plt.ylim([0.0, 1.05])\n",
    "plt.xlabel('False Positive Rate'), plt.ylabel('True Positive Rate'), plt.title('Receiver operating characteristic')\n",
    "plt.legend(loc=\"lower right\")\n",
    "# plt.savefig('Log_ROC')\n",
    "plt.show()"
   ]
  },
  {
   "cell_type": "code",
   "execution_count": null,
   "metadata": {},
   "outputs": [],
   "source": []
  },
  {
   "cell_type": "code",
   "execution_count": 86,
   "metadata": {
    "scrolled": true
   },
   "outputs": [],
   "source": [
    "rf=RandomForestClassifier()\n",
    "rf.fit(x_train,y_train)\n",
    "y_pred=rf.predict(x_test)"
   ]
  },
  {
   "cell_type": "code",
   "execution_count": 87,
   "metadata": {},
   "outputs": [
    {
     "data": {
      "text/plain": [
       "array([0, 0, 0, ..., 0, 0, 0], dtype=int64)"
      ]
     },
     "execution_count": 87,
     "metadata": {},
     "output_type": "execute_result"
    }
   ],
   "source": [
    "y_pred"
   ]
  },
  {
   "cell_type": "code",
   "execution_count": 88,
   "metadata": {},
   "outputs": [
    {
     "data": {
      "text/plain": [
       "0.9991875923190546"
      ]
     },
     "execution_count": 88,
     "metadata": {},
     "output_type": "execute_result"
    }
   ],
   "source": [
    "from sklearn.metrics import accuracy_score\n",
    "rf.score(x_train,y_train)"
   ]
  },
  {
   "cell_type": "code",
   "execution_count": 89,
   "metadata": {},
   "outputs": [
    {
     "data": {
      "text/plain": [
       "0.9956057211787007"
      ]
     },
     "execution_count": 89,
     "metadata": {},
     "output_type": "execute_result"
    }
   ],
   "source": [
    "from sklearn.metrics import accuracy_score\n",
    "accuracy_score(y_test,y_pred)"
   ]
  },
  {
   "cell_type": "code",
   "execution_count": 90,
   "metadata": {},
   "outputs": [
    {
     "data": {
      "text/plain": [
       "array([[34603,    18],\n",
       "       [  135,    62]], dtype=int64)"
      ]
     },
     "execution_count": 90,
     "metadata": {},
     "output_type": "execute_result"
    }
   ],
   "source": [
    "from sklearn.metrics import confusion_matrix\n",
    "confusion_matrix(y_test,y_pred)"
   ]
  },
  {
   "cell_type": "code",
   "execution_count": 91,
   "metadata": {},
   "outputs": [
    {
     "name": "stdout",
     "output_type": "stream",
     "text": [
      "              precision    recall  f1-score   support\n",
      "\n",
      "           0       1.00      1.00      1.00     34621\n",
      "           1       0.78      0.31      0.45       197\n",
      "\n",
      "    accuracy                           1.00     34818\n",
      "   macro avg       0.89      0.66      0.72     34818\n",
      "weighted avg       0.99      1.00      0.99     34818\n",
      "\n"
     ]
    }
   ],
   "source": [
    "from sklearn.metrics import classification_report\n",
    "z=classification_report(y_test,y_pred)\n",
    "print(z)"
   ]
  },
  {
   "cell_type": "code",
   "execution_count": 92,
   "metadata": {},
   "outputs": [
    {
     "data": {
      "image/png": "[encoded data removed]",
      "text/plain": [
       "<Figure size 432x288 with 1 Axes>"
      ]
     },
     "metadata": {
      "needs_background": "light"
     },
     "output_type": "display_data"
    }
   ],
   "source": [
    "from sklearn.metrics import roc_auc_score, roc_curve\n",
    "\n",
    "auc = roc_auc_score(y_test, y_pred)\n",
    "fpr, tpr, thresholds = roc_curve(y_test, y_pred)\n",
    "plt.figure()\n",
    "plt.plot(fpr, tpr, label='Random Forest (area = %0.2f)' % auc)\n",
    "plt.plot([0, 1], [0, 1],'r--')\n",
    "plt.xlim([0.0, 1.0])\n",
    "plt.ylim([0.0, 1.05])\n",
    "plt.xlabel('False Positive Rate'), plt.ylabel('True Positive Rate'), plt.title('Receiver operating characteristic')\n",
    "plt.legend(loc=\"lower right\")\n",
    "# plt.savefig('Log_ROC')\n",
    "plt.show()"
   ]
  },
  {
   "cell_type": "code",
   "execution_count": null,
   "metadata": {},
   "outputs": [],
   "source": []
  },
  {
   "cell_type": "code",
   "execution_count": 93,
   "metadata": {
    "scrolled": true
   },
   "outputs": [],
   "source": [
    "knn= KNeighborsClassifier()\n",
    "knn.fit(x_train,y_train)\n",
    "y_pred=knn.predict(x_test)"
   ]
  },
  {
   "cell_type": "code",
   "execution_count": 94,
   "metadata": {},
   "outputs": [
    {
     "data": {
      "text/plain": [
       "array([0, 0, 0, ..., 0, 0, 0], dtype=int64)"
      ]
     },
     "execution_count": 94,
     "metadata": {},
     "output_type": "execute_result"
    }
   ],
   "source": [
    "y_pred"
   ]
  },
  {
   "cell_type": "code",
   "execution_count": 95,
   "metadata": {},
   "outputs": [
    {
     "data": {
      "text/plain": [
       "0.9946085672082717"
      ]
     },
     "execution_count": 95,
     "metadata": {},
     "output_type": "execute_result"
    }
   ],
   "source": [
    "knn.score(x_train,y_train)"
   ]
  },
  {
   "cell_type": "code",
   "execution_count": 96,
   "metadata": {},
   "outputs": [
    {
     "data": {
      "text/plain": [
       "0.9943420070078695"
      ]
     },
     "execution_count": 96,
     "metadata": {},
     "output_type": "execute_result"
    }
   ],
   "source": [
    "from sklearn.metrics import accuracy_score\n",
    "accuracy_score(y_test,y_pred)"
   ]
  },
  {
   "cell_type": "code",
   "execution_count": 97,
   "metadata": {},
   "outputs": [
    {
     "data": {
      "text/plain": [
       "array([[34621,     0],\n",
       "       [  197,     0]], dtype=int64)"
      ]
     },
     "execution_count": 97,
     "metadata": {},
     "output_type": "execute_result"
    }
   ],
   "source": [
    "from sklearn.metrics import confusion_matrix\n",
    "confusion_matrix(y_test,y_pred)"
   ]
  },
  {
   "cell_type": "code",
   "execution_count": 98,
   "metadata": {},
   "outputs": [
    {
     "name": "stdout",
     "output_type": "stream",
     "text": [
      "              precision    recall  f1-score   support\n",
      "\n",
      "           0       0.99      1.00      1.00     34621\n",
      "           1       0.00      0.00      0.00       197\n",
      "\n",
      "    accuracy                           0.99     34818\n",
      "   macro avg       0.50      0.50      0.50     34818\n",
      "weighted avg       0.99      0.99      0.99     34818\n",
      "\n"
     ]
    }
   ],
   "source": [
    "from sklearn.metrics import classification_report\n",
    "z=classification_report(y_test,y_pred)\n",
    "print(z)"
   ]
  },
  {
   "cell_type": "code",
   "execution_count": 99,
   "metadata": {},
   "outputs": [
    {
     "data": {
      "image/png": "[encoded data removed]",
      "text/plain": [
       "<Figure size 432x288 with 1 Axes>"
      ]
     },
     "metadata": {
      "needs_background": "light"
     },
     "output_type": "display_data"
    }
   ],
   "source": [
    "from sklearn.metrics import roc_auc_score, roc_curve\n",
    "\n",
    "auc = roc_auc_score(y_test, y_pred)\n",
    "fpr, tpr, thresholds = roc_curve(y_test, y_pred)\n",
    "plt.figure()\n",
    "plt.plot(fpr, tpr, label='KNN (area = %0.2f)' % auc)\n",
    "plt.plot([0, 1], [0, 1],'r--')\n",
    "plt.xlim([0.0, 1.0])\n",
    "plt.ylim([0.0, 1.05])\n",
    "plt.xlabel('False Positive Rate'), plt.ylabel('True Positive Rate'), plt.title('Receiver operating characteristic')\n",
    "plt.legend(loc=\"lower right\")\n",
    "# plt.savefig('Log_ROC')\n",
    "plt.show()"
   ]
  },
  {
   "cell_type": "code",
   "execution_count": null,
   "metadata": {},
   "outputs": [],
   "source": []
  },
  {
   "cell_type": "code",
   "execution_count": 100,
   "metadata": {
    "scrolled": true
   },
   "outputs": [],
   "source": [
    "nb=GaussianNB()\n",
    "nb.fit(x_train,y_train)\n",
    "y_pred=nb.predict(x_test)"
   ]
  },
  {
   "cell_type": "code",
   "execution_count": 101,
   "metadata": {},
   "outputs": [
    {
     "data": {
      "text/plain": [
       "array([0, 0, 0, ..., 0, 0, 0], dtype=int64)"
      ]
     },
     "execution_count": 101,
     "metadata": {},
     "output_type": "execute_result"
    }
   ],
   "source": [
    "y_pred"
   ]
  },
  {
   "cell_type": "code",
   "execution_count": 102,
   "metadata": {},
   "outputs": [
    {
     "data": {
      "text/plain": [
       "0.9942269817823732"
      ]
     },
     "execution_count": 102,
     "metadata": {},
     "output_type": "execute_result"
    }
   ],
   "source": [
    "nb.score(x_train,y_train)"
   ]
  },
  {
   "cell_type": "code",
   "execution_count": 103,
   "metadata": {},
   "outputs": [
    {
     "data": {
      "text/plain": [
       "0.9939973576885519"
      ]
     },
     "execution_count": 103,
     "metadata": {},
     "output_type": "execute_result"
    }
   ],
   "source": [
    "from sklearn.metrics import accuracy_score\n",
    "accuracy_score(y_test,y_pred)"
   ]
  },
  {
   "cell_type": "code",
   "execution_count": 104,
   "metadata": {},
   "outputs": [
    {
     "data": {
      "text/plain": [
       "array([[34604,    17],\n",
       "       [  192,     5]], dtype=int64)"
      ]
     },
     "execution_count": 104,
     "metadata": {},
     "output_type": "execute_result"
    }
   ],
   "source": [
    "from sklearn.metrics import confusion_matrix\n",
    "confusion_matrix(y_test,y_pred)"
   ]
  },
  {
   "cell_type": "code",
   "execution_count": 105,
   "metadata": {},
   "outputs": [
    {
     "name": "stdout",
     "output_type": "stream",
     "text": [
      "              precision    recall  f1-score   support\n",
      "\n",
      "           0       0.99      1.00      1.00     34621\n",
      "           1       0.23      0.03      0.05       197\n",
      "\n",
      "    accuracy                           0.99     34818\n",
      "   macro avg       0.61      0.51      0.52     34818\n",
      "weighted avg       0.99      0.99      0.99     34818\n",
      "\n"
     ]
    }
   ],
   "source": [
    "from sklearn.metrics import classification_report\n",
    "z=classification_report(y_test,y_pred)\n",
    "print(z)"
   ]
  },
  {
   "cell_type": "code",
   "execution_count": 106,
   "metadata": {},
   "outputs": [
    {
     "data": {
      "image/png": "[encoded data removed]",
      "text/plain": [
       "<Figure size 432x288 with 1 Axes>"
      ]
     },
     "metadata": {
      "needs_background": "light"
     },
     "output_type": "display_data"
    }
   ],
   "source": [
    "from sklearn.metrics import roc_auc_score, roc_curve\n",
    "\n",
    "auc = roc_auc_score(y_test, y_pred)\n",
    "fpr, tpr, thresholds = roc_curve(y_test, y_pred)\n",
    "plt.figure()\n",
    "plt.plot(fpr, tpr, label='Naive Bayes (area = %0.2f)' % auc)\n",
    "plt.plot([0, 1], [0, 1],'r--')\n",
    "plt.xlim([0.0, 1.0])\n",
    "plt.ylim([0.0, 1.05])\n",
    "plt.xlabel('False Positive Rate'), plt.ylabel('True Positive Rate'), plt.title('Receiver operating characteristic')\n",
    "plt.legend(loc=\"lower right\")\n",
    "# plt.savefig('Log_ROC')\n",
    "plt.show()"
   ]
  },
  {
   "cell_type": "code",
   "execution_count": null,
   "metadata": {},
   "outputs": [],
   "source": []
  },
  {
   "cell_type": "code",
   "execution_count": null,
   "metadata": {},
   "outputs": [],
   "source": []
  },
  {
   "cell_type": "code",
   "execution_count": 107,
   "metadata": {
    "scrolled": true
   },
   "outputs": [],
   "source": [
    "gb=GradientBoostingClassifier()\n",
    "gb.fit(x_train,y_train)\n",
    "y_pred=gb.predict(x_test)"
   ]
  },
  {
   "cell_type": "code",
   "execution_count": 108,
   "metadata": {},
   "outputs": [
    {
     "data": {
      "text/plain": [
       "array([0, 0, 0, ..., 0, 0, 0], dtype=int64)"
      ]
     },
     "execution_count": 108,
     "metadata": {},
     "output_type": "execute_result"
    }
   ],
   "source": [
    "y_pred"
   ]
  },
  {
   "cell_type": "code",
   "execution_count": 109,
   "metadata": {},
   "outputs": [
    {
     "data": {
      "text/plain": [
       "0.9942269817823732"
      ]
     },
     "execution_count": 109,
     "metadata": {},
     "output_type": "execute_result"
    }
   ],
   "source": [
    "nb.score(x_train,y_train)"
   ]
  },
  {
   "cell_type": "code",
   "execution_count": 110,
   "metadata": {},
   "outputs": [
    {
     "data": {
      "text/plain": [
       "0.9955482796254811"
      ]
     },
     "execution_count": 110,
     "metadata": {},
     "output_type": "execute_result"
    }
   ],
   "source": [
    "from sklearn.metrics import accuracy_score\n",
    "accuracy_score(y_test,y_pred)"
   ]
  },
  {
   "cell_type": "code",
   "execution_count": 111,
   "metadata": {},
   "outputs": [
    {
     "data": {
      "text/plain": [
       "array([[34599,    22],\n",
       "       [  133,    64]], dtype=int64)"
      ]
     },
     "execution_count": 111,
     "metadata": {},
     "output_type": "execute_result"
    }
   ],
   "source": [
    "from sklearn.metrics import confusion_matrix\n",
    "confusion_matrix(y_test,y_pred)"
   ]
  },
  {
   "cell_type": "code",
   "execution_count": 112,
   "metadata": {},
   "outputs": [
    {
     "name": "stdout",
     "output_type": "stream",
     "text": [
      "              precision    recall  f1-score   support\n",
      "\n",
      "           0       1.00      1.00      1.00     34621\n",
      "           1       0.74      0.32      0.45       197\n",
      "\n",
      "    accuracy                           1.00     34818\n",
      "   macro avg       0.87      0.66      0.73     34818\n",
      "weighted avg       0.99      1.00      0.99     34818\n",
      "\n"
     ]
    }
   ],
   "source": [
    "from sklearn.metrics import classification_report\n",
    "z=classification_report(y_test,y_pred)\n",
    "print(z)"
   ]
  },
  {
   "cell_type": "code",
   "execution_count": 113,
   "metadata": {},
   "outputs": [
    {
     "data": {
      "image/png": "[encoded data removed]",
      "text/plain": [
       "<Figure size 432x288 with 1 Axes>"
      ]
     },
     "metadata": {
      "needs_background": "light"
     },
     "output_type": "display_data"
    }
   ],
   "source": [
    "from sklearn.metrics import roc_auc_score, roc_curve\n",
    "\n",
    "auc = roc_auc_score(y_test, y_pred)\n",
    "fpr, tpr, thresholds = roc_curve(y_test, y_pred)\n",
    "plt.figure()\n",
    "plt.plot(fpr, tpr, label='gradient boost (area = %0.2f)' % auc)\n",
    "plt.plot([0, 1], [0, 1],'r--')\n",
    "plt.xlim([0.0, 1.0])\n",
    "plt.ylim([0.0, 1.05])\n",
    "plt.xlabel('False Positive Rate'), plt.ylabel('True Positive Rate'), plt.title('Receiver operating characteristic')\n",
    "plt.legend(loc=\"lower right\")\n",
    "# plt.savefig('Log_ROC')\n",
    "plt.show()"
   ]
  },
  {
   "cell_type": "code",
   "execution_count": null,
   "metadata": {},
   "outputs": [],
   "source": []
  },
  {
   "cell_type": "code",
   "execution_count": null,
   "metadata": {},
   "outputs": [],
   "source": []
  },
  {
   "cell_type": "code",
   "execution_count": 114,
   "metadata": {
    "scrolled": true
   },
   "outputs": [],
   "source": [
    "adb=AdaBoostClassifier()\n",
    "adb.fit(x_train,y_train)\n",
    "y_pred=adb.predict(x_test)"
   ]
  },
  {
   "cell_type": "code",
   "execution_count": 115,
   "metadata": {},
   "outputs": [
    {
     "data": {
      "text/plain": [
       "array([0, 0, 0, ..., 0, 0, 0], dtype=int64)"
      ]
     },
     "execution_count": 115,
     "metadata": {},
     "output_type": "execute_result"
    }
   ],
   "source": [
    "y_pred"
   ]
  },
  {
   "cell_type": "code",
   "execution_count": 116,
   "metadata": {},
   "outputs": [
    {
     "data": {
      "text/plain": [
       "0.9942269817823732"
      ]
     },
     "execution_count": 116,
     "metadata": {},
     "output_type": "execute_result"
    }
   ],
   "source": [
    "nb.score(x_train,y_train)"
   ]
  },
  {
   "cell_type": "code",
   "execution_count": 117,
   "metadata": {},
   "outputs": [
    {
     "data": {
      "text/plain": [
       "0.9956631627319202"
      ]
     },
     "execution_count": 117,
     "metadata": {},
     "output_type": "execute_result"
    }
   ],
   "source": [
    "from sklearn.metrics import accuracy_score\n",
    "accuracy_score(y_test,y_pred)"
   ]
  },
  {
   "cell_type": "code",
   "execution_count": 118,
   "metadata": {},
   "outputs": [
    {
     "data": {
      "text/plain": [
       "array([[34597,    24],\n",
       "       [  127,    70]], dtype=int64)"
      ]
     },
     "execution_count": 118,
     "metadata": {},
     "output_type": "execute_result"
    }
   ],
   "source": [
    "from sklearn.metrics import confusion_matrix\n",
    "confusion_matrix(y_test,y_pred)"
   ]
  },
  {
   "cell_type": "code",
   "execution_count": 119,
   "metadata": {},
   "outputs": [
    {
     "name": "stdout",
     "output_type": "stream",
     "text": [
      "              precision    recall  f1-score   support\n",
      "\n",
      "           0       1.00      1.00      1.00     34621\n",
      "           1       0.74      0.36      0.48       197\n",
      "\n",
      "    accuracy                           1.00     34818\n",
      "   macro avg       0.87      0.68      0.74     34818\n",
      "weighted avg       0.99      1.00      0.99     34818\n",
      "\n"
     ]
    }
   ],
   "source": [
    "from sklearn.metrics import classification_report\n",
    "z=classification_report(y_test,y_pred)\n",
    "print(z)"
   ]
  },
  {
   "cell_type": "code",
   "execution_count": 120,
   "metadata": {},
   "outputs": [
    {
     "data": {
      "image/png": "[encoded data removed]",
      "text/plain": [
       "<Figure size 432x288 with 1 Axes>"
      ]
     },
     "metadata": {
      "needs_background": "light"
     },
     "output_type": "display_data"
    }
   ],
   "source": [
    "from sklearn.metrics import roc_auc_score, roc_curve\n",
    "\n",
    "auc = roc_auc_score(y_test, y_pred)\n",
    "fpr, tpr, thresholds = roc_curve(y_test, y_pred)\n",
    "plt.figure()\n",
    "plt.plot(fpr, tpr, label='Adaboost Claassifier (area = %0.2f)' % auc)\n",
    "plt.plot([0, 1], [0, 1],'r--')\n",
    "plt.xlim([0.0, 1.0])\n",
    "plt.ylim([0.0, 1.05])\n",
    "plt.xlabel('False Positive Rate'), plt.ylabel('True Positive Rate'), plt.title('Receiver operating characteristic')\n",
    "plt.legend(loc=\"lower right\")\n",
    "# plt.savefig('Log_ROC')\n",
    "plt.show()"
   ]
  },
  {
   "cell_type": "code",
   "execution_count": null,
   "metadata": {},
   "outputs": [],
   "source": []
  },
  {
   "cell_type": "code",
   "execution_count": 121,
   "metadata": {},
   "outputs": [
    {
     "data": {
      "text/plain": [
       "((161602, 10), (161602,))"
      ]
     },
     "execution_count": 121,
     "metadata": {},
     "output_type": "execute_result"
    }
   ],
   "source": [
    "from imblearn.over_sampling import SMOTE\n",
    "\n",
    "smote = SMOTE(random_state = 42)\n",
    "x_train, y_train = smote.fit_sample(x_train, y_train)\n",
    "x_train.shape, y_train.shape"
   ]
  },
  {
   "cell_type": "code",
   "execution_count": 122,
   "metadata": {},
   "outputs": [
    {
     "data": {
      "text/plain": [
       "(34818, 10)"
      ]
     },
     "execution_count": 122,
     "metadata": {},
     "output_type": "execute_result"
    }
   ],
   "source": [
    "x_test.shape"
   ]
  },
  {
   "cell_type": "code",
   "execution_count": 123,
   "metadata": {},
   "outputs": [
    {
     "data": {
      "text/plain": [
       "(34818,)"
      ]
     },
     "execution_count": 123,
     "metadata": {},
     "output_type": "execute_result"
    }
   ],
   "source": [
    "y_test.shape"
   ]
  },
  {
   "cell_type": "code",
   "execution_count": 125,
   "metadata": {},
   "outputs": [
    {
     "name": "stdout",
     "output_type": "stream",
     "text": [
      "f1_score: 0.41269841269841273\n",
      "Accuracy on train data: 0.9773517654484474\n",
      "Accuracy on test data: 0.9914986501234994\n"
     ]
    }
   ],
   "source": [
    "model = AdaBoostClassifier()\n",
    "model.fit(x_train, y_train) # training the model\n",
    "\n",
    "ypred = model.predict(x_test)\n",
    "\n",
    "print(\"f1_score:\",f1_score(y_test, model.predict(x_test))) # calculating f1 score\n",
    "print(\"Accuracy on train data:\",model.score(x_train,y_train))\n",
    "print(\"Accuracy on test data:\",model.score(x_test,y_test))"
   ]
  },
  {
   "cell_type": "code",
   "execution_count": 126,
   "metadata": {},
   "outputs": [
    {
     "data": {
      "text/html": [
       "<div>\n",
       "<style scoped>\n",
       "    .dataframe tbody tr th:only-of-type {\n",
       "        vertical-align: middle;\n",
       "    }\n",
       "\n",
       "    .dataframe tbody tr th {\n",
       "        vertical-align: top;\n",
       "    }\n",
       "\n",
       "    .dataframe thead th {\n",
       "        text-align: right;\n",
       "    }\n",
       "</style>\n",
       "<table border=\"1\" class=\"dataframe\">\n",
       "  <thead>\n",
       "    <tr style=\"text-align: right;\">\n",
       "      <th>m13</th>\n",
       "      <th>0</th>\n",
       "      <th>1</th>\n",
       "    </tr>\n",
       "    <tr>\n",
       "      <th>row_0</th>\n",
       "      <th></th>\n",
       "      <th></th>\n",
       "    </tr>\n",
       "  </thead>\n",
       "  <tbody>\n",
       "    <tr>\n",
       "      <th>0</th>\n",
       "      <td>34418</td>\n",
       "      <td>93</td>\n",
       "    </tr>\n",
       "    <tr>\n",
       "      <th>1</th>\n",
       "      <td>203</td>\n",
       "      <td>104</td>\n",
       "    </tr>\n",
       "  </tbody>\n",
       "</table>\n",
       "</div>"
      ],
      "text/plain": [
       "m13        0    1\n",
       "row_0            \n",
       "0      34418   93\n",
       "1        203  104"
      ]
     },
     "execution_count": 126,
     "metadata": {},
     "output_type": "execute_result"
    }
   ],
   "source": [
    "pd.crosstab(ypred,y_test)"
   ]
  },
  {
   "cell_type": "code",
   "execution_count": 127,
   "metadata": {},
   "outputs": [
    {
     "name": "stdout",
     "output_type": "stream",
     "text": [
      "              precision    recall  f1-score   support\n",
      "\n",
      "           0       1.00      0.99      1.00     34621\n",
      "           1       0.34      0.53      0.41       197\n",
      "\n",
      "    accuracy                           0.99     34818\n",
      "   macro avg       0.67      0.76      0.70     34818\n",
      "weighted avg       0.99      0.99      0.99     34818\n",
      "\n"
     ]
    }
   ],
   "source": [
    "print(classification_report(y_test,ypred))"
   ]
  },
  {
   "cell_type": "code",
   "execution_count": 129,
   "metadata": {},
   "outputs": [
    {
     "name": "stdout",
     "output_type": "stream",
     "text": [
      "f1_score: 0.410958904109589\n",
      "Accuracy on train data: 0.9810645907847675\n",
      "Accuracy on test data: 0.9913550462404503\n"
     ]
    }
   ],
   "source": [
    "model = GradientBoostingClassifier()\n",
    "model.fit(x_train, y_train) # training the model\n",
    "\n",
    "ypred = model.predict(x_test)\n",
    "\n",
    "print(\"f1_score:\",f1_score(y_test, model.predict(x_test))) # calculating f1 score\n",
    "print(\"Accuracy on train data:\",model.score(x_train,y_train))\n",
    "print(\"Accuracy on test data:\",model.score(x_test,y_test))"
   ]
  },
  {
   "cell_type": "code",
   "execution_count": 130,
   "metadata": {},
   "outputs": [
    {
     "name": "stdout",
     "output_type": "stream",
     "text": [
      "              precision    recall  f1-score   support\n",
      "\n",
      "           0       1.00      0.99      1.00     34621\n",
      "           1       0.33      0.53      0.41       197\n",
      "\n",
      "    accuracy                           0.99     34818\n",
      "   macro avg       0.67      0.76      0.70     34818\n",
      "weighted avg       0.99      0.99      0.99     34818\n",
      "\n"
     ]
    }
   ],
   "source": [
    "print(classification_report(y_test,ypred))"
   ]
  },
  {
   "cell_type": "code",
   "execution_count": 131,
   "metadata": {},
   "outputs": [
    {
     "name": "stdout",
     "output_type": "stream",
     "text": [
      "f1_score: 0.47318611987381703\n",
      "Accuracy on train data: 0.9996658457197312\n",
      "Accuracy on test data: 0.9952036303061634\n"
     ]
    }
   ],
   "source": [
    "model = RandomForestClassifier()\n",
    "model.fit(x_train, y_train) # training the model\n",
    "\n",
    "ypred = model.predict(x_test)\n",
    "\n",
    "print(\"f1_score:\",f1_score(y_test, model.predict(x_test))) # calculating f1 score\n",
    "print(\"Accuracy on train data:\",model.score(x_train,y_train))\n",
    "print(\"Accuracy on test data:\",model.score(x_test,y_test))"
   ]
  },
  {
   "cell_type": "code",
   "execution_count": 132,
   "metadata": {},
   "outputs": [
    {
     "name": "stdout",
     "output_type": "stream",
     "text": [
      "              precision    recall  f1-score   support\n",
      "\n",
      "           0       1.00      1.00      1.00     34621\n",
      "           1       0.62      0.38      0.47       197\n",
      "\n",
      "    accuracy                           1.00     34818\n",
      "   macro avg       0.81      0.69      0.74     34818\n",
      "weighted avg       0.99      1.00      0.99     34818\n",
      "\n"
     ]
    }
   ],
   "source": [
    "print(classification_report(y_test,ypred))"
   ]
  },
  {
   "cell_type": "code",
   "execution_count": 133,
   "metadata": {},
   "outputs": [
    {
     "name": "stdout",
     "output_type": "stream",
     "text": [
      "f1_score: 0.47282608695652173\n",
      "Accuracy on train data: 0.9803529659286395\n",
      "Accuracy on test data: 0.9944281693376988\n"
     ]
    }
   ],
   "source": [
    "model = RandomForestClassifier(criterion ='entropy', max_depth = 10, max_features ='auto',\n",
    "                            n_estimators = 100, class_weight='balanced', n_jobs=-1, random_state=42 )\n",
    "\n",
    "model.fit(x_train, y_train) # training the model\n",
    "\n",
    "ypred = model.predict(x_test)\n",
    "\n",
    "print(\"f1_score:\",f1_score(y_test, model.predict(x_test))) # calculating f1 score\n",
    "print(\"Accuracy on train data:\",model.score(x_train,y_train))\n",
    "print(\"Accuracy on test data:\",model.score(x_test,y_test))"
   ]
  },
  {
   "cell_type": "code",
   "execution_count": 134,
   "metadata": {},
   "outputs": [
    {
     "name": "stdout",
     "output_type": "stream",
     "text": [
      "              precision    recall  f1-score   support\n",
      "\n",
      "           0       1.00      1.00      1.00     34621\n",
      "           1       0.51      0.44      0.47       197\n",
      "\n",
      "    accuracy                           0.99     34818\n",
      "   macro avg       0.75      0.72      0.74     34818\n",
      "weighted avg       0.99      0.99      0.99     34818\n",
      "\n"
     ]
    }
   ],
   "source": [
    "print(classification_report(y_test,ypred))"
   ]
  },
  {
   "cell_type": "code",
   "execution_count": null,
   "metadata": {},
   "outputs": [],
   "source": []
  },
  {
   "cell_type": "code",
   "execution_count": null,
   "metadata": {},
   "outputs": [],
   "source": []
  },
  {
   "cell_type": "code",
   "execution_count": null,
   "metadata": {},
   "outputs": [],
   "source": []
  },
  {
   "cell_type": "code",
   "execution_count": null,
   "metadata": {},
   "outputs": [],
   "source": []
  },
  {
   "cell_type": "code",
   "execution_count": null,
   "metadata": {},
   "outputs": [],
   "source": []
  }
 ],
 "metadata": {
  "kernelspec": {
   "display_name": "Python 3",
   "language": "python",
   "name": "python3"
  },
  "language_info": {
   "codemirror_mode": {
    "name": "ipython",
    "version": 3
   },
   "file_extension": ".py",
   "mimetype": "text/x-python",
   "name": "python",
   "nbconvert_exporter": "python",
   "pygments_lexer": "ipython3",
   "version": "3.7.1"
  }
 },
 "nbformat": 4,
 "nbformat_minor": 2
}
